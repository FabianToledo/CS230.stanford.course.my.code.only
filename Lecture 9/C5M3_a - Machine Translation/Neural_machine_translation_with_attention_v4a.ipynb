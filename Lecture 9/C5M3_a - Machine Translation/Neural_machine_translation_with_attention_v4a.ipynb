{
 "cells": [
  {
   "cell_type": "markdown",
   "metadata": {},
   "source": [
    "# Neural Machine Translation\n",
    "\n",
    "Welcome to your first programming assignment for this week! \n",
    "\n",
    "* You will build a Neural Machine Translation (NMT) model to translate human-readable dates (\"25th of June, 2009\") into machine-readable dates (\"2009-06-25\"). \n",
    "* You will do this using an attention model, one of the most sophisticated sequence-to-sequence models. \n",
    "\n",
    "This notebook was produced together with NVIDIA's Deep Learning Institute. "
   ]
  },
  {
   "cell_type": "markdown",
   "metadata": {},
   "source": [
    "## <font color='darkblue'>Updates</font>\n",
    "\n",
    "#### If you were working on the notebook before this update...\n",
    "* The current notebook is version \"4a\".\n",
    "* You can find your original work saved in the notebook with the previous version name (\"v4\") \n",
    "* To view the file directory, go to the menu \"File->Open\", and this will open a new tab that shows the file directory.\n",
    "\n",
    "#### List of updates\n",
    "* Clarified names of variables to be consistent with the lectures and consistent within the assignment\n",
    "    - pre-attention bi-directional LSTM: the first LSTM that processes the input data.\n",
    "        - 'a': the hidden state of the pre-attention LSTM.\n",
    "    - post-attention LSTM: the LSTM that outputs the translation.\n",
    "        - 's': the hidden state of the post-attention LSTM.\n",
    "    - energies \"e\".  The output of the dense function that takes \"a\" and \"s\" as inputs.\n",
    "    - All references to \"output activation\" are updated to \"hidden state\".\n",
    "    - \"post-activation\" sequence model is updated to \"post-attention sequence model\".\n",
    "    - 3.1: \"Getting the activations from the Network\" renamed to \"Getting the attention weights from the network.\"\n",
    "    - Appropriate mentions of \"activation\" replaced \"attention weights.\"\n",
    "    - Sequence of alphas corrected to be a sequence of \"a\" hidden states.\n",
    "* one_step_attention:\n",
    "    - Provides sample code for each Keras layer, to show how to call the functions.\n",
    "    - Reminds students to provide the list of hidden states in a specific order, in order to pause the autograder.\n",
    "* model\n",
    "    - Provides sample code for each Keras layer, to show how to call the functions.\n",
    "    - Added a troubleshooting note about handling errors.\n",
    "    - Fixed typo: outputs should be of length 10 and not 11.\n",
    "* define optimizer and compile model\n",
    "    - Provides sample code for each Keras layer, to show how to call the functions.\n",
    "\n",
    "* Spelling, grammar and wording corrections."
   ]
  },
  {
   "cell_type": "markdown",
   "metadata": {},
   "source": [
    "Let's load all the packages you will need for this assignment."
   ]
  },
  {
   "cell_type": "code",
   "execution_count": 1,
   "metadata": {},
   "outputs": [],
   "source": [
    "from keras.layers import Bidirectional, Concatenate, Permute, Dot, Input, LSTM, Multiply\n",
    "from keras.layers import RepeatVector, Dense, Activation, Lambda\n",
    "from keras.optimizers import Adam\n",
    "from keras.utils import to_categorical\n",
    "from keras.models import load_model, Model\n",
    "import keras.backend as K\n",
    "import numpy as np\n",
    "\n",
    "from faker import Faker\n",
    "import random\n",
    "from tqdm import tqdm\n",
    "from babel.dates import format_date\n",
    "from nmt_utils import *\n",
    "import matplotlib.pyplot as plt\n",
    "%matplotlib inline"
   ]
  },
  {
   "cell_type": "markdown",
   "metadata": {},
   "source": [
    "## 1 - Translating human readable dates into machine readable dates\n",
    "\n",
    "* The model you will build here could be used to translate from one language to another, such as translating from English to Hindi. \n",
    "* However, language translation requires massive datasets and usually takes days of training on GPUs. \n",
    "* To give you a place to experiment with these models without using massive datasets, we will perform a simpler \"date translation\" task. \n",
    "* The network will input a date written in a variety of possible formats (*e.g. \"the 29th of August 1958\", \"03/30/1968\", \"24 JUNE 1987\"*) \n",
    "* The network will translate them into standardized, machine readable dates (*e.g. \"1958-08-29\", \"1968-03-30\", \"1987-06-24\"*). \n",
    "* We will have the network learn to output dates in the common machine-readable format YYYY-MM-DD. \n",
    "\n",
    "<!-- \n",
    "Take a look at [nmt_utils.py](./nmt_utils.py) to see all the formatting. Count and figure out how the formats work, you will need this knowledge later. !--> "
   ]
  },
  {
   "cell_type": "markdown",
   "metadata": {},
   "source": [
    "### 1.1 - Dataset\n",
    "\n",
    "We will train the model on a dataset of 10,000 human readable dates and their equivalent, standardized, machine readable dates. Let's run the following cells to load the dataset and print some examples. "
   ]
  },
  {
   "cell_type": "code",
   "execution_count": 2,
   "metadata": {},
   "outputs": [
    {
     "name": "stderr",
     "output_type": "stream",
     "text": [
      "100%|█████████████████████████████████████████████████████████████████████████| 10000/10000 [00:00<00:00, 20967.86it/s]\n"
     ]
    }
   ],
   "source": [
    "m = 10000\n",
    "dataset, human_vocab, machine_vocab, inv_machine_vocab = load_dataset(m)"
   ]
  },
  {
   "cell_type": "code",
   "execution_count": 3,
   "metadata": {},
   "outputs": [
    {
     "data": {
      "text/plain": [
       "[('9 may 1998', '1998-05-09'),\n",
       " ('10.11.19', '2019-11-10'),\n",
       " ('9/10/70', '1970-09-10'),\n",
       " ('saturday april 28 1990', '1990-04-28'),\n",
       " ('thursday january 26 1995', '1995-01-26'),\n",
       " ('monday march 7 1983', '1983-03-07'),\n",
       " ('sunday may 22 1988', '1988-05-22'),\n",
       " ('08 jul 2008', '2008-07-08'),\n",
       " ('8 sep 1999', '1999-09-08'),\n",
       " ('thursday january 1 1981', '1981-01-01')]"
      ]
     },
     "execution_count": 3,
     "metadata": {},
     "output_type": "execute_result"
    }
   ],
   "source": [
    "dataset[:10]"
   ]
  },
  {
   "cell_type": "code",
   "execution_count": 4,
   "metadata": {},
   "outputs": [
    {
     "name": "stdout",
     "output_type": "stream",
     "text": [
      "37\n",
      "(' ', 0)\n",
      "('.', 1)\n",
      "('/', 2)\n",
      "('0', 3)\n",
      "('1', 4)\n",
      "('2', 5)\n"
     ]
    }
   ],
   "source": [
    "print(len(human_vocab))\n",
    "for i, w in enumerate(human_vocab.items()):\n",
    "    print(w)\n",
    "    if i == 5: break"
   ]
  },
  {
   "cell_type": "code",
   "execution_count": 5,
   "metadata": {},
   "outputs": [
    {
     "name": "stdout",
     "output_type": "stream",
     "text": [
      "11\n",
      "('-', 0)\n",
      "('0', 1)\n",
      "('1', 2)\n",
      "('2', 3)\n",
      "('3', 4)\n",
      "('4', 5)\n",
      "\n",
      "11\n",
      "(0, '-')\n",
      "(1, '0')\n",
      "(2, '1')\n",
      "(3, '2')\n",
      "(4, '3')\n",
      "(5, '4')\n"
     ]
    }
   ],
   "source": [
    "print(len(machine_vocab))\n",
    "for i, w in enumerate(machine_vocab.items()):\n",
    "    print(w)\n",
    "    if i == 5: break\n",
    "print(\"\")\n",
    "print(len(inv_machine_vocab))\n",
    "for i, w in enumerate(inv_machine_vocab.items()):\n",
    "    print(w)\n",
    "    if i == 5: break"
   ]
  },
  {
   "cell_type": "markdown",
   "metadata": {},
   "source": [
    "You've loaded:\n",
    "- `dataset`: a list of tuples of (human readable date, machine readable date).\n",
    "- `human_vocab`: a python dictionary mapping all characters used in the human readable dates to an integer-valued index.\n",
    "- `machine_vocab`: a python dictionary mapping all characters used in machine readable dates to an integer-valued index. \n",
    "    - **Note**: These indices are not necessarily consistent with `human_vocab`. \n",
    "- `inv_machine_vocab`: the inverse dictionary of `machine_vocab`, mapping from indices back to characters. \n",
    "\n",
    "Let's preprocess the data and map the raw text data into the index values. \n",
    "- We will set Tx=30 \n",
    "    - We assume Tx is the maximum length of the human readable date.\n",
    "    - If we get a longer input, we would have to truncate it.\n",
    "- We will set Ty=10\n",
    "    - \"YYYY-MM-DD\" is 10 characters long."
   ]
  },
  {
   "cell_type": "code",
   "execution_count": 6,
   "metadata": {},
   "outputs": [
    {
     "name": "stdout",
     "output_type": "stream",
     "text": [
      "X.shape: (10000, 30)\n",
      "Y.shape: (10000, 10)\n",
      "Xoh.shape: (10000, 30, 37)\n",
      "Yoh.shape: (10000, 10, 11)\n"
     ]
    }
   ],
   "source": [
    "Tx = 30\n",
    "Ty = 10\n",
    "X, Y, Xoh, Yoh = preprocess_data(dataset, human_vocab, machine_vocab, Tx, Ty)\n",
    "\n",
    "print(\"X.shape:\", X.shape)\n",
    "print(\"Y.shape:\", Y.shape)\n",
    "print(\"Xoh.shape:\", Xoh.shape)\n",
    "print(\"Yoh.shape:\", Yoh.shape)"
   ]
  },
  {
   "cell_type": "markdown",
   "metadata": {},
   "source": [
    "You now have:\n",
    "- `X`: a processed version of the human readable dates in the training set.\n",
    "    - Each character in X is replaced by an index (integer) mapped to the character using `human_vocab`. \n",
    "    - Each date is padded to ensure a length of $T_x$ using a special character (< pad >). \n",
    "    - `X.shape = (m, Tx)` where m is the number of training examples in a batch.\n",
    "- `Y`: a processed version of the machine readable dates in the training set.\n",
    "    - Each character is replaced by the index (integer) it is mapped to in `machine_vocab`. \n",
    "    - `Y.shape = (m, Ty)`. \n",
    "- `Xoh`: one-hot version of `X`\n",
    "    - Each index in `X` is converted to the one-hot representation (if the index is 2, the one-hot version has the index position 2 set to 1, and the remaining positions are 0.\n",
    "    - `Xoh.shape = (m, Tx, len(human_vocab))`\n",
    "- `Yoh`: one-hot version of `Y`\n",
    "    - Each index in `Y` is converted to the one-hot representation. \n",
    "    - `Yoh.shape = (m, Tx, len(machine_vocab))`. \n",
    "    - `len(machine_vocab) = 11` since there are 10 numeric digits (0 to 9) and the `-` symbol."
   ]
  },
  {
   "cell_type": "markdown",
   "metadata": {},
   "source": [
    "* Let's also look at some examples of preprocessed training examples. \n",
    "* Feel free to play with `index` in the cell below to navigate the dataset and see how source/target dates are preprocessed. "
   ]
  },
  {
   "cell_type": "code",
   "execution_count": 7,
   "metadata": {},
   "outputs": [
    {
     "name": "stdout",
     "output_type": "stream",
     "text": [
      "Source date: monday march 7 1983\n",
      "Target date: 1983-03-07\n",
      "\n",
      "Source after preprocessing (indices):\n",
      " [24 26 25 16 13 34  0 24 13 28 15 20  0 10  0  4 12 11  6 36 36 36 36 36\n",
      " 36 36 36 36 36 36]\n",
      "Target after preprocessing (indices):\n",
      " [ 2 10  9  4  0  1  4  0  1  8]\n",
      "\n",
      "Source after preprocessing (one-hot) (30, 37):\n",
      " [[0. 0. 0. ... 0. 0. 0.]\n",
      " [0. 0. 0. ... 0. 0. 0.]\n",
      " [0. 0. 0. ... 0. 0. 0.]\n",
      " ...\n",
      " [0. 0. 0. ... 0. 0. 1.]\n",
      " [0. 0. 0. ... 0. 0. 1.]\n",
      " [0. 0. 0. ... 0. 0. 1.]]\n",
      "Target after preprocessing (one-hot) (10, 11):\n",
      " [[0. 0. 1. 0. 0. 0. 0. 0. 0. 0. 0.]\n",
      " [0. 0. 0. 0. 0. 0. 0. 0. 0. 0. 1.]\n",
      " [0. 0. 0. 0. 0. 0. 0. 0. 0. 1. 0.]\n",
      " [0. 0. 0. 0. 1. 0. 0. 0. 0. 0. 0.]\n",
      " [1. 0. 0. 0. 0. 0. 0. 0. 0. 0. 0.]\n",
      " [0. 1. 0. 0. 0. 0. 0. 0. 0. 0. 0.]\n",
      " [0. 0. 0. 0. 1. 0. 0. 0. 0. 0. 0.]\n",
      " [1. 0. 0. 0. 0. 0. 0. 0. 0. 0. 0.]\n",
      " [0. 1. 0. 0. 0. 0. 0. 0. 0. 0. 0.]\n",
      " [0. 0. 0. 0. 0. 0. 0. 0. 1. 0. 0.]]\n"
     ]
    }
   ],
   "source": [
    "index = 5\n",
    "print(\"Source date:\", dataset[index][0])\n",
    "print(\"Target date:\", dataset[index][1])\n",
    "print()\n",
    "print(\"Source after preprocessing (indices):\\n\", X[index])\n",
    "print(\"Target after preprocessing (indices):\\n\", Y[index])\n",
    "print()\n",
    "print(f\"Source after preprocessing (one-hot) {Xoh[index].shape}:\\n\", Xoh[index])\n",
    "print(f\"Target after preprocessing (one-hot) {Yoh[index].shape}:\\n\", Yoh[index])"
   ]
  },
  {
   "cell_type": "markdown",
   "metadata": {},
   "source": [
    "## 2 - Neural machine translation with attention\n",
    "\n",
    "* If you had to translate a book's paragraph from French to English, you would not read the whole paragraph, then close the book and translate. \n",
    "* Even during the translation process, you would read/re-read and focus on the parts of the French paragraph corresponding to the parts of the English you are writing down. \n",
    "* The attention mechanism tells a Neural Machine Translation model where it should pay attention to at any step. \n",
    "\n",
    "\n",
    "### 2.1 - Attention mechanism\n",
    "\n",
    "In this part, you will implement the attention mechanism presented in the lecture videos. \n",
    "* Here is a figure to remind you how the model works. \n",
    "    * The diagram on the left shows the attention model. \n",
    "    * The diagram on the right shows what one \"attention\" step does to calculate the attention variables $\\alpha^{\\langle t, t' \\rangle}$.\n",
    "    * The attention variables $\\alpha^{\\langle t, t' \\rangle}$ are used to compute the context variable $context^{\\langle t \\rangle}$ for each timestep in the output ($t=1, \\ldots, T_y$). \n",
    "\n",
    "<table>\n",
    "<td> \n",
    "<img src=\"images/attn_model.png\" style=\"width:500;height:500px;\"> <br>\n",
    "</td> \n",
    "<td> \n",
    "<img src=\"images/attn_mechanism.png\" style=\"width:500;height:500px;\"> <br>\n",
    "</td> \n",
    "</table>\n",
    "<caption><center> **Figure 1**: Neural machine translation with attention</center></caption>\n"
   ]
  },
  {
   "cell_type": "markdown",
   "metadata": {},
   "source": [
    "Here are some properties of the model that you may notice: \n",
    "\n",
    "#### Pre-attention and Post-attention LSTMs on both sides of the attention mechanism\n",
    "- There are two separate LSTMs in this model (see diagram on the left): pre-attention and post-attention LSTMs.\n",
    "- *Pre-attention* Bi-LSTM is the one at the bottom of the picture is a Bi-directional LSTM and comes *before* the attention mechanism.\n",
    "    - The attention mechanism is shown in the middle of the left-hand diagram.\n",
    "    - The pre-attention Bi-LSTM goes through $T_x$ time steps\n",
    "- *Post-attention* LSTM: at the top of the diagram comes *after* the attention mechanism. \n",
    "    - The post-attention LSTM goes through $T_y$ time steps. \n",
    "\n",
    "- The post-attention LSTM passes the hidden state $s^{\\langle t \\rangle}$ and cell state $c^{\\langle t \\rangle}$ from one time step to the next. "
   ]
  },
  {
   "cell_type": "markdown",
   "metadata": {},
   "source": [
    "#### An LSTM has both a hidden state and cell state\n",
    "* In the lecture videos, we were using only a basic RNN for the post-attention sequence model\n",
    "    * This means that the state captured by the RNN was outputting only the hidden state $s^{\\langle t\\rangle}$. \n",
    "* In this assignment, we are using an LSTM instead of a basic RNN.\n",
    "    * So the LSTM has both the hidden state $s^{\\langle t\\rangle}$ and the cell state $c^{\\langle t\\rangle}$. "
   ]
  },
  {
   "cell_type": "markdown",
   "metadata": {},
   "source": [
    "#### Each time step does not use predictions from the previous time step\n",
    "* Unlike previous text generation examples earlier in the course, in this model, the post-attention LSTM at time $t$ does not take the previous time step's prediction $y^{\\langle t-1 \\rangle}$ as input.\n",
    "* The post-attention LSTM at time 't' only takes the hidden state $s^{\\langle t\\rangle}$ and cell state $c^{\\langle t\\rangle}$ as input. \n",
    "* We have designed the model this way because unlike language generation (where adjacent characters are highly correlated) there isn't as strong a dependency between the previous character and the next character in a YYYY-MM-DD date."
   ]
  },
  {
   "cell_type": "markdown",
   "metadata": {},
   "source": [
    "#### Concatenation of hidden states from the forward and backward pre-attention LSTMs\n",
    "- $\\overrightarrow{a}^{\\langle t \\rangle}$: hidden state of the forward-direction, pre-attention LSTM.\n",
    "- $\\overleftarrow{a}^{\\langle t \\rangle}$: hidden state of the backward-direction, pre-attention LSTM.\n",
    "- $a^{\\langle t \\rangle} = [\\overrightarrow{a}^{\\langle t \\rangle}, \\overleftarrow{a}^{\\langle t \\rangle}]$: the concatenation of the activations of both the forward-direction $\\overrightarrow{a}^{\\langle t \\rangle}$ and backward-directions $\\overleftarrow{a}^{\\langle t \\rangle}$ of the pre-attention Bi-LSTM. "
   ]
  },
  {
   "cell_type": "markdown",
   "metadata": {},
   "source": [
    "#### Computing \"energies\" $e^{\\langle t, t' \\rangle}$ as a function of $s^{\\langle t-1 \\rangle}$ and $a^{\\langle t' \\rangle}$\n",
    "- Recall in the lesson videos \"Attention Model\", at time 6:45 to 8:16, the definition of \"e\" as a function of $s^{\\langle t-1 \\rangle}$ and $a^{\\langle t \\rangle}$.\n",
    "    - \"e\" is called the \"energies\" variable.\n",
    "    - $s^{\\langle t-1 \\rangle}$ is the hidden state of the post-attention LSTM\n",
    "    - $a^{\\langle t' \\rangle}$ is the hidden state of the pre-attention LSTM.\n",
    "    - $s^{\\langle t-1 \\rangle}$ and $a^{\\langle t \\rangle}$ are fed into a simple neural network, which learns the function to output $e^{\\langle t, t' \\rangle}$.\n",
    "    - $e^{\\langle t, t' \\rangle}$ is then used when computing the attention $\\alpha^{\\langle t, t' \\rangle}$ that $y^{\\langle t \\rangle}$ should pay to $a^{\\langle t' \\rangle}$."
   ]
  },
  {
   "cell_type": "markdown",
   "metadata": {},
   "source": [
    "- The diagram on the right of figure 1 uses a `RepeatVector` node to copy $s^{\\langle t-1 \\rangle}$'s value $T_x$ times.\n",
    "- Then it uses `Concatenation` to concatenate $s^{\\langle t-1 \\rangle}$ and $a^{\\langle t \\rangle}$.\n",
    "- The concatenation of $s^{\\langle t-1 \\rangle}$ and $a^{\\langle t \\rangle}$ is fed into a \"Dense\" layer, which computes $e^{\\langle t, t' \\rangle}$. \n",
    "- $e^{\\langle t, t' \\rangle}$ is then passed through a softmax to compute $\\alpha^{\\langle t, t' \\rangle}$.\n",
    "- Note that the diagram doesn't explicitly show variable $e^{\\langle t, t' \\rangle}$, but $e^{\\langle t, t' \\rangle}$ is above the Dense layer and below the Softmax layer in the diagram in the right half of figure 1.\n",
    "- We'll explain how to use `RepeatVector` and `Concatenation` in Keras below. "
   ]
  },
  {
   "cell_type": "markdown",
   "metadata": {},
   "source": [
    "### Implementation Details\n",
    "   \n",
    "Let's implement this neural translator. You will start by implementing two functions: `one_step_attention()` and `model()`.\n",
    "\n",
    "#### one_step_attention\n",
    "* The inputs to the one_step_attention at time step $t$ are:\n",
    "    - $[a^{<1>},a^{<2>}, ..., a^{<T_x>}]$: all hidden states of the pre-attention Bi-LSTM.\n",
    "    - $s^{<t-1>}$: the previous hidden state of the post-attention LSTM \n",
    "* one_step_attention computes:\n",
    "    - $[\\alpha^{<t,1>},\\alpha^{<t,2>}, ..., \\alpha^{<t,T_x>}]$: the attention weights\n",
    "    - $context^{ \\langle t \\rangle }$: the context vector:\n",
    "    \n",
    "$$context^{<t>} = \\sum_{t' = 1}^{T_x} \\alpha^{<t,t'>}a^{<t'>}\\tag{1}$$ \n",
    "\n",
    "##### Clarifying 'context' and 'c'\n",
    "- In the lecture videos, the context was denoted $c^{\\langle t \\rangle}$\n",
    "- In the assignment, we are calling the context $context^{\\langle t \\rangle}$.\n",
    "    - This is to avoid confusion with the post-attention LSTM's internal memory cell variable, which is also denoted $c^{\\langle t \\rangle}$."
   ]
  },
  {
   "cell_type": "markdown",
   "metadata": {},
   "source": [
    "#### Implement `one_step_attention`\n",
    "\n",
    "**Exercise**: Implement `one_step_attention()`. \n",
    "\n",
    "* The function `model()` will call the layers in `one_step_attention()` $T_y$ using a for-loop.\n",
    "* It is important that all $T_y$ copies have the same weights. \n",
    "    * It should not reinitialize the weights every time. \n",
    "    * In other words, all $T_y$ steps should have shared weights. \n",
    "* Here's how you can implement layers with shareable weights in Keras:\n",
    "    1. Define the layer objects in a variable scope that is outside of the `one_step_attention` function.  For example, defining the objects as global variables would work.\n",
    "        - Note that defining these variables inside the scope of the function `model` would technically work, since `model` will then call the `one_step_attention` function.  For the purposes of making grading and troubleshooting easier, we are defining these as global variables.  Note that the automatic grader will expect these to be global variables as well.\n",
    "    2. Call these objects when propagating the input.\n",
    "* We have defined the layers you need as global variables. \n",
    "    * Please run the following cells to create them. \n",
    "    * Please note that the automatic grader expects these global variables with the given variable names.  For grading purposes, please do not rename the global variables.\n",
    "* Please check the Keras documentation to learn more about these layers.  The layers are functions.  Below are examples of how to call these functions.\n",
    "    * [RepeatVector()](https://keras.io/layers/core/#repeatvector)\n",
    "```Python\n",
    "var_repeated = repeat_layer(var1)\n",
    "```\n",
    "    * [Concatenate()](https://keras.io/layers/merge/#concatenate)   \n",
    "```Python\n",
    "concatenated_vars = concatenate_layer([var1,var2,var3])\n",
    "```\n",
    "    * [Dense()](https://keras.io/layers/core/#dense)  \n",
    "```Python\n",
    "var_out = dense_layer(var_in)\n",
    "```\n",
    "    * [Activation()](https://keras.io/layers/core/#activation)  \n",
    "```Python\n",
    "activation = activation_layer(var_in)  \n",
    "```\n",
    "    * [Dot()](https://keras.io/layers/merge/#dot)  \n",
    "```Python\n",
    "dot_product = dot_layer([var1,var2])\n",
    "```"
   ]
  },
  {
   "cell_type": "code",
   "execution_count": 8,
   "metadata": {},
   "outputs": [],
   "source": [
    "# Defined shared layers as global variables\n",
    "repeator = RepeatVector(Tx)\n",
    "concatenator = Concatenate(axis=-1)\n",
    "densor1 = Dense(10, activation = \"tanh\")\n",
    "densor2 = Dense(1, activation = \"relu\")\n",
    "activator = Activation(softmax, name='attention_weights') # We are using a custom softmax(axis = 1) loaded in this notebook\n",
    "dotor = Dot(axes = 1)"
   ]
  },
  {
   "cell_type": "code",
   "execution_count": 9,
   "metadata": {},
   "outputs": [],
   "source": [
    "# GRADED FUNCTION: one_step_attention\n",
    "\n",
    "def one_step_attention(a, s_prev):\n",
    "    \"\"\"\n",
    "    Performs one step of attention: Outputs a context vector computed as a dot product of the attention weights\n",
    "    \"alphas\" and the hidden states \"a\" of the Bi-LSTM.\n",
    "    \n",
    "    Arguments:\n",
    "    a -- hidden state output of the Bi-LSTM, numpy-array of shape (m, Tx, 2*n_a)\n",
    "    s_prev -- previous hidden state of the (post-attention) LSTM, numpy-array of shape (m, n_s)\n",
    "    \n",
    "    Returns:\n",
    "    context -- context vector, input of the next (post-attention) LSTM cell\n",
    "    \"\"\"\n",
    "    \n",
    "    ### START CODE HERE ###\n",
    "    # Use repeator to repeat s_prev to be of shape (m, Tx, n_s) so that you can concatenate it with all hidden states \"a\" (≈ 1 line)\n",
    "    s_prev = repeator(s_prev)\n",
    "    # Use concatenator to concatenate a and s_prev on the last axis (≈ 1 line)\n",
    "    concat = concatenator([a, s_prev])\n",
    "    # Use densor1 to propagate concat through a small fully-connected neural network to compute the \"intermediate energies\" variable e. (≈1 lines)\n",
    "    e = densor1(concat)\n",
    "    # Use densor2 to propagate e through a small fully-connected neural network to compute the \"energies\" variable energies. (≈1 lines)\n",
    "    energies = densor2(e) \n",
    "    # Use \"activator\" on \"energies\" to compute the attention weights \"alphas\" (≈ 1 line)\n",
    "    alphas = activator(energies)\n",
    "    # Use dotor together with \"alphas\" and \"a\" to compute the context vector to be given to the next (post-attention) LSTM-cell (≈ 1 line)\n",
    "    context = dotor([alphas, a])\n",
    "    ### END CODE HERE ###\n",
    "    \n",
    "    return context"
   ]
  },
  {
   "cell_type": "markdown",
   "metadata": {},
   "source": [
    "You will be able to check the expected output of `one_step_attention()` after you've coded the `model()` function."
   ]
  },
  {
   "cell_type": "markdown",
   "metadata": {},
   "source": [
    "#### model\n",
    "* `model` first runs the input through a Bi-LSTM to get $[a^{<1>},a^{<2>}, ..., a^{<T_x>}]$. \n",
    "* Then, `model` calls `one_step_attention()` $T_y$ times using a `for` loop.  At each iteration of this loop:\n",
    "    - It gives the computed context vector $context^{<t>}$ to the post-attention LSTM.\n",
    "    - It runs the output of the post-attention LSTM through a dense layer with softmax activation.\n",
    "    - The softmax generates a prediction $\\hat{y}^{<t>}$. "
   ]
  },
  {
   "cell_type": "markdown",
   "metadata": {},
   "source": [
    "**Exercise**: Implement `model()` as explained in figure 1 and the text above. Again, we have defined global layers that will share weights to be used in `model()`."
   ]
  },
  {
   "cell_type": "code",
   "execution_count": 10,
   "metadata": {},
   "outputs": [],
   "source": [
    "n_a = 32 # number of units for the pre-attention, bi-directional LSTM's hidden state 'a'\n",
    "n_s = 64 # number of units for the post-attention LSTM's hidden state \"s\"\n",
    "\n",
    "# Please note, this is the post attention LSTM cell.  \n",
    "# For the purposes of passing the automatic grader\n",
    "# please do not modify this global variable.  This will be corrected once the automatic grader is also updated.\n",
    "post_activation_LSTM_cell = LSTM(n_s, return_state = True) # post-attention LSTM \n",
    "output_layer = Dense(len(machine_vocab), activation=softmax)"
   ]
  },
  {
   "cell_type": "markdown",
   "metadata": {},
   "source": [
    "Now you can use these layers $T_y$ times in a `for` loop to generate the outputs, and their parameters will not be reinitialized. You will have to carry out the following steps: \n",
    "\n",
    "1. Propagate the input `X` into a bi-directional LSTM.\n",
    "    * [Bidirectional](https://keras.io/layers/wrappers/#bidirectional) \n",
    "    * [LSTM](https://keras.io/layers/recurrent/#lstm)\n",
    "    * Remember that we want the LSTM to return a full sequence instead of just the last hidden state.  \n",
    "    \n",
    "Sample code:\n",
    "\n",
    "```Python\n",
    "sequence_of_hidden_states = Bidirectional(LSTM(units=..., return_sequences=...))(the_input_X)\n",
    "```\n",
    "    \n",
    "2. Iterate for $t = 0, \\cdots, T_y-1$: \n",
    "    1. Call `one_step_attention()`, passing in the sequence of hidden states $[a^{\\langle 1 \\rangle},a^{\\langle 2 \\rangle}, ..., a^{ \\langle T_x \\rangle}]$ from the pre-attention bi-directional LSTM, and the previous hidden state $s^{<t-1>}$ from the post-attention LSTM to calculate the context vector $context^{<t>}$.\n",
    "    2. Give $context^{<t>}$ to the post-attention LSTM cell. \n",
    "        - Remember to pass in the previous hidden-state $s^{\\langle t-1\\rangle}$ and cell-states $c^{\\langle t-1\\rangle}$ of this LSTM \n",
    "        * This outputs the new hidden state $s^{<t>}$ and the new cell state $c^{<t>}$.  \n",
    "\n",
    "        Sample code:\n",
    "        ```Python\n",
    "        next_hidden_state, _ , next_cell_state = \n",
    "            post_activation_LSTM_cell(inputs=..., initial_state=[prev_hidden_state, prev_cell_state])\n",
    "        ```   \n",
    "        Please note that the layer is actually the \"post attention LSTM cell\".  For the purposes of passing the automatic grader, please do not modify the naming of this global variable.  This will be fixed when we deploy updates to the automatic grader.\n",
    "    3. Apply a dense, softmax layer to $s^{<t>}$, get the output.  \n",
    "        Sample code:\n",
    "        ```Python\n",
    "        output = output_layer(inputs=...)\n",
    "        ```\n",
    "    4. Save the output by adding it to the list of outputs.\n",
    "\n",
    "3. Create your Keras model instance.\n",
    "    * It should have three inputs:\n",
    "        * `X`, the one-hot encoded inputs to the model, of shape ($T_{x}, humanVocabSize)$\n",
    "        * $s^{\\langle 0 \\rangle}$, the initial hidden state of the post-attention LSTM\n",
    "        * $c^{\\langle 0 \\rangle}$), the initial cell state of the post-attention LSTM\n",
    "    * The output is the list of outputs.  \n",
    "    Sample code\n",
    "    ```Python\n",
    "    model = Model(inputs=[...,...,...], outputs=...)\n",
    "    ```"
   ]
  },
  {
   "cell_type": "code",
   "execution_count": 11,
   "metadata": {},
   "outputs": [],
   "source": [
    "# GRADED FUNCTION: model\n",
    "\n",
    "def model(Tx, Ty, n_a, n_s, human_vocab_size, machine_vocab_size):\n",
    "    \"\"\"\n",
    "    Arguments:\n",
    "    Tx -- length of the input sequence\n",
    "    Ty -- length of the output sequence\n",
    "    n_a -- hidden state size of the Bi-LSTM\n",
    "    n_s -- hidden state size of the post-attention LSTM\n",
    "    human_vocab_size -- size of the python dictionary \"human_vocab\"\n",
    "    machine_vocab_size -- size of the python dictionary \"machine_vocab\"\n",
    "\n",
    "    Returns:\n",
    "    model -- Keras model instance\n",
    "    \"\"\"\n",
    "    \n",
    "    # Define the inputs of your model with a shape (Tx,)\n",
    "    # Define s0 (initial hidden state) and c0 (initial cell state)\n",
    "    # for the decoder LSTM with shape (n_s,)\n",
    "    X = Input(shape=(Tx, human_vocab_size))\n",
    "    s0 = Input(shape=(n_s,), name='s0')\n",
    "    c0 = Input(shape=(n_s,), name='c0')\n",
    "    s = s0\n",
    "    c = c0\n",
    "    \n",
    "    # Initialize empty list of outputs\n",
    "    outputs = []\n",
    "    \n",
    "    ### START CODE HERE ###\n",
    "    \n",
    "    # Step 1: Define your pre-attention Bi-LSTM. Remember to use return_sequences=True. (≈ 1 line)\n",
    "    a = Bidirectional(LSTM(n_a, return_sequences= True))(X)\n",
    "    \n",
    "    # Step 2: Iterate for Ty steps\n",
    "    for t in range(Ty):\n",
    "    \n",
    "        # Step 2.A: Perform one step of the attention mechanism to get back the context vector at step t (≈ 1 line)\n",
    "        context = one_step_attention(a, s)\n",
    "        \n",
    "        # Step 2.B: Apply the post-attention LSTM cell to the \"context\" vector.\n",
    "        # Don't forget to pass: initial_state = [hidden state, cell state] (≈ 1 line)\n",
    "        s, _, c = post_activation_LSTM_cell(context, initial_state= [s, c])\n",
    "        \n",
    "        # Step 2.C: Apply Dense layer to the hidden state output of the post-attention LSTM (≈ 1 line)\n",
    "        out = output_layer(s)\n",
    "        \n",
    "        # Step 2.D: Append \"out\" to the \"outputs\" list (≈ 1 line)\n",
    "        outputs.append(out)\n",
    "    \n",
    "    # Step 3: Create model instance taking three inputs and returning the list of outputs. (≈ 1 line)\n",
    "    model = Model(inputs= [X, s0, c0], outputs= outputs)\n",
    "    \n",
    "    ### END CODE HERE ###\n",
    "    \n",
    "    return model"
   ]
  },
  {
   "cell_type": "markdown",
   "metadata": {},
   "source": [
    "Run the following cell to create your model."
   ]
  },
  {
   "cell_type": "code",
   "execution_count": 12,
   "metadata": {},
   "outputs": [],
   "source": [
    "model = model(Tx, Ty, n_a, n_s, len(human_vocab), len(machine_vocab))"
   ]
  },
  {
   "cell_type": "markdown",
   "metadata": {},
   "source": [
    "#### Troubleshooting Note\n",
    "* If you are getting repeated errors after an initially incorrect implementation of \"model\", but believe that you have corrected the error, you may still see error messages when building your model.  \n",
    "* A solution is to save and restart your kernel (or shutdown then restart your notebook), and re-run the cells."
   ]
  },
  {
   "cell_type": "markdown",
   "metadata": {},
   "source": [
    "Let's get a summary of the model to check if it matches the expected output."
   ]
  },
  {
   "cell_type": "code",
   "execution_count": 13,
   "metadata": {},
   "outputs": [
    {
     "name": "stdout",
     "output_type": "stream",
     "text": [
      "Model: \"model\"\n",
      "__________________________________________________________________________________________________\n",
      "Layer (type)                    Output Shape         Param #     Connected to                     \n",
      "==================================================================================================\n",
      "input_1 (InputLayer)            [(None, 30, 37)]     0                                            \n",
      "__________________________________________________________________________________________________\n",
      "s0 (InputLayer)                 [(None, 64)]         0                                            \n",
      "__________________________________________________________________________________________________\n",
      "bidirectional (Bidirectional)   (None, 30, 64)       17920       input_1[0][0]                    \n",
      "__________________________________________________________________________________________________\n",
      "repeat_vector (RepeatVector)    (None, 30, 64)       0           s0[0][0]                         \n",
      "                                                                 lstm[0][0]                       \n",
      "                                                                 lstm[1][0]                       \n",
      "                                                                 lstm[2][0]                       \n",
      "                                                                 lstm[3][0]                       \n",
      "                                                                 lstm[4][0]                       \n",
      "                                                                 lstm[5][0]                       \n",
      "                                                                 lstm[6][0]                       \n",
      "                                                                 lstm[7][0]                       \n",
      "                                                                 lstm[8][0]                       \n",
      "__________________________________________________________________________________________________\n",
      "concatenate (Concatenate)       (None, 30, 128)      0           bidirectional[0][0]              \n",
      "                                                                 repeat_vector[0][0]              \n",
      "                                                                 bidirectional[0][0]              \n",
      "                                                                 repeat_vector[1][0]              \n",
      "                                                                 bidirectional[0][0]              \n",
      "                                                                 repeat_vector[2][0]              \n",
      "                                                                 bidirectional[0][0]              \n",
      "                                                                 repeat_vector[3][0]              \n",
      "                                                                 bidirectional[0][0]              \n",
      "                                                                 repeat_vector[4][0]              \n",
      "                                                                 bidirectional[0][0]              \n",
      "                                                                 repeat_vector[5][0]              \n",
      "                                                                 bidirectional[0][0]              \n",
      "                                                                 repeat_vector[6][0]              \n",
      "                                                                 bidirectional[0][0]              \n",
      "                                                                 repeat_vector[7][0]              \n",
      "                                                                 bidirectional[0][0]              \n",
      "                                                                 repeat_vector[8][0]              \n",
      "                                                                 bidirectional[0][0]              \n",
      "                                                                 repeat_vector[9][0]              \n",
      "__________________________________________________________________________________________________\n",
      "dense (Dense)                   (None, 30, 10)       1290        concatenate[0][0]                \n",
      "                                                                 concatenate[1][0]                \n",
      "                                                                 concatenate[2][0]                \n",
      "                                                                 concatenate[3][0]                \n",
      "                                                                 concatenate[4][0]                \n",
      "                                                                 concatenate[5][0]                \n",
      "                                                                 concatenate[6][0]                \n",
      "                                                                 concatenate[7][0]                \n",
      "                                                                 concatenate[8][0]                \n",
      "                                                                 concatenate[9][0]                \n",
      "__________________________________________________________________________________________________\n",
      "dense_1 (Dense)                 (None, 30, 1)        11          dense[0][0]                      \n",
      "                                                                 dense[1][0]                      \n",
      "                                                                 dense[2][0]                      \n",
      "                                                                 dense[3][0]                      \n",
      "                                                                 dense[4][0]                      \n",
      "                                                                 dense[5][0]                      \n",
      "                                                                 dense[6][0]                      \n",
      "                                                                 dense[7][0]                      \n",
      "                                                                 dense[8][0]                      \n",
      "                                                                 dense[9][0]                      \n",
      "__________________________________________________________________________________________________\n",
      "attention_weights (Activation)  (None, 30, 1)        0           dense_1[0][0]                    \n",
      "                                                                 dense_1[1][0]                    \n",
      "                                                                 dense_1[2][0]                    \n",
      "                                                                 dense_1[3][0]                    \n",
      "                                                                 dense_1[4][0]                    \n",
      "                                                                 dense_1[5][0]                    \n",
      "                                                                 dense_1[6][0]                    \n",
      "                                                                 dense_1[7][0]                    \n",
      "                                                                 dense_1[8][0]                    \n",
      "                                                                 dense_1[9][0]                    \n",
      "__________________________________________________________________________________________________\n",
      "dot (Dot)                       (None, 1, 64)        0           attention_weights[0][0]          \n",
      "                                                                 bidirectional[0][0]              \n",
      "                                                                 attention_weights[1][0]          \n",
      "                                                                 bidirectional[0][0]              \n",
      "                                                                 attention_weights[2][0]          \n",
      "                                                                 bidirectional[0][0]              \n",
      "                                                                 attention_weights[3][0]          \n",
      "                                                                 bidirectional[0][0]              \n",
      "                                                                 attention_weights[4][0]          \n",
      "                                                                 bidirectional[0][0]              \n",
      "                                                                 attention_weights[5][0]          \n",
      "                                                                 bidirectional[0][0]              \n",
      "                                                                 attention_weights[6][0]          \n",
      "                                                                 bidirectional[0][0]              \n",
      "                                                                 attention_weights[7][0]          \n",
      "                                                                 bidirectional[0][0]              \n",
      "                                                                 attention_weights[8][0]          \n",
      "                                                                 bidirectional[0][0]              \n",
      "                                                                 attention_weights[9][0]          \n",
      "                                                                 bidirectional[0][0]              \n",
      "__________________________________________________________________________________________________\n",
      "c0 (InputLayer)                 [(None, 64)]         0                                            \n",
      "__________________________________________________________________________________________________\n",
      "lstm (LSTM)                     [(None, 64), (None,  33024       dot[0][0]                        \n",
      "                                                                 s0[0][0]                         \n",
      "                                                                 c0[0][0]                         \n",
      "                                                                 dot[1][0]                        \n",
      "                                                                 lstm[0][0]                       \n",
      "                                                                 lstm[0][2]                       \n",
      "                                                                 dot[2][0]                        \n",
      "                                                                 lstm[1][0]                       \n",
      "                                                                 lstm[1][2]                       \n",
      "                                                                 dot[3][0]                        \n",
      "                                                                 lstm[2][0]                       \n",
      "                                                                 lstm[2][2]                       \n",
      "                                                                 dot[4][0]                        \n",
      "                                                                 lstm[3][0]                       \n",
      "                                                                 lstm[3][2]                       \n",
      "                                                                 dot[5][0]                        \n",
      "                                                                 lstm[4][0]                       \n",
      "                                                                 lstm[4][2]                       \n",
      "                                                                 dot[6][0]                        \n",
      "                                                                 lstm[5][0]                       \n",
      "                                                                 lstm[5][2]                       \n",
      "                                                                 dot[7][0]                        \n",
      "                                                                 lstm[6][0]                       \n",
      "                                                                 lstm[6][2]                       \n",
      "                                                                 dot[8][0]                        \n",
      "                                                                 lstm[7][0]                       \n",
      "                                                                 lstm[7][2]                       \n",
      "                                                                 dot[9][0]                        \n",
      "                                                                 lstm[8][0]                       \n",
      "                                                                 lstm[8][2]                       \n",
      "__________________________________________________________________________________________________\n",
      "dense_2 (Dense)                 (None, 11)           715         lstm[0][0]                       \n",
      "                                                                 lstm[1][0]                       \n",
      "                                                                 lstm[2][0]                       \n",
      "                                                                 lstm[3][0]                       \n",
      "                                                                 lstm[4][0]                       \n",
      "                                                                 lstm[5][0]                       \n",
      "                                                                 lstm[6][0]                       \n",
      "                                                                 lstm[7][0]                       \n",
      "                                                                 lstm[8][0]                       \n",
      "                                                                 lstm[9][0]                       \n",
      "==================================================================================================\n",
      "Total params: 52,960\n",
      "Trainable params: 52,960\n",
      "Non-trainable params: 0\n",
      "__________________________________________________________________________________________________\n"
     ]
    }
   ],
   "source": [
    "model.summary()"
   ]
  },
  {
   "cell_type": "markdown",
   "metadata": {},
   "source": [
    "**Expected Output**:\n",
    "\n",
    "Here is the summary you should see\n",
    "<table>\n",
    "    <tr>\n",
    "        <td>\n",
    "            **Total params:**\n",
    "        </td>\n",
    "        <td>\n",
    "         52,960\n",
    "        </td>\n",
    "    </tr>\n",
    "        <tr>\n",
    "        <td>\n",
    "            **Trainable params:**\n",
    "        </td>\n",
    "        <td>\n",
    "         52,960\n",
    "        </td>\n",
    "    </tr>\n",
    "            <tr>\n",
    "        <td>\n",
    "            **Non-trainable params:**\n",
    "        </td>\n",
    "        <td>\n",
    "         0\n",
    "        </td>\n",
    "    </tr>\n",
    "                    <tr>\n",
    "        <td>\n",
    "            **bidirectional_1's output shape **\n",
    "        </td>\n",
    "        <td>\n",
    "         (None, 30, 64)  \n",
    "        </td>\n",
    "    </tr>\n",
    "    <tr>\n",
    "        <td>\n",
    "            **repeat_vector_1's output shape **\n",
    "        </td>\n",
    "        <td>\n",
    "         (None, 30, 64) \n",
    "        </td>\n",
    "    </tr>\n",
    "                <tr>\n",
    "        <td>\n",
    "            **concatenate_1's output shape **\n",
    "        </td>\n",
    "        <td>\n",
    "         (None, 30, 128) \n",
    "        </td>\n",
    "    </tr>\n",
    "            <tr>\n",
    "        <td>\n",
    "            **attention_weights's output shape **\n",
    "        </td>\n",
    "        <td>\n",
    "         (None, 30, 1)  \n",
    "        </td>\n",
    "    </tr>\n",
    "        <tr>\n",
    "        <td>\n",
    "            **dot_1's output shape **\n",
    "        </td>\n",
    "        <td>\n",
    "         (None, 1, 64)\n",
    "        </td>\n",
    "    </tr>\n",
    "           <tr>\n",
    "        <td>\n",
    "            **dense_3's output shape **\n",
    "        </td>\n",
    "        <td>\n",
    "         (None, 11) \n",
    "        </td>\n",
    "    </tr>\n",
    "</table>\n"
   ]
  },
  {
   "cell_type": "markdown",
   "metadata": {},
   "source": [
    "#### Compile the model\n",
    "* After creating your model in Keras, you need to compile it and define the loss function, optimizer and metrics you want to use. \n",
    "    * Loss function: 'categorical_crossentropy'.\n",
    "    * Optimizer: [Adam](https://keras.io/optimizers/#adam) [optimizer](https://keras.io/optimizers/#usage-of-optimizers)\n",
    "        - learning rate = 0.005 \n",
    "        - $\\beta_1 = 0.9$\n",
    "        - $\\beta_2 = 0.999$\n",
    "        - decay = 0.01  \n",
    "    * metric: 'accuracy'\n",
    "    \n",
    "Sample code\n",
    "```Python\n",
    "optimizer = Adam(lr=..., beta_1=..., beta_2=..., decay=...)\n",
    "model.compile(optimizer=..., loss=..., metrics=[...])\n",
    "```"
   ]
  },
  {
   "cell_type": "code",
   "execution_count": 14,
   "metadata": {},
   "outputs": [],
   "source": [
    "### START CODE HERE ### (≈2 lines)\n",
    "optimizer = Adam(learning_rate= 0.005, beta_1= 0.9, beta_2= 0.999, decay= 0.01)\n",
    "model.compile(optimizer= optimizer, loss= 'categorical_crossentropy', metrics= ['accuracy'])\n",
    "### END CODE HERE ###"
   ]
  },
  {
   "cell_type": "markdown",
   "metadata": {},
   "source": [
    "#### Define inputs and outputs, and fit the model\n",
    "The last step is to define all your inputs and outputs to fit the model:\n",
    "- You have input X of shape $(m = 10000, T_x = 30)$ containing the training examples.\n",
    "- You need to create `s0` and `c0` to initialize your `post_attention_LSTM_cell` with zeros.\n",
    "- Given the `model()` you coded, you need the \"outputs\" to be a list of 10 elements of shape (m, T_y). \n",
    "    - The list `outputs[i][0], ..., outputs[i][Ty]` represents the true labels (characters) corresponding to the $i^{th}$ training example (`X[i]`). \n",
    "    - `outputs[i][j]` is the true label of the $j^{th}$ character in the $i^{th}$ training example."
   ]
  },
  {
   "cell_type": "code",
   "execution_count": 15,
   "metadata": {},
   "outputs": [],
   "source": [
    "s0 = np.zeros((m, n_s))\n",
    "c0 = np.zeros((m, n_s))\n",
    "outputs = list(Yoh.swapaxes(0,1))"
   ]
  },
  {
   "cell_type": "markdown",
   "metadata": {},
   "source": [
    "Let's now fit the model and run it for one epoch."
   ]
  },
  {
   "cell_type": "code",
   "execution_count": 16,
   "metadata": {},
   "outputs": [
    {
     "name": "stdout",
     "output_type": "stream",
     "text": [
      "Epoch 1/100\n",
      "100/100 [==============================] - 24s 43ms/step - loss: 20.0489 - dense_2_loss: 1.8638 - dense_2_1_loss: 1.5564 - dense_2_2_loss: 2.1499 - dense_2_3_loss: 2.7251 - dense_2_4_loss: 1.3058 - dense_2_5_loss: 1.6804 - dense_2_6_loss: 2.7698 - dense_2_7_loss: 1.3767 - dense_2_8_loss: 1.9320 - dense_2_9_loss: 2.6890 - dense_2_accuracy: 0.1728 - dense_2_1_accuracy: 0.4513 - dense_2_2_accuracy: 0.2035 - dense_2_3_accuracy: 0.0851 - dense_2_4_accuracy: 0.7935 - dense_2_5_accuracy: 0.1086 - dense_2_6_accuracy: 0.0122 - dense_2_7_accuracy: 0.9178 - dense_2_8_accuracy: 0.1252 - dense_2_9_accuracy: 0.0563\n",
      "Epoch 2/100\n",
      "100/100 [==============================] - 5s 45ms/step - loss: 9.8597 - dense_2_loss: 0.2789 - dense_2_1_loss: 0.1930 - dense_2_2_loss: 1.1631 - dense_2_3_loss: 2.2482 - dense_2_4_loss: 0.0411 - dense_2_5_loss: 0.5437 - dense_2_6_loss: 2.0888 - dense_2_7_loss: 0.0407 - dense_2_8_loss: 1.0746 - dense_2_9_loss: 2.1875 - dense_2_accuracy: 0.9396 - dense_2_1_accuracy: 0.9436 - dense_2_2_accuracy: 0.5091 - dense_2_3_accuracy: 0.1795 - dense_2_4_accuracy: 1.0000 - dense_2_5_accuracy: 0.7654 - dense_2_6_accuracy: 0.2690 - dense_2_7_accuracy: 0.9999 - dense_2_8_accuracy: 0.5402 - dense_2_9_accuracy: 0.1903\n",
      "Epoch 3/100\n",
      "100/100 [==============================] - 4s 44ms/step - loss: 8.4613 - dense_2_loss: 0.1424 - dense_2_1_loss: 0.1142 - dense_2_2_loss: 0.9819 - dense_2_3_loss: 2.1352 - dense_2_4_loss: 0.0189 - dense_2_5_loss: 0.2800 - dense_2_6_loss: 1.7235 - dense_2_7_loss: 0.0138 - dense_2_8_loss: 0.9369 - dense_2_9_loss: 2.1146 - dense_2_accuracy: 0.9630 - dense_2_1_accuracy: 0.9670 - dense_2_2_accuracy: 0.5879 - dense_2_3_accuracy: 0.2282 - dense_2_4_accuracy: 1.0000 - dense_2_5_accuracy: 0.9096 - dense_2_6_accuracy: 0.3712 - dense_2_7_accuracy: 1.0000 - dense_2_8_accuracy: 0.6027 - dense_2_9_accuracy: 0.2256\n",
      "Epoch 4/100\n",
      "100/100 [==============================] - 4s 45ms/step - loss: 7.5850 - dense_2_loss: 0.1107 - dense_2_1_loss: 0.0876 - dense_2_2_loss: 0.8448 - dense_2_3_loss: 1.9987 - dense_2_4_loss: 0.0152 - dense_2_5_loss: 0.1854 - dense_2_6_loss: 1.5155 - dense_2_7_loss: 0.0091 - dense_2_8_loss: 0.8503 - dense_2_9_loss: 1.9677 - dense_2_accuracy: 0.9770 - dense_2_1_accuracy: 0.9735 - dense_2_2_accuracy: 0.6666 - dense_2_3_accuracy: 0.2854 - dense_2_4_accuracy: 1.0000 - dense_2_5_accuracy: 0.9456 - dense_2_6_accuracy: 0.4387 - dense_2_7_accuracy: 1.0000 - dense_2_8_accuracy: 0.6507 - dense_2_9_accuracy: 0.2780\n",
      "Epoch 5/100\n",
      "100/100 [==============================] - 4s 44ms/step - loss: 7.0476 - dense_2_loss: 0.1072 - dense_2_1_loss: 0.0842 - dense_2_2_loss: 0.7780 - dense_2_3_loss: 1.8845 - dense_2_4_loss: 0.0137 - dense_2_5_loss: 0.1536 - dense_2_6_loss: 1.3392 - dense_2_7_loss: 0.0085 - dense_2_8_loss: 0.7962 - dense_2_9_loss: 1.8825 - dense_2_accuracy: 0.9727 - dense_2_1_accuracy: 0.9737 - dense_2_2_accuracy: 0.7030 - dense_2_3_accuracy: 0.3372 - dense_2_4_accuracy: 1.0000 - dense_2_5_accuracy: 0.9566 - dense_2_6_accuracy: 0.5109 - dense_2_7_accuracy: 1.0000 - dense_2_8_accuracy: 0.6844 - dense_2_9_accuracy: 0.3092\n",
      "Epoch 6/100\n",
      "100/100 [==============================] - 4s 44ms/step - loss: 6.5449 - dense_2_loss: 0.0991 - dense_2_1_loss: 0.0784 - dense_2_2_loss: 0.7396 - dense_2_3_loss: 1.7356 - dense_2_4_loss: 0.0121 - dense_2_5_loss: 0.1311 - dense_2_6_loss: 1.1897 - dense_2_7_loss: 0.0072 - dense_2_8_loss: 0.7440 - dense_2_9_loss: 1.8081 - dense_2_accuracy: 0.9758 - dense_2_1_accuracy: 0.9750 - dense_2_2_accuracy: 0.7192 - dense_2_3_accuracy: 0.3942 - dense_2_4_accuracy: 1.0000 - dense_2_5_accuracy: 0.9635 - dense_2_6_accuracy: 0.5911 - dense_2_7_accuracy: 1.0000 - dense_2_8_accuracy: 0.7134 - dense_2_9_accuracy: 0.3276\n",
      "Epoch 7/100\n",
      "100/100 [==============================] - 4s 44ms/step - loss: 6.0861 - dense_2_loss: 0.0969 - dense_2_1_loss: 0.0776 - dense_2_2_loss: 0.7068 - dense_2_3_loss: 1.6316 - dense_2_4_loss: 0.0108 - dense_2_5_loss: 0.1216 - dense_2_6_loss: 1.0619 - dense_2_7_loss: 0.0081 - dense_2_8_loss: 0.6866 - dense_2_9_loss: 1.6842 - dense_2_accuracy: 0.9755 - dense_2_1_accuracy: 0.9753 - dense_2_2_accuracy: 0.7383 - dense_2_3_accuracy: 0.4415 - dense_2_4_accuracy: 1.0000 - dense_2_5_accuracy: 0.9642 - dense_2_6_accuracy: 0.6515 - dense_2_7_accuracy: 0.9998 - dense_2_8_accuracy: 0.7452 - dense_2_9_accuracy: 0.3729\n",
      "Epoch 8/100\n",
      "100/100 [==============================] - 4s 44ms/step - loss: 5.6178 - dense_2_loss: 0.0896 - dense_2_1_loss: 0.0721 - dense_2_2_loss: 0.6758 - dense_2_3_loss: 1.5041 - dense_2_4_loss: 0.0098 - dense_2_5_loss: 0.1056 - dense_2_6_loss: 0.9594 - dense_2_7_loss: 0.0084 - dense_2_8_loss: 0.6531 - dense_2_9_loss: 1.5397 - dense_2_accuracy: 0.9776 - dense_2_1_accuracy: 0.9776 - dense_2_2_accuracy: 0.7507 - dense_2_3_accuracy: 0.4817 - dense_2_4_accuracy: 1.0000 - dense_2_5_accuracy: 0.9711 - dense_2_6_accuracy: 0.6913 - dense_2_7_accuracy: 0.9993 - dense_2_8_accuracy: 0.7694 - dense_2_9_accuracy: 0.4252\n",
      "Epoch 9/100\n",
      "100/100 [==============================] - 5s 49ms/step - loss: 5.1696 - dense_2_loss: 0.0816 - dense_2_1_loss: 0.0646 - dense_2_2_loss: 0.6450 - dense_2_3_loss: 1.3841 - dense_2_4_loss: 0.0089 - dense_2_5_loss: 0.1086 - dense_2_6_loss: 0.8734 - dense_2_7_loss: 0.0079 - dense_2_8_loss: 0.5846 - dense_2_9_loss: 1.4108 - dense_2_accuracy: 0.9811 - dense_2_1_accuracy: 0.9794 - dense_2_2_accuracy: 0.7609 - dense_2_3_accuracy: 0.5368 - dense_2_4_accuracy: 1.0000 - dense_2_5_accuracy: 0.9667 - dense_2_6_accuracy: 0.7211 - dense_2_7_accuracy: 0.9999 - dense_2_8_accuracy: 0.8032 - dense_2_9_accuracy: 0.4669\n",
      "Epoch 10/100\n",
      "100/100 [==============================] - 5s 47ms/step - loss: 4.8141 - dense_2_loss: 0.0797 - dense_2_1_loss: 0.0631 - dense_2_2_loss: 0.6209 - dense_2_3_loss: 1.2852 - dense_2_4_loss: 0.0084 - dense_2_5_loss: 0.1026 - dense_2_6_loss: 0.7906 - dense_2_7_loss: 0.0070 - dense_2_8_loss: 0.5758 - dense_2_9_loss: 1.2808 - dense_2_accuracy: 0.9809 - dense_2_1_accuracy: 0.9808 - dense_2_2_accuracy: 0.7651 - dense_2_3_accuracy: 0.5676 - dense_2_4_accuracy: 1.0000 - dense_2_5_accuracy: 0.9697 - dense_2_6_accuracy: 0.7579 - dense_2_7_accuracy: 1.0000 - dense_2_8_accuracy: 0.8018 - dense_2_9_accuracy: 0.5112\n",
      "Epoch 11/100\n",
      "100/100 [==============================] - 5s 50ms/step - loss: 4.4609 - dense_2_loss: 0.0729 - dense_2_1_loss: 0.0573 - dense_2_2_loss: 0.6034 - dense_2_3_loss: 1.1814 - dense_2_4_loss: 0.0082 - dense_2_5_loss: 0.0955 - dense_2_6_loss: 0.7295 - dense_2_7_loss: 0.0068 - dense_2_8_loss: 0.5462 - dense_2_9_loss: 1.1598 - dense_2_accuracy: 0.9818 - dense_2_1_accuracy: 0.9824 - dense_2_2_accuracy: 0.7689 - dense_2_3_accuracy: 0.6052 - dense_2_4_accuracy: 1.0000 - dense_2_5_accuracy: 0.9754 - dense_2_6_accuracy: 0.7804 - dense_2_7_accuracy: 0.9999 - dense_2_8_accuracy: 0.8092 - dense_2_9_accuracy: 0.5576\n",
      "Epoch 12/100\n",
      "100/100 [==============================] - 5s 47ms/step - loss: 4.2380 - dense_2_loss: 0.0762 - dense_2_1_loss: 0.0605 - dense_2_2_loss: 0.5861 - dense_2_3_loss: 1.1358 - dense_2_4_loss: 0.0074 - dense_2_5_loss: 0.0960 - dense_2_6_loss: 0.6953 - dense_2_7_loss: 0.0059 - dense_2_8_loss: 0.5264 - dense_2_9_loss: 1.0484 - dense_2_accuracy: 0.9804 - dense_2_1_accuracy: 0.9806 - dense_2_2_accuracy: 0.7858 - dense_2_3_accuracy: 0.6195 - dense_2_4_accuracy: 1.0000 - dense_2_5_accuracy: 0.9742 - dense_2_6_accuracy: 0.7943 - dense_2_7_accuracy: 1.0000 - dense_2_8_accuracy: 0.8220 - dense_2_9_accuracy: 0.6025\n",
      "Epoch 13/100\n",
      "100/100 [==============================] - 5s 49ms/step - loss: 3.9214 - dense_2_loss: 0.0708 - dense_2_1_loss: 0.0567 - dense_2_2_loss: 0.5689 - dense_2_3_loss: 1.0538 - dense_2_4_loss: 0.0069 - dense_2_5_loss: 0.0879 - dense_2_6_loss: 0.6406 - dense_2_7_loss: 0.0056 - dense_2_8_loss: 0.5036 - dense_2_9_loss: 0.9267 - dense_2_accuracy: 0.9826 - dense_2_1_accuracy: 0.9817 - dense_2_2_accuracy: 0.7950 - dense_2_3_accuracy: 0.6556 - dense_2_4_accuracy: 1.0000 - dense_2_5_accuracy: 0.9750 - dense_2_6_accuracy: 0.8089 - dense_2_7_accuracy: 1.0000 - dense_2_8_accuracy: 0.8284 - dense_2_9_accuracy: 0.6563\n",
      "Epoch 14/100\n",
      "100/100 [==============================] - 5s 47ms/step - loss: 3.7068 - dense_2_loss: 0.0703 - dense_2_1_loss: 0.0566 - dense_2_2_loss: 0.5458 - dense_2_3_loss: 1.0011 - dense_2_4_loss: 0.0064 - dense_2_5_loss: 0.0873 - dense_2_6_loss: 0.6190 - dense_2_7_loss: 0.0050 - dense_2_8_loss: 0.4836 - dense_2_9_loss: 0.8318 - dense_2_accuracy: 0.9828 - dense_2_1_accuracy: 0.9819 - dense_2_2_accuracy: 0.8023 - dense_2_3_accuracy: 0.6708 - dense_2_4_accuracy: 1.0000 - dense_2_5_accuracy: 0.9738 - dense_2_6_accuracy: 0.8150 - dense_2_7_accuracy: 1.0000 - dense_2_8_accuracy: 0.8393 - dense_2_9_accuracy: 0.6937\n",
      "Epoch 15/100\n",
      "100/100 [==============================] - 5s 47ms/step - loss: 3.4683 - dense_2_loss: 0.0695 - dense_2_1_loss: 0.0551 - dense_2_2_loss: 0.5268 - dense_2_3_loss: 0.9416 - dense_2_4_loss: 0.0058 - dense_2_5_loss: 0.0796 - dense_2_6_loss: 0.5870 - dense_2_7_loss: 0.0049 - dense_2_8_loss: 0.4567 - dense_2_9_loss: 0.7413 - dense_2_accuracy: 0.9820 - dense_2_1_accuracy: 0.9822 - dense_2_2_accuracy: 0.8082 - dense_2_3_accuracy: 0.6936 - dense_2_4_accuracy: 1.0000 - dense_2_5_accuracy: 0.9777 - dense_2_6_accuracy: 0.8309 - dense_2_7_accuracy: 1.0000 - dense_2_8_accuracy: 0.8542 - dense_2_9_accuracy: 0.7375\n",
      "Epoch 16/100\n",
      "100/100 [==============================] - 5s 48ms/step - loss: 3.2954 - dense_2_loss: 0.0693 - dense_2_1_loss: 0.0573 - dense_2_2_loss: 0.5247 - dense_2_3_loss: 0.8875 - dense_2_4_loss: 0.0056 - dense_2_5_loss: 0.0791 - dense_2_6_loss: 0.5753 - dense_2_7_loss: 0.0044 - dense_2_8_loss: 0.4399 - dense_2_9_loss: 0.6523 - dense_2_accuracy: 0.9809 - dense_2_1_accuracy: 0.9807 - dense_2_2_accuracy: 0.8113 - dense_2_3_accuracy: 0.7172 - dense_2_4_accuracy: 1.0000 - dense_2_5_accuracy: 0.9780 - dense_2_6_accuracy: 0.8266 - dense_2_7_accuracy: 1.0000 - dense_2_8_accuracy: 0.8607 - dense_2_9_accuracy: 0.7761\n",
      "Epoch 17/100\n",
      "100/100 [==============================] - 5s 46ms/step - loss: 3.0841 - dense_2_loss: 0.0642 - dense_2_1_loss: 0.0519 - dense_2_2_loss: 0.5045 - dense_2_3_loss: 0.8308 - dense_2_4_loss: 0.0056 - dense_2_5_loss: 0.0753 - dense_2_6_loss: 0.5359 - dense_2_7_loss: 0.0044 - dense_2_8_loss: 0.4227 - dense_2_9_loss: 0.5888 - dense_2_accuracy: 0.9822 - dense_2_1_accuracy: 0.9825 - dense_2_2_accuracy: 0.8150 - dense_2_3_accuracy: 0.7291 - dense_2_4_accuracy: 1.0000 - dense_2_5_accuracy: 0.9785 - dense_2_6_accuracy: 0.8440 - dense_2_7_accuracy: 1.0000 - dense_2_8_accuracy: 0.8586 - dense_2_9_accuracy: 0.7994\n",
      "Epoch 18/100\n",
      "100/100 [==============================] - 5s 47ms/step - loss: 2.9679 - dense_2_loss: 0.0649 - dense_2_1_loss: 0.0530 - dense_2_2_loss: 0.4932 - dense_2_3_loss: 0.7788 - dense_2_4_loss: 0.0054 - dense_2_5_loss: 0.0758 - dense_2_6_loss: 0.5187 - dense_2_7_loss: 0.0038 - dense_2_8_loss: 0.4157 - dense_2_9_loss: 0.5587 - dense_2_accuracy: 0.9810 - dense_2_1_accuracy: 0.9815 - dense_2_2_accuracy: 0.8169 - dense_2_3_accuracy: 0.7562 - dense_2_4_accuracy: 1.0000 - dense_2_5_accuracy: 0.9778 - dense_2_6_accuracy: 0.8558 - dense_2_7_accuracy: 1.0000 - dense_2_8_accuracy: 0.8629 - dense_2_9_accuracy: 0.8110\n",
      "Epoch 19/100\n",
      "100/100 [==============================] - 5s 47ms/step - loss: 2.7533 - dense_2_loss: 0.0611 - dense_2_1_loss: 0.0486 - dense_2_2_loss: 0.4628 - dense_2_3_loss: 0.7081 - dense_2_4_loss: 0.0048 - dense_2_5_loss: 0.0742 - dense_2_6_loss: 0.4863 - dense_2_7_loss: 0.0039 - dense_2_8_loss: 0.3977 - dense_2_9_loss: 0.5058 - dense_2_accuracy: 0.9840 - dense_2_1_accuracy: 0.9838 - dense_2_2_accuracy: 0.8276 - dense_2_3_accuracy: 0.7818 - dense_2_4_accuracy: 1.0000 - dense_2_5_accuracy: 0.9795 - dense_2_6_accuracy: 0.8672 - dense_2_7_accuracy: 1.0000 - dense_2_8_accuracy: 0.8652 - dense_2_9_accuracy: 0.8319\n",
      "Epoch 20/100\n",
      "100/100 [==============================] - 5s 46ms/step - loss: 2.5623 - dense_2_loss: 0.0586 - dense_2_1_loss: 0.0460 - dense_2_2_loss: 0.4491 - dense_2_3_loss: 0.6365 - dense_2_4_loss: 0.0048 - dense_2_5_loss: 0.0688 - dense_2_6_loss: 0.4718 - dense_2_7_loss: 0.0034 - dense_2_8_loss: 0.3711 - dense_2_9_loss: 0.4522 - dense_2_accuracy: 0.9840 - dense_2_1_accuracy: 0.9841 - dense_2_2_accuracy: 0.8303 - dense_2_3_accuracy: 0.8200 - dense_2_4_accuracy: 1.0000 - dense_2_5_accuracy: 0.9832 - dense_2_6_accuracy: 0.8674 - dense_2_7_accuracy: 1.0000 - dense_2_8_accuracy: 0.8704 - dense_2_9_accuracy: 0.8515\n",
      "Epoch 21/100\n",
      "100/100 [==============================] - 5s 45ms/step - loss: 2.4549 - dense_2_loss: 0.0599 - dense_2_1_loss: 0.0482 - dense_2_2_loss: 0.4331 - dense_2_3_loss: 0.5809 - dense_2_4_loss: 0.0043 - dense_2_5_loss: 0.0716 - dense_2_6_loss: 0.4532 - dense_2_7_loss: 0.0033 - dense_2_8_loss: 0.3810 - dense_2_9_loss: 0.4195 - dense_2_accuracy: 0.9828 - dense_2_1_accuracy: 0.9838 - dense_2_2_accuracy: 0.8359 - dense_2_3_accuracy: 0.8316 - dense_2_4_accuracy: 1.0000 - dense_2_5_accuracy: 0.9786 - dense_2_6_accuracy: 0.8667 - dense_2_7_accuracy: 1.0000 - dense_2_8_accuracy: 0.8607 - dense_2_9_accuracy: 0.8619\n",
      "Epoch 22/100\n",
      "100/100 [==============================] - 5s 48ms/step - loss: 2.2933 - dense_2_loss: 0.0599 - dense_2_1_loss: 0.0476 - dense_2_2_loss: 0.4188 - dense_2_3_loss: 0.5340 - dense_2_4_loss: 0.0043 - dense_2_5_loss: 0.0675 - dense_2_6_loss: 0.4275 - dense_2_7_loss: 0.0032 - dense_2_8_loss: 0.3484 - dense_2_9_loss: 0.3820 - dense_2_accuracy: 0.9840 - dense_2_1_accuracy: 0.9836 - dense_2_2_accuracy: 0.8374 - dense_2_3_accuracy: 0.8516 - dense_2_4_accuracy: 1.0000 - dense_2_5_accuracy: 0.9839 - dense_2_6_accuracy: 0.8868 - dense_2_7_accuracy: 1.0000 - dense_2_8_accuracy: 0.8742 - dense_2_9_accuracy: 0.8753\n",
      "Epoch 23/100\n",
      "100/100 [==============================] - 5s 49ms/step - loss: 2.1925 - dense_2_loss: 0.0606 - dense_2_1_loss: 0.0473 - dense_2_2_loss: 0.4117 - dense_2_3_loss: 0.4892 - dense_2_4_loss: 0.0040 - dense_2_5_loss: 0.0628 - dense_2_6_loss: 0.4139 - dense_2_7_loss: 0.0030 - dense_2_8_loss: 0.3389 - dense_2_9_loss: 0.3613 - dense_2_accuracy: 0.9844 - dense_2_1_accuracy: 0.9836 - dense_2_2_accuracy: 0.8401 - dense_2_3_accuracy: 0.8668 - dense_2_4_accuracy: 1.0000 - dense_2_5_accuracy: 0.9839 - dense_2_6_accuracy: 0.8907 - dense_2_7_accuracy: 1.0000 - dense_2_8_accuracy: 0.8792 - dense_2_9_accuracy: 0.8761\n",
      "Epoch 24/100\n",
      "100/100 [==============================] - 5s 48ms/step - loss: 2.1209 - dense_2_loss: 0.0621 - dense_2_1_loss: 0.0484 - dense_2_2_loss: 0.4129 - dense_2_3_loss: 0.4639 - dense_2_4_loss: 0.0037 - dense_2_5_loss: 0.0653 - dense_2_6_loss: 0.3991 - dense_2_7_loss: 0.0027 - dense_2_8_loss: 0.3300 - dense_2_9_loss: 0.3329 - dense_2_accuracy: 0.9816 - dense_2_1_accuracy: 0.9816 - dense_2_2_accuracy: 0.8319 - dense_2_3_accuracy: 0.8684 - dense_2_4_accuracy: 1.0000 - dense_2_5_accuracy: 0.9826 - dense_2_6_accuracy: 0.8936 - dense_2_7_accuracy: 1.0000 - dense_2_8_accuracy: 0.8780 - dense_2_9_accuracy: 0.8858\n",
      "Epoch 25/100\n",
      "100/100 [==============================] - 4s 43ms/step - loss: 1.9846 - dense_2_loss: 0.0563 - dense_2_1_loss: 0.0412 - dense_2_2_loss: 0.3851 - dense_2_3_loss: 0.4313 - dense_2_4_loss: 0.0036 - dense_2_5_loss: 0.0576 - dense_2_6_loss: 0.3788 - dense_2_7_loss: 0.0026 - dense_2_8_loss: 0.3209 - dense_2_9_loss: 0.3072 - dense_2_accuracy: 0.9841 - dense_2_1_accuracy: 0.9848 - dense_2_2_accuracy: 0.8479 - dense_2_3_accuracy: 0.8785 - dense_2_4_accuracy: 1.0000 - dense_2_5_accuracy: 0.9857 - dense_2_6_accuracy: 0.9002 - dense_2_7_accuracy: 1.0000 - dense_2_8_accuracy: 0.8833 - dense_2_9_accuracy: 0.8935\n",
      "Epoch 26/100\n",
      "100/100 [==============================] - 4s 43ms/step - loss: 1.9330 - dense_2_loss: 0.0610 - dense_2_1_loss: 0.0466 - dense_2_2_loss: 0.3823 - dense_2_3_loss: 0.4088 - dense_2_4_loss: 0.0034 - dense_2_5_loss: 0.0560 - dense_2_6_loss: 0.3770 - dense_2_7_loss: 0.0025 - dense_2_8_loss: 0.3083 - dense_2_9_loss: 0.2872 - dense_2_accuracy: 0.9812 - dense_2_1_accuracy: 0.9829 - dense_2_2_accuracy: 0.8456 - dense_2_3_accuracy: 0.8819 - dense_2_4_accuracy: 1.0000 - dense_2_5_accuracy: 0.9855 - dense_2_6_accuracy: 0.8946 - dense_2_7_accuracy: 1.0000 - dense_2_8_accuracy: 0.8808 - dense_2_9_accuracy: 0.9017\n",
      "Epoch 27/100\n",
      "100/100 [==============================] - 4s 43ms/step - loss: 1.8086 - dense_2_loss: 0.0557 - dense_2_1_loss: 0.0398 - dense_2_2_loss: 0.3709 - dense_2_3_loss: 0.3735 - dense_2_4_loss: 0.0031 - dense_2_5_loss: 0.0526 - dense_2_6_loss: 0.3472 - dense_2_7_loss: 0.0022 - dense_2_8_loss: 0.2922 - dense_2_9_loss: 0.2713 - dense_2_accuracy: 0.9842 - dense_2_1_accuracy: 0.9852 - dense_2_2_accuracy: 0.8519 - dense_2_3_accuracy: 0.8956 - dense_2_4_accuracy: 1.0000 - dense_2_5_accuracy: 0.9856 - dense_2_6_accuracy: 0.9122 - dense_2_7_accuracy: 1.0000 - dense_2_8_accuracy: 0.8917 - dense_2_9_accuracy: 0.9052\n",
      "Epoch 28/100\n",
      "100/100 [==============================] - 4s 44ms/step - loss: 1.7697 - dense_2_loss: 0.0563 - dense_2_1_loss: 0.0406 - dense_2_2_loss: 0.3600 - dense_2_3_loss: 0.3647 - dense_2_4_loss: 0.0032 - dense_2_5_loss: 0.0581 - dense_2_6_loss: 0.3445 - dense_2_7_loss: 0.0021 - dense_2_8_loss: 0.2824 - dense_2_9_loss: 0.2578 - dense_2_accuracy: 0.9826 - dense_2_1_accuracy: 0.9837 - dense_2_2_accuracy: 0.8535 - dense_2_3_accuracy: 0.8940 - dense_2_4_accuracy: 1.0000 - dense_2_5_accuracy: 0.9841 - dense_2_6_accuracy: 0.9100 - dense_2_7_accuracy: 1.0000 - dense_2_8_accuracy: 0.8938 - dense_2_9_accuracy: 0.9082: 1s - loss: 1.7837 - dense_2_loss: 0.0564 - dense_2_1_loss: 0.0407 - dense_2_2_loss: 0.3631 - dense_2_3_loss: 0.3675 - dense_2_4_loss: 0.0032 - dense_2_5_loss: 0.0592 - dense_2_6_loss: 0.3471 - dense_2_7_loss: 0.0021 - dense_2_8_loss: 0.2838 - dense_2_9_loss: 0.2606 - dense_2_accuracy: 0.9825 - dense_2_1_accuracy: 0.9835 - dense_2_2_accuracy: 0.8523 - dense_2_3_accuracy: 0.8936 - dense_2_4_accuracy: 1.0000 - dense_2_5_accuracy: 0.9839 - dense_2_6_accuracy: 0.9096 - dense_2_7_accuracy: 1.0000 - dense_2_8_accuracy: 0.8939 - dense_2_9_acc\n",
      "Epoch 29/100\n",
      "100/100 [==============================] - 4s 42ms/step - loss: 1.6780 - dense_2_loss: 0.0530 - dense_2_1_loss: 0.0361 - dense_2_2_loss: 0.3473 - dense_2_3_loss: 0.3458 - dense_2_4_loss: 0.0030 - dense_2_5_loss: 0.0550 - dense_2_6_loss: 0.3282 - dense_2_7_loss: 0.0021 - dense_2_8_loss: 0.2722 - dense_2_9_loss: 0.2354 - dense_2_accuracy: 0.9852 - dense_2_1_accuracy: 0.9860 - dense_2_2_accuracy: 0.8547 - dense_2_3_accuracy: 0.8968 - dense_2_4_accuracy: 1.0000 - dense_2_5_accuracy: 0.9850 - dense_2_6_accuracy: 0.9152 - dense_2_7_accuracy: 1.0000 - dense_2_8_accuracy: 0.8963 - dense_2_9_accuracy: 0.9244\n",
      "Epoch 30/100\n",
      "100/100 [==============================] - 4s 42ms/step - loss: 1.6113 - dense_2_loss: 0.0567 - dense_2_1_loss: 0.0404 - dense_2_2_loss: 0.3336 - dense_2_3_loss: 0.3309 - dense_2_4_loss: 0.0029 - dense_2_5_loss: 0.0485 - dense_2_6_loss: 0.3171 - dense_2_7_loss: 0.0019 - dense_2_8_loss: 0.2565 - dense_2_9_loss: 0.2229 - dense_2_accuracy: 0.9829 - dense_2_1_accuracy: 0.9832 - dense_2_2_accuracy: 0.8648 - dense_2_3_accuracy: 0.9026 - dense_2_4_accuracy: 1.0000 - dense_2_5_accuracy: 0.9871 - dense_2_6_accuracy: 0.9200 - dense_2_7_accuracy: 1.0000 - dense_2_8_accuracy: 0.9037 - dense_2_9_accuracy: 0.9223\n",
      "Epoch 31/100\n",
      "100/100 [==============================] - 4s 42ms/step - loss: 1.5415 - dense_2_loss: 0.0563 - dense_2_1_loss: 0.0396 - dense_2_2_loss: 0.3246 - dense_2_3_loss: 0.3110 - dense_2_4_loss: 0.0027 - dense_2_5_loss: 0.0492 - dense_2_6_loss: 0.3090 - dense_2_7_loss: 0.0018 - dense_2_8_loss: 0.2392 - dense_2_9_loss: 0.2080 - dense_2_accuracy: 0.9812 - dense_2_1_accuracy: 0.9836 - dense_2_2_accuracy: 0.8686 - dense_2_3_accuracy: 0.9113 - dense_2_4_accuracy: 1.0000 - dense_2_5_accuracy: 0.9886 - dense_2_6_accuracy: 0.9127 - dense_2_7_accuracy: 1.0000 - dense_2_8_accuracy: 0.9121 - dense_2_9_accuracy: 0.9286\n",
      "Epoch 32/100\n",
      "100/100 [==============================] - 4s 42ms/step - loss: 1.4885 - dense_2_loss: 0.0557 - dense_2_1_loss: 0.0388 - dense_2_2_loss: 0.3129 - dense_2_3_loss: 0.3022 - dense_2_4_loss: 0.0026 - dense_2_5_loss: 0.0470 - dense_2_6_loss: 0.2886 - dense_2_7_loss: 0.0018 - dense_2_8_loss: 0.2373 - dense_2_9_loss: 0.2017 - dense_2_accuracy: 0.9838 - dense_2_1_accuracy: 0.9847 - dense_2_2_accuracy: 0.8744 - dense_2_3_accuracy: 0.9103 - dense_2_4_accuracy: 1.0000 - dense_2_5_accuracy: 0.9886 - dense_2_6_accuracy: 0.9255 - dense_2_7_accuracy: 1.0000 - dense_2_8_accuracy: 0.9103 - dense_2_9_accuracy: 0.9318\n",
      "Epoch 33/100\n",
      "100/100 [==============================] - 4s 42ms/step - loss: 1.4027 - dense_2_loss: 0.0511 - dense_2_1_loss: 0.0338 - dense_2_2_loss: 0.2901 - dense_2_3_loss: 0.2879 - dense_2_4_loss: 0.0025 - dense_2_5_loss: 0.0473 - dense_2_6_loss: 0.2784 - dense_2_7_loss: 0.0017 - dense_2_8_loss: 0.2181 - dense_2_9_loss: 0.1918 - dense_2_accuracy: 0.9838 - dense_2_1_accuracy: 0.9854 - dense_2_2_accuracy: 0.8888 - dense_2_3_accuracy: 0.9163 - dense_2_4_accuracy: 1.0000 - dense_2_5_accuracy: 0.9872 - dense_2_6_accuracy: 0.9306 - dense_2_7_accuracy: 1.0000 - dense_2_8_accuracy: 0.9225 - dense_2_9_accuracy: 0.9364\n",
      "Epoch 34/100\n",
      "100/100 [==============================] - 4s 42ms/step - loss: 1.3881 - dense_2_loss: 0.0542 - dense_2_1_loss: 0.0373 - dense_2_2_loss: 0.2901 - dense_2_3_loss: 0.2863 - dense_2_4_loss: 0.0025 - dense_2_5_loss: 0.0442 - dense_2_6_loss: 0.2732 - dense_2_7_loss: 0.0017 - dense_2_8_loss: 0.2105 - dense_2_9_loss: 0.1882 - dense_2_accuracy: 0.9836 - dense_2_1_accuracy: 0.9849 - dense_2_2_accuracy: 0.8903 - dense_2_3_accuracy: 0.9121 - dense_2_4_accuracy: 1.0000 - dense_2_5_accuracy: 0.9890 - dense_2_6_accuracy: 0.9332 - dense_2_7_accuracy: 1.0000 - dense_2_8_accuracy: 0.9245 - dense_2_9_accuracy: 0.9357\n",
      "Epoch 35/100\n",
      "100/100 [==============================] - 4s 42ms/step - loss: 1.2981 - dense_2_loss: 0.0474 - dense_2_1_loss: 0.0298 - dense_2_2_loss: 0.2747 - dense_2_3_loss: 0.2666 - dense_2_4_loss: 0.0024 - dense_2_5_loss: 0.0413 - dense_2_6_loss: 0.2573 - dense_2_7_loss: 0.0016 - dense_2_8_loss: 0.2041 - dense_2_9_loss: 0.1729 - dense_2_accuracy: 0.9854 - dense_2_1_accuracy: 0.9879 - dense_2_2_accuracy: 0.8928 - dense_2_3_accuracy: 0.9201 - dense_2_4_accuracy: 1.0000 - dense_2_5_accuracy: 0.9900 - dense_2_6_accuracy: 0.9350 - dense_2_7_accuracy: 1.0000 - dense_2_8_accuracy: 0.9287 - dense_2_9_accuracy: 0.9443\n",
      "Epoch 36/100\n",
      "100/100 [==============================] - 4s 42ms/step - loss: 1.2521 - dense_2_loss: 0.0489 - dense_2_1_loss: 0.0319 - dense_2_2_loss: 0.2636 - dense_2_3_loss: 0.2607 - dense_2_4_loss: 0.0022 - dense_2_5_loss: 0.0422 - dense_2_6_loss: 0.2446 - dense_2_7_loss: 0.0015 - dense_2_8_loss: 0.1889 - dense_2_9_loss: 0.1675 - dense_2_accuracy: 0.9844 - dense_2_1_accuracy: 0.9871 - dense_2_2_accuracy: 0.9026 - dense_2_3_accuracy: 0.9230 - dense_2_4_accuracy: 1.0000 - dense_2_5_accuracy: 0.9882 - dense_2_6_accuracy: 0.9391 - dense_2_7_accuracy: 1.0000 - dense_2_8_accuracy: 0.9369 - dense_2_9_accuracy: 0.9472\n",
      "Epoch 37/100\n",
      "100/100 [==============================] - 4s 43ms/step - loss: 1.2131 - dense_2_loss: 0.0464 - dense_2_1_loss: 0.0291 - dense_2_2_loss: 0.2528 - dense_2_3_loss: 0.2537 - dense_2_4_loss: 0.0024 - dense_2_5_loss: 0.0382 - dense_2_6_loss: 0.2469 - dense_2_7_loss: 0.0014 - dense_2_8_loss: 0.1832 - dense_2_9_loss: 0.1589 - dense_2_accuracy: 0.9866 - dense_2_1_accuracy: 0.9882 - dense_2_2_accuracy: 0.9028 - dense_2_3_accuracy: 0.9258 - dense_2_4_accuracy: 1.0000 - dense_2_5_accuracy: 0.9898 - dense_2_6_accuracy: 0.9395 - dense_2_7_accuracy: 1.0000 - dense_2_8_accuracy: 0.9373 - dense_2_9_accuracy: 0.9505\n",
      "Epoch 38/100\n",
      "100/100 [==============================] - 5s 46ms/step - loss: 1.1868 - dense_2_loss: 0.0484 - dense_2_1_loss: 0.0306 - dense_2_2_loss: 0.2472 - dense_2_3_loss: 0.2468 - dense_2_4_loss: 0.0022 - dense_2_5_loss: 0.0405 - dense_2_6_loss: 0.2367 - dense_2_7_loss: 0.0015 - dense_2_8_loss: 0.1798 - dense_2_9_loss: 0.1532 - dense_2_accuracy: 0.9852 - dense_2_1_accuracy: 0.9865 - dense_2_2_accuracy: 0.9066 - dense_2_3_accuracy: 0.9261 - dense_2_4_accuracy: 1.0000 - dense_2_5_accuracy: 0.9899 - dense_2_6_accuracy: 0.9402 - dense_2_7_accuracy: 1.0000 - dense_2_8_accuracy: 0.9396 - dense_2_9_accuracy: 0.9509\n",
      "Epoch 39/100\n",
      "100/100 [==============================] - 4s 44ms/step - loss: 1.1358 - dense_2_loss: 0.0491 - dense_2_1_loss: 0.0301 - dense_2_2_loss: 0.2335 - dense_2_3_loss: 0.2366 - dense_2_4_loss: 0.0020 - dense_2_5_loss: 0.0375 - dense_2_6_loss: 0.2337 - dense_2_7_loss: 0.0014 - dense_2_8_loss: 0.1659 - dense_2_9_loss: 0.1460 - dense_2_accuracy: 0.9848 - dense_2_1_accuracy: 0.9860 - dense_2_2_accuracy: 0.9163 - dense_2_3_accuracy: 0.9295 - dense_2_4_accuracy: 1.0000 - dense_2_5_accuracy: 0.9904 - dense_2_6_accuracy: 0.9411 - dense_2_7_accuracy: 1.0000 - dense_2_8_accuracy: 0.9466 - dense_2_9_accuracy: 0.9535\n",
      "Epoch 40/100\n",
      "100/100 [==============================] - 4s 43ms/step - loss: 1.1173 - dense_2_loss: 0.0480 - dense_2_1_loss: 0.0298 - dense_2_2_loss: 0.2236 - dense_2_3_loss: 0.2371 - dense_2_4_loss: 0.0020 - dense_2_5_loss: 0.0417 - dense_2_6_loss: 0.2235 - dense_2_7_loss: 0.0014 - dense_2_8_loss: 0.1668 - dense_2_9_loss: 0.1435 - dense_2_accuracy: 0.9860 - dense_2_1_accuracy: 0.9878 - dense_2_2_accuracy: 0.9191 - dense_2_3_accuracy: 0.9354 - dense_2_4_accuracy: 1.0000 - dense_2_5_accuracy: 0.9876 - dense_2_6_accuracy: 0.9440 - dense_2_7_accuracy: 1.0000 - dense_2_8_accuracy: 0.9444 - dense_2_9_accuracy: 0.9558\n",
      "Epoch 41/100\n",
      "100/100 [==============================] - 4s 43ms/step - loss: 1.0712 - dense_2_loss: 0.0466 - dense_2_1_loss: 0.0296 - dense_2_2_loss: 0.2115 - dense_2_3_loss: 0.2195 - dense_2_4_loss: 0.0022 - dense_2_5_loss: 0.0380 - dense_2_6_loss: 0.2290 - dense_2_7_loss: 0.0013 - dense_2_8_loss: 0.1567 - dense_2_9_loss: 0.1368 - dense_2_accuracy: 0.9864 - dense_2_1_accuracy: 0.9877 - dense_2_2_accuracy: 0.9267 - dense_2_3_accuracy: 0.9389 - dense_2_4_accuracy: 1.0000 - dense_2_5_accuracy: 0.9902 - dense_2_6_accuracy: 0.9420 - dense_2_7_accuracy: 1.0000 - dense_2_8_accuracy: 0.9505 - dense_2_9_accuracy: 0.9560\n",
      "Epoch 42/100\n",
      "100/100 [==============================] - 4s 43ms/step - loss: 1.0310 - dense_2_loss: 0.0446 - dense_2_1_loss: 0.0268 - dense_2_2_loss: 0.2032 - dense_2_3_loss: 0.2040 - dense_2_4_loss: 0.0020 - dense_2_5_loss: 0.0408 - dense_2_6_loss: 0.2234 - dense_2_7_loss: 0.0013 - dense_2_8_loss: 0.1523 - dense_2_9_loss: 0.1326 - dense_2_accuracy: 0.9861 - dense_2_1_accuracy: 0.9886 - dense_2_2_accuracy: 0.9314 - dense_2_3_accuracy: 0.9449 - dense_2_4_accuracy: 1.0000 - dense_2_5_accuracy: 0.9883 - dense_2_6_accuracy: 0.9431 - dense_2_7_accuracy: 1.0000 - dense_2_8_accuracy: 0.9569 - dense_2_9_accuracy: 0.9583\n",
      "Epoch 43/100\n",
      "100/100 [==============================] - 4s 43ms/step - loss: 0.9869 - dense_2_loss: 0.0443 - dense_2_1_loss: 0.0274 - dense_2_2_loss: 0.1947 - dense_2_3_loss: 0.2010 - dense_2_4_loss: 0.0022 - dense_2_5_loss: 0.0382 - dense_2_6_loss: 0.2148 - dense_2_7_loss: 0.0013 - dense_2_8_loss: 0.1411 - dense_2_9_loss: 0.1220 - dense_2_accuracy: 0.9860 - dense_2_1_accuracy: 0.9876 - dense_2_2_accuracy: 0.9345 - dense_2_3_accuracy: 0.9461 - dense_2_4_accuracy: 0.9998 - dense_2_5_accuracy: 0.9900 - dense_2_6_accuracy: 0.9451 - dense_2_7_accuracy: 1.0000 - dense_2_8_accuracy: 0.9583 - dense_2_9_accuracy: 0.9640\n",
      "Epoch 44/100\n",
      "100/100 [==============================] - 4s 43ms/step - loss: 0.9637 - dense_2_loss: 0.0420 - dense_2_1_loss: 0.0245 - dense_2_2_loss: 0.1845 - dense_2_3_loss: 0.1978 - dense_2_4_loss: 0.0019 - dense_2_5_loss: 0.0385 - dense_2_6_loss: 0.2137 - dense_2_7_loss: 0.0012 - dense_2_8_loss: 0.1394 - dense_2_9_loss: 0.1202 - dense_2_accuracy: 0.9863 - dense_2_1_accuracy: 0.9889 - dense_2_2_accuracy: 0.9422 - dense_2_3_accuracy: 0.9505 - dense_2_4_accuracy: 1.0000 - dense_2_5_accuracy: 0.9889 - dense_2_6_accuracy: 0.9461 - dense_2_7_accuracy: 1.0000 - dense_2_8_accuracy: 0.9600 - dense_2_9_accuracy: 0.9665: 1s - loss: 0.9750 - dense_2_loss: 0.0399 - dense_2_1_loss: 0.0220 - dense_2_2_loss: 0.1874 - dense_2_3_loss: 0.1984 - dense_2_4_loss: 0.0019 - dense_2_5_loss: 0.0401 - dense_2_6_loss: 0.2203 - dense_2_7_loss: 0.0011 - dense_2_8_loss: 0.1414 - dense_2_9_loss: 0.1226 - dense_2_accuracy: 0.9871 - dense_2_1_accuracy: 0.9899 - dense_2_2_accuracy: 0.9425 - dense_2_3_accuracy: 0.9503 - dense_2_4_accuracy: 1.0000 - dense_2_5_accuracy: 0.9880 - dense_2_6_accuracy: 0.9431 - dense_2_7_accuracy: 1.0000 - dense_2_8_accuracy: 0.9587 - de\n",
      "Epoch 45/100\n",
      "100/100 [==============================] - 4s 43ms/step - loss: 0.9267 - dense_2_loss: 0.0438 - dense_2_1_loss: 0.0270 - dense_2_2_loss: 0.1689 - dense_2_3_loss: 0.1852 - dense_2_4_loss: 0.0019 - dense_2_5_loss: 0.0397 - dense_2_6_loss: 0.2057 - dense_2_7_loss: 0.0012 - dense_2_8_loss: 0.1357 - dense_2_9_loss: 0.1178 - dense_2_accuracy: 0.9861 - dense_2_1_accuracy: 0.9883 - dense_2_2_accuracy: 0.9494 - dense_2_3_accuracy: 0.9552 - dense_2_4_accuracy: 1.0000 - dense_2_5_accuracy: 0.9889 - dense_2_6_accuracy: 0.9478 - dense_2_7_accuracy: 1.0000 - dense_2_8_accuracy: 0.9633 - dense_2_9_accuracy: 0.9674\n",
      "Epoch 46/100\n",
      "100/100 [==============================] - 4s 42ms/step - loss: 0.8968 - dense_2_loss: 0.0428 - dense_2_1_loss: 0.0266 - dense_2_2_loss: 0.1678 - dense_2_3_loss: 0.1852 - dense_2_4_loss: 0.0018 - dense_2_5_loss: 0.0354 - dense_2_6_loss: 0.1993 - dense_2_7_loss: 0.0011 - dense_2_8_loss: 0.1256 - dense_2_9_loss: 0.1113 - dense_2_accuracy: 0.9864 - dense_2_1_accuracy: 0.9890 - dense_2_2_accuracy: 0.9463 - dense_2_3_accuracy: 0.9523 - dense_2_4_accuracy: 1.0000 - dense_2_5_accuracy: 0.9906 - dense_2_6_accuracy: 0.9530 - dense_2_7_accuracy: 1.0000 - dense_2_8_accuracy: 0.9678 - dense_2_9_accuracy: 0.9706\n",
      "Epoch 47/100\n",
      "100/100 [==============================] - 4s 42ms/step - loss: 0.8531 - dense_2_loss: 0.0434 - dense_2_1_loss: 0.0280 - dense_2_2_loss: 0.1586 - dense_2_3_loss: 0.1787 - dense_2_4_loss: 0.0018 - dense_2_5_loss: 0.0341 - dense_2_6_loss: 0.1826 - dense_2_7_loss: 0.0011 - dense_2_8_loss: 0.1201 - dense_2_9_loss: 0.1048 - dense_2_accuracy: 0.9854 - dense_2_1_accuracy: 0.9884 - dense_2_2_accuracy: 0.9510 - dense_2_3_accuracy: 0.9587 - dense_2_4_accuracy: 1.0000 - dense_2_5_accuracy: 0.9914 - dense_2_6_accuracy: 0.9564 - dense_2_7_accuracy: 1.0000 - dense_2_8_accuracy: 0.9674 - dense_2_9_accuracy: 0.9735\n",
      "Epoch 48/100\n",
      "100/100 [==============================] - 4s 42ms/step - loss: 0.8326 - dense_2_loss: 0.0433 - dense_2_1_loss: 0.0288 - dense_2_2_loss: 0.1465 - dense_2_3_loss: 0.1722 - dense_2_4_loss: 0.0017 - dense_2_5_loss: 0.0363 - dense_2_6_loss: 0.1867 - dense_2_7_loss: 0.0011 - dense_2_8_loss: 0.1112 - dense_2_9_loss: 0.1049 - dense_2_accuracy: 0.9852 - dense_2_1_accuracy: 0.9878 - dense_2_2_accuracy: 0.9573 - dense_2_3_accuracy: 0.9636 - dense_2_4_accuracy: 1.0000 - dense_2_5_accuracy: 0.9904 - dense_2_6_accuracy: 0.9552 - dense_2_7_accuracy: 1.0000 - dense_2_8_accuracy: 0.9726 - dense_2_9_accuracy: 0.9729\n",
      "Epoch 49/100\n",
      "100/100 [==============================] - 4s 42ms/step - loss: 0.8117 - dense_2_loss: 0.0431 - dense_2_1_loss: 0.0267 - dense_2_2_loss: 0.1413 - dense_2_3_loss: 0.1616 - dense_2_4_loss: 0.0017 - dense_2_5_loss: 0.0344 - dense_2_6_loss: 0.1864 - dense_2_7_loss: 0.0011 - dense_2_8_loss: 0.1120 - dense_2_9_loss: 0.1033 - dense_2_accuracy: 0.9844 - dense_2_1_accuracy: 0.9888 - dense_2_2_accuracy: 0.9604 - dense_2_3_accuracy: 0.9647 - dense_2_4_accuracy: 1.0000 - dense_2_5_accuracy: 0.9900 - dense_2_6_accuracy: 0.9537 - dense_2_7_accuracy: 1.0000 - dense_2_8_accuracy: 0.9700 - dense_2_9_accuracy: 0.9733\n",
      "Epoch 50/100\n",
      "100/100 [==============================] - 4s 42ms/step - loss: 0.7743 - dense_2_loss: 0.0405 - dense_2_1_loss: 0.0266 - dense_2_2_loss: 0.1278 - dense_2_3_loss: 0.1538 - dense_2_4_loss: 0.0017 - dense_2_5_loss: 0.0332 - dense_2_6_loss: 0.1822 - dense_2_7_loss: 9.4727e-04 - dense_2_8_loss: 0.1109 - dense_2_9_loss: 0.0966 - dense_2_accuracy: 0.9854 - dense_2_1_accuracy: 0.9885 - dense_2_2_accuracy: 0.9660 - dense_2_3_accuracy: 0.9679 - dense_2_4_accuracy: 1.0000 - dense_2_5_accuracy: 0.9899 - dense_2_6_accuracy: 0.9546 - dense_2_7_accuracy: 1.0000 - dense_2_8_accuracy: 0.9728 - dense_2_9_accuracy: 0.9780\n",
      "Epoch 51/100\n",
      "100/100 [==============================] - 4s 42ms/step - loss: 0.7322 - dense_2_loss: 0.0378 - dense_2_1_loss: 0.0236 - dense_2_2_loss: 0.1235 - dense_2_3_loss: 0.1428 - dense_2_4_loss: 0.0017 - dense_2_5_loss: 0.0343 - dense_2_6_loss: 0.1766 - dense_2_7_loss: 9.5131e-04 - dense_2_8_loss: 0.1026 - dense_2_9_loss: 0.0883 - dense_2_accuracy: 0.9864 - dense_2_1_accuracy: 0.9902 - dense_2_2_accuracy: 0.9651 - dense_2_3_accuracy: 0.9740 - dense_2_4_accuracy: 1.0000 - dense_2_5_accuracy: 0.9901 - dense_2_6_accuracy: 0.9556 - dense_2_7_accuracy: 1.0000 - dense_2_8_accuracy: 0.9746 - dense_2_9_accuracy: 0.9817\n",
      "Epoch 52/100\n",
      "100/100 [==============================] - 4s 42ms/step - loss: 0.7481 - dense_2_loss: 0.0419 - dense_2_1_loss: 0.0271 - dense_2_2_loss: 0.1166 - dense_2_3_loss: 0.1511 - dense_2_4_loss: 0.0015 - dense_2_5_loss: 0.0347 - dense_2_6_loss: 0.1788 - dense_2_7_loss: 8.7717e-04 - dense_2_8_loss: 0.1047 - dense_2_9_loss: 0.0907 - dense_2_accuracy: 0.9836 - dense_2_1_accuracy: 0.9891 - dense_2_2_accuracy: 0.9692 - dense_2_3_accuracy: 0.9733 - dense_2_4_accuracy: 1.0000 - dense_2_5_accuracy: 0.9893 - dense_2_6_accuracy: 0.9546 - dense_2_7_accuracy: 1.0000 - dense_2_8_accuracy: 0.9727 - dense_2_9_accuracy: 0.9805\n",
      "Epoch 53/100\n",
      "100/100 [==============================] - 4s 43ms/step - loss: 0.6791 - dense_2_loss: 0.0342 - dense_2_1_loss: 0.0210 - dense_2_2_loss: 0.1047 - dense_2_3_loss: 0.1339 - dense_2_4_loss: 0.0015 - dense_2_5_loss: 0.0335 - dense_2_6_loss: 0.1639 - dense_2_7_loss: 8.9607e-04 - dense_2_8_loss: 0.0975 - dense_2_9_loss: 0.0881 - dense_2_accuracy: 0.9895 - dense_2_1_accuracy: 0.9914 - dense_2_2_accuracy: 0.9755 - dense_2_3_accuracy: 0.9769 - dense_2_4_accuracy: 1.0000 - dense_2_5_accuracy: 0.9905 - dense_2_6_accuracy: 0.9599 - dense_2_7_accuracy: 1.0000 - dense_2_8_accuracy: 0.9753 - dense_2_9_accuracy: 0.9828\n",
      "Epoch 54/100\n",
      "100/100 [==============================] - 4s 44ms/step - loss: 0.6539 - dense_2_loss: 0.0353 - dense_2_1_loss: 0.0220 - dense_2_2_loss: 0.1027 - dense_2_3_loss: 0.1238 - dense_2_4_loss: 0.0015 - dense_2_5_loss: 0.0302 - dense_2_6_loss: 0.1580 - dense_2_7_loss: 8.8178e-04 - dense_2_8_loss: 0.0949 - dense_2_9_loss: 0.0846 - dense_2_accuracy: 0.9871 - dense_2_1_accuracy: 0.9906 - dense_2_2_accuracy: 0.9770 - dense_2_3_accuracy: 0.9815 - dense_2_4_accuracy: 1.0000 - dense_2_5_accuracy: 0.9895 - dense_2_6_accuracy: 0.9616 - dense_2_7_accuracy: 1.0000 - dense_2_8_accuracy: 0.9775 - dense_2_9_accuracy: 0.9828\n",
      "Epoch 55/100\n",
      "100/100 [==============================] - 4s 43ms/step - loss: 0.6685 - dense_2_loss: 0.0393 - dense_2_1_loss: 0.0250 - dense_2_2_loss: 0.0981 - dense_2_3_loss: 0.1269 - dense_2_4_loss: 0.0015 - dense_2_5_loss: 0.0379 - dense_2_6_loss: 0.1641 - dense_2_7_loss: 9.3517e-04 - dense_2_8_loss: 0.0910 - dense_2_9_loss: 0.0837 - dense_2_accuracy: 0.9839 - dense_2_1_accuracy: 0.9885 - dense_2_2_accuracy: 0.9767 - dense_2_3_accuracy: 0.9825 - dense_2_4_accuracy: 1.0000 - dense_2_5_accuracy: 0.9893 - dense_2_6_accuracy: 0.9588 - dense_2_7_accuracy: 1.0000 - dense_2_8_accuracy: 0.9762 - dense_2_9_accuracy: 0.9837\n",
      "Epoch 56/100\n",
      "100/100 [==============================] - 4s 43ms/step - loss: 0.6189 - dense_2_loss: 0.0329 - dense_2_1_loss: 0.0200 - dense_2_2_loss: 0.0885 - dense_2_3_loss: 0.1162 - dense_2_4_loss: 0.0016 - dense_2_5_loss: 0.0305 - dense_2_6_loss: 0.1637 - dense_2_7_loss: 8.2161e-04 - dense_2_8_loss: 0.0871 - dense_2_9_loss: 0.0775 - dense_2_accuracy: 0.9881 - dense_2_1_accuracy: 0.9916 - dense_2_2_accuracy: 0.9807 - dense_2_3_accuracy: 0.9836 - dense_2_4_accuracy: 1.0000 - dense_2_5_accuracy: 0.9908 - dense_2_6_accuracy: 0.9617 - dense_2_7_accuracy: 1.0000 - dense_2_8_accuracy: 0.9782 - dense_2_9_accuracy: 0.9841\n",
      "Epoch 57/100\n",
      "100/100 [==============================] - 4s 42ms/step - loss: 0.6217 - dense_2_loss: 0.0386 - dense_2_1_loss: 0.0241 - dense_2_2_loss: 0.0874 - dense_2_3_loss: 0.1169 - dense_2_4_loss: 0.0014 - dense_2_5_loss: 0.0310 - dense_2_6_loss: 0.1600 - dense_2_7_loss: 7.7634e-04 - dense_2_8_loss: 0.0876 - dense_2_9_loss: 0.0742 - dense_2_accuracy: 0.9852 - dense_2_1_accuracy: 0.9908 - dense_2_2_accuracy: 0.9806 - dense_2_3_accuracy: 0.9851 - dense_2_4_accuracy: 1.0000 - dense_2_5_accuracy: 0.9917 - dense_2_6_accuracy: 0.9594 - dense_2_7_accuracy: 1.0000 - dense_2_8_accuracy: 0.9800 - dense_2_9_accuracy: 0.9882\n",
      "Epoch 58/100\n",
      "100/100 [==============================] - 4s 44ms/step - loss: 0.5733 - dense_2_loss: 0.0311 - dense_2_1_loss: 0.0185 - dense_2_2_loss: 0.0788 - dense_2_3_loss: 0.1061 - dense_2_4_loss: 0.0015 - dense_2_5_loss: 0.0311 - dense_2_6_loss: 0.1551 - dense_2_7_loss: 7.8718e-04 - dense_2_8_loss: 0.0798 - dense_2_9_loss: 0.0706 - dense_2_accuracy: 0.9888 - dense_2_1_accuracy: 0.9927 - dense_2_2_accuracy: 0.9846 - dense_2_3_accuracy: 0.9884 - dense_2_4_accuracy: 1.0000 - dense_2_5_accuracy: 0.9908 - dense_2_6_accuracy: 0.9614 - dense_2_7_accuracy: 1.0000 - dense_2_8_accuracy: 0.9828 - dense_2_9_accuracy: 0.9911 - loss: 0.5617 - dense_2_loss: 0.0309 - dense_2_1_loss: 0.0173 - dense_2_2_loss: 0.0782 - dense_2_3_loss: 0.1084 - dense_2_4_loss: 0.0018 - dense_2_5_loss: 0.0298 - dense_2_6_loss: 0.1531 - dense_2_7_loss: 0.0010 - dense_2_8_loss: 0.0752 - dense_2_9_loss: 0.0660 - dense_2_accuracy: 0.9882 - dense_2_1_accuracy: 0.9920 - dense_2_2_accuracy: 0.9864 - dense_2_3_accuracy: 0.9876 - dense_2_4_accuracy: 1.0000 - dense_2_5_accuracy: 0.9913 - dense_2_6_accuracy: 0.9639 - dense_2_7_accuracy: 1.0000 - dense_2_8_a\n",
      "Epoch 59/100\n",
      "100/100 [==============================] - 4s 43ms/step - loss: 0.5595 - dense_2_loss: 0.0345 - dense_2_1_loss: 0.0203 - dense_2_2_loss: 0.0790 - dense_2_3_loss: 0.1017 - dense_2_4_loss: 0.0013 - dense_2_5_loss: 0.0289 - dense_2_6_loss: 0.1474 - dense_2_7_loss: 7.4313e-04 - dense_2_8_loss: 0.0778 - dense_2_9_loss: 0.0678 - dense_2_accuracy: 0.9855 - dense_2_1_accuracy: 0.9917 - dense_2_2_accuracy: 0.9817 - dense_2_3_accuracy: 0.9895 - dense_2_4_accuracy: 1.0000 - dense_2_5_accuracy: 0.9922 - dense_2_6_accuracy: 0.9641 - dense_2_7_accuracy: 1.0000 - dense_2_8_accuracy: 0.9831 - dense_2_9_accuracy: 0.9890\n",
      "Epoch 60/100\n",
      "100/100 [==============================] - 4s 42ms/step - loss: 0.5452 - dense_2_loss: 0.0342 - dense_2_1_loss: 0.0202 - dense_2_2_loss: 0.0709 - dense_2_3_loss: 0.0947 - dense_2_4_loss: 0.0014 - dense_2_5_loss: 0.0317 - dense_2_6_loss: 0.1472 - dense_2_7_loss: 7.6837e-04 - dense_2_8_loss: 0.0769 - dense_2_9_loss: 0.0672 - dense_2_accuracy: 0.9853 - dense_2_1_accuracy: 0.9909 - dense_2_2_accuracy: 0.9860 - dense_2_3_accuracy: 0.9903 - dense_2_4_accuracy: 1.0000 - dense_2_5_accuracy: 0.9905 - dense_2_6_accuracy: 0.9632 - dense_2_7_accuracy: 1.0000 - dense_2_8_accuracy: 0.9850 - dense_2_9_accuracy: 0.9889\n",
      "Epoch 61/100\n",
      "100/100 [==============================] - 4s 43ms/step - loss: 0.5175 - dense_2_loss: 0.0303 - dense_2_1_loss: 0.0188 - dense_2_2_loss: 0.0683 - dense_2_3_loss: 0.0920 - dense_2_4_loss: 0.0012 - dense_2_5_loss: 0.0266 - dense_2_6_loss: 0.1476 - dense_2_7_loss: 6.7044e-04 - dense_2_8_loss: 0.0711 - dense_2_9_loss: 0.0609 - dense_2_accuracy: 0.9879 - dense_2_1_accuracy: 0.9927 - dense_2_2_accuracy: 0.9867 - dense_2_3_accuracy: 0.9910 - dense_2_4_accuracy: 1.0000 - dense_2_5_accuracy: 0.9913 - dense_2_6_accuracy: 0.9613 - dense_2_7_accuracy: 1.0000 - dense_2_8_accuracy: 0.9859 - dense_2_9_accuracy: 0.9925\n",
      "Epoch 62/100\n",
      "100/100 [==============================] - 4s 42ms/step - loss: 0.5006 - dense_2_loss: 0.0333 - dense_2_1_loss: 0.0207 - dense_2_2_loss: 0.0634 - dense_2_3_loss: 0.0882 - dense_2_4_loss: 0.0011 - dense_2_5_loss: 0.0277 - dense_2_6_loss: 0.1400 - dense_2_7_loss: 6.6889e-04 - dense_2_8_loss: 0.0687 - dense_2_9_loss: 0.0568 - dense_2_accuracy: 0.9864 - dense_2_1_accuracy: 0.9920 - dense_2_2_accuracy: 0.9880 - dense_2_3_accuracy: 0.9915 - dense_2_4_accuracy: 1.0000 - dense_2_5_accuracy: 0.9918 - dense_2_6_accuracy: 0.9648 - dense_2_7_accuracy: 1.0000 - dense_2_8_accuracy: 0.9865 - dense_2_9_accuracy: 0.9924\n",
      "Epoch 63/100\n",
      "100/100 [==============================] - 4s 42ms/step - loss: 0.4917 - dense_2_loss: 0.0337 - dense_2_1_loss: 0.0191 - dense_2_2_loss: 0.0610 - dense_2_3_loss: 0.0846 - dense_2_4_loss: 0.0011 - dense_2_5_loss: 0.0276 - dense_2_6_loss: 0.1369 - dense_2_7_loss: 6.2585e-04 - dense_2_8_loss: 0.0671 - dense_2_9_loss: 0.0599 - dense_2_accuracy: 0.9850 - dense_2_1_accuracy: 0.9933 - dense_2_2_accuracy: 0.9897 - dense_2_3_accuracy: 0.9918 - dense_2_4_accuracy: 1.0000 - dense_2_5_accuracy: 0.9918 - dense_2_6_accuracy: 0.9662 - dense_2_7_accuracy: 1.0000 - dense_2_8_accuracy: 0.9870 - dense_2_9_accuracy: 0.9924\n",
      "Epoch 64/100\n",
      "100/100 [==============================] - 4s 43ms/step - loss: 0.4933 - dense_2_loss: 0.0332 - dense_2_1_loss: 0.0190 - dense_2_2_loss: 0.0590 - dense_2_3_loss: 0.0889 - dense_2_4_loss: 0.0010 - dense_2_5_loss: 0.0261 - dense_2_6_loss: 0.1429 - dense_2_7_loss: 6.1831e-04 - dense_2_8_loss: 0.0666 - dense_2_9_loss: 0.0559 - dense_2_accuracy: 0.9858 - dense_2_1_accuracy: 0.9925 - dense_2_2_accuracy: 0.9910 - dense_2_3_accuracy: 0.9924 - dense_2_4_accuracy: 1.0000 - dense_2_5_accuracy: 0.9922 - dense_2_6_accuracy: 0.9624 - dense_2_7_accuracy: 1.0000 - dense_2_8_accuracy: 0.9860 - dense_2_9_accuracy: 0.9929\n",
      "Epoch 65/100\n",
      "100/100 [==============================] - 4s 43ms/step - loss: 0.4580 - dense_2_loss: 0.0296 - dense_2_1_loss: 0.0175 - dense_2_2_loss: 0.0528 - dense_2_3_loss: 0.0764 - dense_2_4_loss: 0.0011 - dense_2_5_loss: 0.0292 - dense_2_6_loss: 0.1343 - dense_2_7_loss: 5.6492e-04 - dense_2_8_loss: 0.0613 - dense_2_9_loss: 0.0554 - dense_2_accuracy: 0.9883 - dense_2_1_accuracy: 0.9936 - dense_2_2_accuracy: 0.9918 - dense_2_3_accuracy: 0.9939 - dense_2_4_accuracy: 1.0000 - dense_2_5_accuracy: 0.9917 - dense_2_6_accuracy: 0.9655 - dense_2_7_accuracy: 1.0000 - dense_2_8_accuracy: 0.9897 - dense_2_9_accuracy: 0.9933: 1s - loss: 0.4563 - dense_2_loss: 0.0299 - dense_2_1_loss: 0.0178 - dense_2_2_loss: 0.0521 - dense_2_3_loss: 0.0750 - dense_2_4_loss: 0.0011 - dense_2_5_loss: 0.0293 - dense_2_6_loss: 0.1343 - dense_2_7_loss: 5.4321e-04 - dense_2_8_loss: 0.0606 - dense_2_9_loss: 0.0556 - dense_2_accuracy: 0.9883 - dense_2_1_accuracy: 0.9933 - dense_2_2_accuracy: 0.9920 - dense_2_3_accuracy: 0.9943 - dense_2_4_accuracy: 1.0000 - dense_2_5_accuracy: 0.9914 - dense_2_6_accuracy: 0.9657 - dense_2_7_accuracy: 1.0000 - dense_2_8_accuracy: 0.9903 - dense_2_\n",
      "Epoch 66/100\n",
      "100/100 [==============================] - 4s 43ms/step - loss: 0.4500 - dense_2_loss: 0.0295 - dense_2_1_loss: 0.0173 - dense_2_2_loss: 0.0521 - dense_2_3_loss: 0.0780 - dense_2_4_loss: 0.0010 - dense_2_5_loss: 0.0264 - dense_2_6_loss: 0.1331 - dense_2_7_loss: 5.8907e-04 - dense_2_8_loss: 0.0592 - dense_2_9_loss: 0.0527 - dense_2_accuracy: 0.9872 - dense_2_1_accuracy: 0.9932 - dense_2_2_accuracy: 0.9918 - dense_2_3_accuracy: 0.9937 - dense_2_4_accuracy: 1.0000 - dense_2_5_accuracy: 0.9912 - dense_2_6_accuracy: 0.9667 - dense_2_7_accuracy: 1.0000 - dense_2_8_accuracy: 0.9897 - dense_2_9_accuracy: 0.9932\n",
      "Epoch 67/100\n",
      "100/100 [==============================] - 4s 43ms/step - loss: 0.4521 - dense_2_loss: 0.0319 - dense_2_1_loss: 0.0191 - dense_2_2_loss: 0.0536 - dense_2_3_loss: 0.0751 - dense_2_4_loss: 9.8935e-04 - dense_2_5_loss: 0.0260 - dense_2_6_loss: 0.1354 - dense_2_7_loss: 5.7711e-04 - dense_2_8_loss: 0.0586 - dense_2_9_loss: 0.0509 - dense_2_accuracy: 0.9872 - dense_2_1_accuracy: 0.9923 - dense_2_2_accuracy: 0.9900 - dense_2_3_accuracy: 0.9941 - dense_2_4_accuracy: 1.0000 - dense_2_5_accuracy: 0.9922 - dense_2_6_accuracy: 0.9665 - dense_2_7_accuracy: 1.0000 - dense_2_8_accuracy: 0.9898 - dense_2_9_accuracy: 0.9934\n",
      "Epoch 68/100\n",
      "100/100 [==============================] - 4s 43ms/step - loss: 0.4243 - dense_2_loss: 0.0263 - dense_2_1_loss: 0.0145 - dense_2_2_loss: 0.0430 - dense_2_3_loss: 0.0798 - dense_2_4_loss: 9.0772e-04 - dense_2_5_loss: 0.0252 - dense_2_6_loss: 0.1280 - dense_2_7_loss: 6.0152e-04 - dense_2_8_loss: 0.0565 - dense_2_9_loss: 0.0496 - dense_2_accuracy: 0.9899 - dense_2_1_accuracy: 0.9943 - dense_2_2_accuracy: 0.9947 - dense_2_3_accuracy: 0.9930 - dense_2_4_accuracy: 1.0000 - dense_2_5_accuracy: 0.9927 - dense_2_6_accuracy: 0.9669 - dense_2_7_accuracy: 1.0000 - dense_2_8_accuracy: 0.9890 - dense_2_9_accuracy: 0.9939\n",
      "Epoch 69/100\n",
      "100/100 [==============================] - 4s 44ms/step - loss: 0.4125 - dense_2_loss: 0.0286 - dense_2_1_loss: 0.0162 - dense_2_2_loss: 0.0421 - dense_2_3_loss: 0.0629 - dense_2_4_loss: 8.8667e-04 - dense_2_5_loss: 0.0275 - dense_2_6_loss: 0.1267 - dense_2_7_loss: 5.4487e-04 - dense_2_8_loss: 0.0568 - dense_2_9_loss: 0.0503 - dense_2_accuracy: 0.9873 - dense_2_1_accuracy: 0.9936 - dense_2_2_accuracy: 0.9941 - dense_2_3_accuracy: 0.9952 - dense_2_4_accuracy: 1.0000 - dense_2_5_accuracy: 0.9928 - dense_2_6_accuracy: 0.9668 - dense_2_7_accuracy: 1.0000 - dense_2_8_accuracy: 0.9890 - dense_2_9_accuracy: 0.9933\n",
      "Epoch 70/100\n",
      "100/100 [==============================] - 4s 43ms/step - loss: 0.4159 - dense_2_loss: 0.0305 - dense_2_1_loss: 0.0169 - dense_2_2_loss: 0.0425 - dense_2_3_loss: 0.0689 - dense_2_4_loss: 8.7215e-04 - dense_2_5_loss: 0.0254 - dense_2_6_loss: 0.1270 - dense_2_7_loss: 5.0632e-04 - dense_2_8_loss: 0.0567 - dense_2_9_loss: 0.0466 - dense_2_accuracy: 0.9865 - dense_2_1_accuracy: 0.9941 - dense_2_2_accuracy: 0.9942 - dense_2_3_accuracy: 0.9948 - dense_2_4_accuracy: 1.0000 - dense_2_5_accuracy: 0.9926 - dense_2_6_accuracy: 0.9674 - dense_2_7_accuracy: 1.0000 - dense_2_8_accuracy: 0.9875 - dense_2_9_accuracy: 0.9944\n",
      "Epoch 71/100\n",
      "100/100 [==============================] - 4s 43ms/step - loss: 0.3896 - dense_2_loss: 0.0247 - dense_2_1_loss: 0.0136 - dense_2_2_loss: 0.0404 - dense_2_3_loss: 0.0673 - dense_2_4_loss: 7.9025e-04 - dense_2_5_loss: 0.0277 - dense_2_6_loss: 0.1177 - dense_2_7_loss: 5.0959e-04 - dense_2_8_loss: 0.0519 - dense_2_9_loss: 0.0451 - dense_2_accuracy: 0.9896 - dense_2_1_accuracy: 0.9949 - dense_2_2_accuracy: 0.9948 - dense_2_3_accuracy: 0.9951 - dense_2_4_accuracy: 1.0000 - dense_2_5_accuracy: 0.9915 - dense_2_6_accuracy: 0.9681 - dense_2_7_accuracy: 1.0000 - dense_2_8_accuracy: 0.9905 - dense_2_9_accuracy: 0.9942: 1s - loss: 0.3861 - dense_2_loss: 0.0233 - dense_2_1_loss: 0.0128 - dense_2_2_loss: 0.0405 - dense_2_3_loss: 0.0678 - dense_2_4_loss: 7.7875e-04 - dense_2_5_loss: 0.0278 - dense_2_6_loss: 0.1157 - dense_2_7_loss: 5.1349e-04 - dense_2_8_loss: 0.0517 - dense_2_9_loss: 0.0453 - dense_2_accuracy: 0.9904 - dense_2_1_accuracy: 0.9953 - dense_2_2_accuracy: 0.9948 - dense_2_3_accuracy: 0.9951 - dense_2_4_accuracy: 1.0000 - dense_2_5_accuracy: 0.9916 - dense_2_6_accuracy: 0.9684 - dense_2_7_accuracy: 1.0000 - dense_2_8_accuracy: 0.9903 - dense_2_9_ac\n",
      "Epoch 72/100\n",
      "100/100 [==============================] - 4s 43ms/step - loss: 0.4041 - dense_2_loss: 0.0304 - dense_2_1_loss: 0.0169 - dense_2_2_loss: 0.0399 - dense_2_3_loss: 0.0678 - dense_2_4_loss: 8.2258e-04 - dense_2_5_loss: 0.0284 - dense_2_6_loss: 0.1235 - dense_2_7_loss: 4.7936e-04 - dense_2_8_loss: 0.0517 - dense_2_9_loss: 0.0442 - dense_2_accuracy: 0.9862 - dense_2_1_accuracy: 0.9926 - dense_2_2_accuracy: 0.9953 - dense_2_3_accuracy: 0.9943 - dense_2_4_accuracy: 1.0000 - dense_2_5_accuracy: 0.9906 - dense_2_6_accuracy: 0.9661 - dense_2_7_accuracy: 1.0000 - dense_2_8_accuracy: 0.9899 - dense_2_9_accuracy: 0.9941\n",
      "Epoch 73/100\n",
      "100/100 [==============================] - 4s 44ms/step - loss: 0.3836 - dense_2_loss: 0.0269 - dense_2_1_loss: 0.0142 - dense_2_2_loss: 0.0346 - dense_2_3_loss: 0.0652 - dense_2_4_loss: 7.6640e-04 - dense_2_5_loss: 0.0298 - dense_2_6_loss: 0.1196 - dense_2_7_loss: 4.5032e-04 - dense_2_8_loss: 0.0481 - dense_2_9_loss: 0.0440 - dense_2_accuracy: 0.9879 - dense_2_1_accuracy: 0.9944 - dense_2_2_accuracy: 0.9964 - dense_2_3_accuracy: 0.9945 - dense_2_4_accuracy: 1.0000 - dense_2_5_accuracy: 0.9913 - dense_2_6_accuracy: 0.9698 - dense_2_7_accuracy: 1.0000 - dense_2_8_accuracy: 0.9919 - dense_2_9_accuracy: 0.9944: 1s - loss: 0.3846 - dense_2_loss: 0.0266 - dense_2_1_loss: 0.0139 - dense_2_2_loss: 0.0342 - dense_2_3_loss: 0.0658 - dense_2_4_loss: 7.6833e-04 - dense_2_5_loss: 0.0309 - dense_2_6_loss: 0.1193 - dense_2_7_loss: 4.4471e-04 - dense_2_8_loss: 0.0478 - dense_2_9_loss: 0.0447 - dense_2_accuracy: 0.9879 - dense_2_1_accuracy: 0.9944 - dense_2_2_accuracy: 0.9965 - dense_2_3_accuracy: 0.9943 - dense_2_4_accuracy: 1.0000 - dense_2_5_accuracy: 0.9912 - dense_2_6_accuracy: 0.9703 - dense_2_7_accuracy: 1.0000 - dense_2_8_accuracy: 0.9921 - dense_2_9_accuracy: 0 - ETA: 0s - loss: 0.3840 - dense_2_loss: 0.0267 - dense_2_1_loss: 0.0140 - dense_2_2_loss: 0.0343 - dense_2_3_loss: 0.0656 - dense_2_4_loss: 7.6682e-04 - dense_2_5_loss: 0.0305 - dense_2_6_loss: 0.1194 - dense_2_7_loss: 4.4519e-04 - dense_2_8_loss: 0.0479 - dense_2_9_loss: 0.0444 - dense_2_accuracy: 0.9879 - dense_2_1_accuracy: 0.9944 - dense_2_2_accuracy: 0.9964 - dense_2_3_accuracy: 0.9944 - dense_2_4_accuracy: 1.0000 - dense_2_5_accuracy: 0.9913 - dense_2_6_accuracy: 0.9701 - dense_2_7_accuracy: 1.0000 - dense_2_8_accuracy: 0.9920 - dense_2_9_accuracy\n",
      "Epoch 74/100\n",
      "100/100 [==============================] - 4s 43ms/step - loss: 0.3800 - dense_2_loss: 0.0249 - dense_2_1_loss: 0.0134 - dense_2_2_loss: 0.0353 - dense_2_3_loss: 0.0559 - dense_2_4_loss: 7.1468e-04 - dense_2_5_loss: 0.0290 - dense_2_6_loss: 0.1280 - dense_2_7_loss: 4.2885e-04 - dense_2_8_loss: 0.0534 - dense_2_9_loss: 0.0389 - dense_2_accuracy: 0.9898 - dense_2_1_accuracy: 0.9955 - dense_2_2_accuracy: 0.9959 - dense_2_3_accuracy: 0.9962 - dense_2_4_accuracy: 1.0000 - dense_2_5_accuracy: 0.9910 - dense_2_6_accuracy: 0.9641 - dense_2_7_accuracy: 1.0000 - dense_2_8_accuracy: 0.9898 - dense_2_9_accuracy: 0.9963\n",
      "Epoch 75/100\n",
      "100/100 [==============================] - 4s 42ms/step - loss: 0.3549 - dense_2_loss: 0.0266 - dense_2_1_loss: 0.0137 - dense_2_2_loss: 0.0327 - dense_2_3_loss: 0.0583 - dense_2_4_loss: 7.3300e-04 - dense_2_5_loss: 0.0215 - dense_2_6_loss: 0.1150 - dense_2_7_loss: 4.4714e-04 - dense_2_8_loss: 0.0449 - dense_2_9_loss: 0.0410 - dense_2_accuracy: 0.9888 - dense_2_1_accuracy: 0.9958 - dense_2_2_accuracy: 0.9960 - dense_2_3_accuracy: 0.9956 - dense_2_4_accuracy: 1.0000 - dense_2_5_accuracy: 0.9935 - dense_2_6_accuracy: 0.9685 - dense_2_7_accuracy: 1.0000 - dense_2_8_accuracy: 0.9931 - dense_2_9_accuracy: 0.9948: 3s - loss: 0.3458 - dense_2_loss: 0.0292 - dense_2_1_loss: 0.0120 - dense_2_2_loss: 0.0290 - dense_2_3_loss: 0.0503 - dense_2_4_loss: 6.9356e-04 - dense_2_5_loss: 0.0174 - dense_2_6_loss: 0.1162 - dense_2_7_loss: 4.1412e-04 - dense_2_8_loss: 0.0454 - dense_2_9_loss: 0.0453 - dense_2_accuracy: 0.9886 - dense_2_1_accuracy: 0.9976 - dense_2_2_accuracy: 0.9966 - dense_2_3_accuracy: 0.9967 - dense_2_4_accuracy: 1.0000 - dense_2_5_accuracy: 0.9944 - dense_2_6_accuracy: 0.9658 - dense_2_7_accuracy: 1.0000 - dense_2_8_ac\n",
      "Epoch 76/100\n",
      "100/100 [==============================] - 4s 42ms/step - loss: 0.3647 - dense_2_loss: 0.0289 - dense_2_1_loss: 0.0157 - dense_2_2_loss: 0.0335 - dense_2_3_loss: 0.0612 - dense_2_4_loss: 7.4243e-04 - dense_2_5_loss: 0.0271 - dense_2_6_loss: 0.1144 - dense_2_7_loss: 4.5697e-04 - dense_2_8_loss: 0.0438 - dense_2_9_loss: 0.0388 - dense_2_accuracy: 0.9869 - dense_2_1_accuracy: 0.9947 - dense_2_2_accuracy: 0.9947 - dense_2_3_accuracy: 0.9947 - dense_2_4_accuracy: 1.0000 - dense_2_5_accuracy: 0.9915 - dense_2_6_accuracy: 0.9686 - dense_2_7_accuracy: 1.0000 - dense_2_8_accuracy: 0.9921 - dense_2_9_accuracy: 0.9943\n",
      "Epoch 77/100\n",
      "100/100 [==============================] - 4s 42ms/step - loss: 0.3310 - dense_2_loss: 0.0224 - dense_2_1_loss: 0.0121 - dense_2_2_loss: 0.0309 - dense_2_3_loss: 0.0587 - dense_2_4_loss: 6.5325e-04 - dense_2_5_loss: 0.0220 - dense_2_6_loss: 0.1097 - dense_2_7_loss: 4.0798e-04 - dense_2_8_loss: 0.0394 - dense_2_9_loss: 0.0347 - dense_2_accuracy: 0.9908 - dense_2_1_accuracy: 0.9956 - dense_2_2_accuracy: 0.9962 - dense_2_3_accuracy: 0.9954 - dense_2_4_accuracy: 1.0000 - dense_2_5_accuracy: 0.9924 - dense_2_6_accuracy: 0.9699 - dense_2_7_accuracy: 1.0000 - dense_2_8_accuracy: 0.9939 - dense_2_9_accuracy: 0.9969\n",
      "Epoch 78/100\n",
      "100/100 [==============================] - 4s 42ms/step - loss: 0.3331 - dense_2_loss: 0.0246 - dense_2_1_loss: 0.0130 - dense_2_2_loss: 0.0290 - dense_2_3_loss: 0.0538 - dense_2_4_loss: 6.7550e-04 - dense_2_5_loss: 0.0217 - dense_2_6_loss: 0.1127 - dense_2_7_loss: 3.8173e-04 - dense_2_8_loss: 0.0429 - dense_2_9_loss: 0.0342 - dense_2_accuracy: 0.9895 - dense_2_1_accuracy: 0.9955 - dense_2_2_accuracy: 0.9969 - dense_2_3_accuracy: 0.9962 - dense_2_4_accuracy: 1.0000 - dense_2_5_accuracy: 0.9931 - dense_2_6_accuracy: 0.9683 - dense_2_7_accuracy: 1.0000 - dense_2_8_accuracy: 0.9922 - dense_2_9_accuracy: 0.9967\n",
      "Epoch 79/100\n",
      "100/100 [==============================] - 4s 43ms/step - loss: 0.3329 - dense_2_loss: 0.0249 - dense_2_1_loss: 0.0127 - dense_2_2_loss: 0.0289 - dense_2_3_loss: 0.0562 - dense_2_4_loss: 6.4107e-04 - dense_2_5_loss: 0.0221 - dense_2_6_loss: 0.1117 - dense_2_7_loss: 4.3802e-04 - dense_2_8_loss: 0.0392 - dense_2_9_loss: 0.0360 - dense_2_accuracy: 0.9886 - dense_2_1_accuracy: 0.9948 - dense_2_2_accuracy: 0.9965 - dense_2_3_accuracy: 0.9963 - dense_2_4_accuracy: 1.0000 - dense_2_5_accuracy: 0.9928 - dense_2_6_accuracy: 0.9691 - dense_2_7_accuracy: 1.0000 - dense_2_8_accuracy: 0.9934 - dense_2_9_accuracy: 0.9963\n",
      "Epoch 80/100\n",
      "100/100 [==============================] - 4s 42ms/step - loss: 0.3261 - dense_2_loss: 0.0267 - dense_2_1_loss: 0.0140 - dense_2_2_loss: 0.0286 - dense_2_3_loss: 0.0491 - dense_2_4_loss: 6.1500e-04 - dense_2_5_loss: 0.0217 - dense_2_6_loss: 0.1085 - dense_2_7_loss: 3.7452e-04 - dense_2_8_loss: 0.0418 - dense_2_9_loss: 0.0347 - dense_2_accuracy: 0.9879 - dense_2_1_accuracy: 0.9946 - dense_2_2_accuracy: 0.9972 - dense_2_3_accuracy: 0.9964 - dense_2_4_accuracy: 1.0000 - dense_2_5_accuracy: 0.9933 - dense_2_6_accuracy: 0.9703 - dense_2_7_accuracy: 1.0000 - dense_2_8_accuracy: 0.9921 - dense_2_9_accuracy: 0.9959\n",
      "Epoch 81/100\n",
      "100/100 [==============================] - 4s 42ms/step - loss: 0.3088 - dense_2_loss: 0.0238 - dense_2_1_loss: 0.0118 - dense_2_2_loss: 0.0277 - dense_2_3_loss: 0.0519 - dense_2_4_loss: 5.6923e-04 - dense_2_5_loss: 0.0219 - dense_2_6_loss: 0.1031 - dense_2_7_loss: 3.9489e-04 - dense_2_8_loss: 0.0360 - dense_2_9_loss: 0.0316 - dense_2_accuracy: 0.9896 - dense_2_1_accuracy: 0.9961 - dense_2_2_accuracy: 0.9974 - dense_2_3_accuracy: 0.9966 - dense_2_4_accuracy: 1.0000 - dense_2_5_accuracy: 0.9934 - dense_2_6_accuracy: 0.9725 - dense_2_7_accuracy: 1.0000 - dense_2_8_accuracy: 0.9947 - dense_2_9_accuracy: 0.9960: 2s - loss: 0.2984 - dense_2_loss: 0.0219 - dense_2_1_loss: 0.0107 - dense_2_2_loss: 0.0280 - dense_2_3_loss: 0.0504 - dense_2_4_loss: 5.7470e-04 - dense_2_5_loss: 0.0200 - dense_2_6_loss: 0.1006 - dense_2_7_loss: 4.0630e-04 - dense_2_8_loss: 0.0343 - dense_2_9_loss: 0.0314 - dense_2_accuracy: 0.9910 - dense_2_1_accuracy: 0.9968 - dense_2_2_accuracy: 0.9978 - dense_2_3_accuracy: 0.9970 - dense_2_4_accuracy: 1.0000 - dense_2_5_accuracy: 0.9943 - dense_2_6_accuracy: 0.9746 - dense_2_7_accuracy: 1.0000 - dense_2_8_accuracy: 0.9952 - d\n",
      "Epoch 82/100\n",
      "100/100 [==============================] - 4s 42ms/step - loss: 0.3121 - dense_2_loss: 0.0214 - dense_2_1_loss: 0.0110 - dense_2_2_loss: 0.0294 - dense_2_3_loss: 0.0520 - dense_2_4_loss: 6.1797e-04 - dense_2_5_loss: 0.0216 - dense_2_6_loss: 0.1064 - dense_2_7_loss: 3.6946e-04 - dense_2_8_loss: 0.0378 - dense_2_9_loss: 0.0316 - dense_2_accuracy: 0.9911 - dense_2_1_accuracy: 0.9964 - dense_2_2_accuracy: 0.9964 - dense_2_3_accuracy: 0.9964 - dense_2_4_accuracy: 1.0000 - dense_2_5_accuracy: 0.9929 - dense_2_6_accuracy: 0.9706 - dense_2_7_accuracy: 1.0000 - dense_2_8_accuracy: 0.9927 - dense_2_9_accuracy: 0.9966\n",
      "Epoch 83/100\n",
      "100/100 [==============================] - 4s 42ms/step - loss: 0.3038 - dense_2_loss: 0.0237 - dense_2_1_loss: 0.0118 - dense_2_2_loss: 0.0257 - dense_2_3_loss: 0.0510 - dense_2_4_loss: 5.8717e-04 - dense_2_5_loss: 0.0226 - dense_2_6_loss: 0.1020 - dense_2_7_loss: 3.3472e-04 - dense_2_8_loss: 0.0359 - dense_2_9_loss: 0.0303 - dense_2_accuracy: 0.9878 - dense_2_1_accuracy: 0.9955 - dense_2_2_accuracy: 0.9976 - dense_2_3_accuracy: 0.9967 - dense_2_4_accuracy: 1.0000 - dense_2_5_accuracy: 0.9927 - dense_2_6_accuracy: 0.9704 - dense_2_7_accuracy: 1.0000 - dense_2_8_accuracy: 0.9942 - dense_2_9_accuracy: 0.9954\n",
      "Epoch 84/100\n",
      "100/100 [==============================] - 4s 43ms/step - loss: 0.2987 - dense_2_loss: 0.0237 - dense_2_1_loss: 0.0118 - dense_2_2_loss: 0.0236 - dense_2_3_loss: 0.0486 - dense_2_4_loss: 5.7519e-04 - dense_2_5_loss: 0.0217 - dense_2_6_loss: 0.1033 - dense_2_7_loss: 3.4123e-04 - dense_2_8_loss: 0.0358 - dense_2_9_loss: 0.0293 - dense_2_accuracy: 0.9887 - dense_2_1_accuracy: 0.9950 - dense_2_2_accuracy: 0.9980 - dense_2_3_accuracy: 0.9961 - dense_2_4_accuracy: 1.0000 - dense_2_5_accuracy: 0.9935 - dense_2_6_accuracy: 0.9700 - dense_2_7_accuracy: 1.0000 - dense_2_8_accuracy: 0.9938 - dense_2_9_accuracy: 0.9972\n",
      "Epoch 85/100\n",
      "100/100 [==============================] - 4s 43ms/step - loss: 0.2915 - dense_2_loss: 0.0214 - dense_2_1_loss: 0.0107 - dense_2_2_loss: 0.0232 - dense_2_3_loss: 0.0501 - dense_2_4_loss: 5.0110e-04 - dense_2_5_loss: 0.0193 - dense_2_6_loss: 0.1024 - dense_2_7_loss: 3.2682e-04 - dense_2_8_loss: 0.0339 - dense_2_9_loss: 0.0297 - dense_2_accuracy: 0.9902 - dense_2_1_accuracy: 0.9967 - dense_2_2_accuracy: 0.9972 - dense_2_3_accuracy: 0.9964 - dense_2_4_accuracy: 1.0000 - dense_2_5_accuracy: 0.9941 - dense_2_6_accuracy: 0.9713 - dense_2_7_accuracy: 1.0000 - dense_2_8_accuracy: 0.9948 - dense_2_9_accuracy: 0.9970\n",
      "Epoch 86/100\n",
      "100/100 [==============================] - 4s 43ms/step - loss: 0.2829 - dense_2_loss: 0.0215 - dense_2_1_loss: 0.0104 - dense_2_2_loss: 0.0241 - dense_2_3_loss: 0.0452 - dense_2_4_loss: 5.0903e-04 - dense_2_5_loss: 0.0229 - dense_2_6_loss: 0.0960 - dense_2_7_loss: 3.1511e-04 - dense_2_8_loss: 0.0335 - dense_2_9_loss: 0.0284 - dense_2_accuracy: 0.9899 - dense_2_1_accuracy: 0.9962 - dense_2_2_accuracy: 0.9970 - dense_2_3_accuracy: 0.9974 - dense_2_4_accuracy: 1.0000 - dense_2_5_accuracy: 0.9921 - dense_2_6_accuracy: 0.9726 - dense_2_7_accuracy: 1.0000 - dense_2_8_accuracy: 0.9946 - dense_2_9_accuracy: 0.9968\n",
      "Epoch 87/100\n",
      "100/100 [==============================] - 4s 43ms/step - loss: 0.2684 - dense_2_loss: 0.0219 - dense_2_1_loss: 0.0097 - dense_2_2_loss: 0.0198 - dense_2_3_loss: 0.0433 - dense_2_4_loss: 4.7470e-04 - dense_2_5_loss: 0.0229 - dense_2_6_loss: 0.0905 - dense_2_7_loss: 3.2220e-04 - dense_2_8_loss: 0.0322 - dense_2_9_loss: 0.0273 - dense_2_accuracy: 0.9897 - dense_2_1_accuracy: 0.9970 - dense_2_2_accuracy: 0.9982 - dense_2_3_accuracy: 0.9977 - dense_2_4_accuracy: 1.0000 - dense_2_5_accuracy: 0.9920 - dense_2_6_accuracy: 0.9748 - dense_2_7_accuracy: 1.0000 - dense_2_8_accuracy: 0.9950 - dense_2_9_accuracy: 0.9972\n",
      "Epoch 88/100\n",
      "100/100 [==============================] - 4s 43ms/step - loss: 0.2682 - dense_2_loss: 0.0195 - dense_2_1_loss: 0.0096 - dense_2_2_loss: 0.0220 - dense_2_3_loss: 0.0455 - dense_2_4_loss: 4.9135e-04 - dense_2_5_loss: 0.0200 - dense_2_6_loss: 0.0920 - dense_2_7_loss: 2.7858e-04 - dense_2_8_loss: 0.0318 - dense_2_9_loss: 0.0269 - dense_2_accuracy: 0.9909 - dense_2_1_accuracy: 0.9967 - dense_2_2_accuracy: 0.9971 - dense_2_3_accuracy: 0.9974 - dense_2_4_accuracy: 1.0000 - dense_2_5_accuracy: 0.9933 - dense_2_6_accuracy: 0.9753 - dense_2_7_accuracy: 1.0000 - dense_2_8_accuracy: 0.9953 - dense_2_9_accuracy: 0.9975\n",
      "Epoch 89/100\n",
      "100/100 [==============================] - 4s 44ms/step - loss: 0.2807 - dense_2_loss: 0.0245 - dense_2_1_loss: 0.0111 - dense_2_2_loss: 0.0188 - dense_2_3_loss: 0.0527 - dense_2_4_loss: 4.7035e-04 - dense_2_5_loss: 0.0228 - dense_2_6_loss: 0.0921 - dense_2_7_loss: 3.0597e-04 - dense_2_8_loss: 0.0324 - dense_2_9_loss: 0.0255 - dense_2_accuracy: 0.9885 - dense_2_1_accuracy: 0.9960 - dense_2_2_accuracy: 0.9986 - dense_2_3_accuracy: 0.9963 - dense_2_4_accuracy: 1.0000 - dense_2_5_accuracy: 0.9918 - dense_2_6_accuracy: 0.9736 - dense_2_7_accuracy: 1.0000 - dense_2_8_accuracy: 0.9948 - dense_2_9_accuracy: 0.9975\n",
      "Epoch 90/100\n",
      "100/100 [==============================] - 4s 42ms/step - loss: 0.2652 - dense_2_loss: 0.0232 - dense_2_1_loss: 0.0108 - dense_2_2_loss: 0.0203 - dense_2_3_loss: 0.0458 - dense_2_4_loss: 4.7014e-04 - dense_2_5_loss: 0.0186 - dense_2_6_loss: 0.0912 - dense_2_7_loss: 3.0117e-04 - dense_2_8_loss: 0.0298 - dense_2_9_loss: 0.0247 - dense_2_accuracy: 0.9888 - dense_2_1_accuracy: 0.9967 - dense_2_2_accuracy: 0.9984 - dense_2_3_accuracy: 0.9968 - dense_2_4_accuracy: 1.0000 - dense_2_5_accuracy: 0.9936 - dense_2_6_accuracy: 0.9743 - dense_2_7_accuracy: 1.0000 - dense_2_8_accuracy: 0.9949 - dense_2_9_accuracy: 0.9977\n",
      "Epoch 91/100\n",
      "100/100 [==============================] - 4s 42ms/step - loss: 0.2721 - dense_2_loss: 0.0240 - dense_2_1_loss: 0.0116 - dense_2_2_loss: 0.0204 - dense_2_3_loss: 0.0497 - dense_2_4_loss: 4.4621e-04 - dense_2_5_loss: 0.0202 - dense_2_6_loss: 0.0880 - dense_2_7_loss: 2.8281e-04 - dense_2_8_loss: 0.0326 - dense_2_9_loss: 0.0250 - dense_2_accuracy: 0.9892 - dense_2_1_accuracy: 0.9958 - dense_2_2_accuracy: 0.9978 - dense_2_3_accuracy: 0.9958 - dense_2_4_accuracy: 1.0000 - dense_2_5_accuracy: 0.9935 - dense_2_6_accuracy: 0.9771 - dense_2_7_accuracy: 1.0000 - dense_2_8_accuracy: 0.9949 - dense_2_9_accuracy: 0.9977\n",
      "Epoch 92/100\n",
      "100/100 [==============================] - 4s 42ms/step - loss: 0.2602 - dense_2_loss: 0.0206 - dense_2_1_loss: 0.0092 - dense_2_2_loss: 0.0202 - dense_2_3_loss: 0.0483 - dense_2_4_loss: 4.1599e-04 - dense_2_5_loss: 0.0212 - dense_2_6_loss: 0.0890 - dense_2_7_loss: 2.6893e-04 - dense_2_8_loss: 0.0272 - dense_2_9_loss: 0.0237 - dense_2_accuracy: 0.9903 - dense_2_1_accuracy: 0.9972 - dense_2_2_accuracy: 0.9978 - dense_2_3_accuracy: 0.9966 - dense_2_4_accuracy: 1.0000 - dense_2_5_accuracy: 0.9932 - dense_2_6_accuracy: 0.9745 - dense_2_7_accuracy: 1.0000 - dense_2_8_accuracy: 0.9961 - dense_2_9_accuracy: 0.9971\n",
      "Epoch 93/100\n",
      "100/100 [==============================] - 4s 43ms/step - loss: 0.2454 - dense_2_loss: 0.0213 - dense_2_1_loss: 0.0090 - dense_2_2_loss: 0.0181 - dense_2_3_loss: 0.0391 - dense_2_4_loss: 4.5369e-04 - dense_2_5_loss: 0.0206 - dense_2_6_loss: 0.0882 - dense_2_7_loss: 2.7097e-04 - dense_2_8_loss: 0.0254 - dense_2_9_loss: 0.0230 - dense_2_accuracy: 0.9893 - dense_2_1_accuracy: 0.9966 - dense_2_2_accuracy: 0.9979 - dense_2_3_accuracy: 0.9978 - dense_2_4_accuracy: 1.0000 - dense_2_5_accuracy: 0.9927 - dense_2_6_accuracy: 0.9753 - dense_2_7_accuracy: 1.0000 - dense_2_8_accuracy: 0.9972 - dense_2_9_accuracy: 0.9980\n",
      "Epoch 94/100\n",
      "100/100 [==============================] - 4s 43ms/step - loss: 0.2495 - dense_2_loss: 0.0194 - dense_2_1_loss: 0.0084 - dense_2_2_loss: 0.0172 - dense_2_3_loss: 0.0401 - dense_2_4_loss: 3.8782e-04 - dense_2_5_loss: 0.0210 - dense_2_6_loss: 0.0928 - dense_2_7_loss: 2.5527e-04 - dense_2_8_loss: 0.0274 - dense_2_9_loss: 0.0226 - dense_2_accuracy: 0.9911 - dense_2_1_accuracy: 0.9979 - dense_2_2_accuracy: 0.9981 - dense_2_3_accuracy: 0.9979 - dense_2_4_accuracy: 1.0000 - dense_2_5_accuracy: 0.9922 - dense_2_6_accuracy: 0.9730 - dense_2_7_accuracy: 1.0000 - dense_2_8_accuracy: 0.9956 - dense_2_9_accuracy: 0.9974\n",
      "Epoch 95/100\n",
      "100/100 [==============================] - 4s 43ms/step - loss: 0.2516 - dense_2_loss: 0.0201 - dense_2_1_loss: 0.0090 - dense_2_2_loss: 0.0169 - dense_2_3_loss: 0.0448 - dense_2_4_loss: 3.9842e-04 - dense_2_5_loss: 0.0196 - dense_2_6_loss: 0.0915 - dense_2_7_loss: 2.4380e-04 - dense_2_8_loss: 0.0271 - dense_2_9_loss: 0.0218 - dense_2_accuracy: 0.9905 - dense_2_1_accuracy: 0.9968 - dense_2_2_accuracy: 0.9979 - dense_2_3_accuracy: 0.9967 - dense_2_4_accuracy: 1.0000 - dense_2_5_accuracy: 0.9939 - dense_2_6_accuracy: 0.9735 - dense_2_7_accuracy: 1.0000 - dense_2_8_accuracy: 0.9964 - dense_2_9_accuracy: 0.9984\n",
      "Epoch 96/100\n",
      "100/100 [==============================] - 4s 43ms/step - loss: 0.2386 - dense_2_loss: 0.0203 - dense_2_1_loss: 0.0097 - dense_2_2_loss: 0.0171 - dense_2_3_loss: 0.0377 - dense_2_4_loss: 4.0622e-04 - dense_2_5_loss: 0.0197 - dense_2_6_loss: 0.0860 - dense_2_7_loss: 2.4207e-04 - dense_2_8_loss: 0.0256 - dense_2_9_loss: 0.0218 - dense_2_accuracy: 0.9905 - dense_2_1_accuracy: 0.9965 - dense_2_2_accuracy: 0.9982 - dense_2_3_accuracy: 0.9976 - dense_2_4_accuracy: 1.0000 - dense_2_5_accuracy: 0.9937 - dense_2_6_accuracy: 0.9752 - dense_2_7_accuracy: 1.0000 - dense_2_8_accuracy: 0.9964 - dense_2_9_accuracy: 0.9981\n",
      "Epoch 97/100\n",
      "100/100 [==============================] - 4s 43ms/step - loss: 0.2277 - dense_2_loss: 0.0181 - dense_2_1_loss: 0.0078 - dense_2_2_loss: 0.0147 - dense_2_3_loss: 0.0356 - dense_2_4_loss: 3.9615e-04 - dense_2_5_loss: 0.0184 - dense_2_6_loss: 0.0856 - dense_2_7_loss: 2.5345e-04 - dense_2_8_loss: 0.0252 - dense_2_9_loss: 0.0218 - dense_2_accuracy: 0.9903 - dense_2_1_accuracy: 0.9976 - dense_2_2_accuracy: 0.9987 - dense_2_3_accuracy: 0.9980 - dense_2_4_accuracy: 1.0000 - dense_2_5_accuracy: 0.9937 - dense_2_6_accuracy: 0.9738 - dense_2_7_accuracy: 1.0000 - dense_2_8_accuracy: 0.9969 - dense_2_9_accuracy: 0.9980\n",
      "Epoch 98/100\n",
      "100/100 [==============================] - 4s 45ms/step - loss: 0.2378 - dense_2_loss: 0.0193 - dense_2_1_loss: 0.0082 - dense_2_2_loss: 0.0147 - dense_2_3_loss: 0.0399 - dense_2_4_loss: 3.3987e-04 - dense_2_5_loss: 0.0201 - dense_2_6_loss: 0.0878 - dense_2_7_loss: 2.2244e-04 - dense_2_8_loss: 0.0262 - dense_2_9_loss: 0.0211 - dense_2_accuracy: 0.9911 - dense_2_1_accuracy: 0.9976 - dense_2_2_accuracy: 0.9991 - dense_2_3_accuracy: 0.9972 - dense_2_4_accuracy: 1.0000 - dense_2_5_accuracy: 0.9934 - dense_2_6_accuracy: 0.9753 - dense_2_7_accuracy: 1.0000 - dense_2_8_accuracy: 0.9959 - dense_2_9_accuracy: 0.9981\n",
      "Epoch 99/100\n",
      "100/100 [==============================] - 5s 46ms/step - loss: 0.2214 - dense_2_loss: 0.0174 - dense_2_1_loss: 0.0070 - dense_2_2_loss: 0.0155 - dense_2_3_loss: 0.0357 - dense_2_4_loss: 3.6408e-04 - dense_2_5_loss: 0.0166 - dense_2_6_loss: 0.0842 - dense_2_7_loss: 2.5068e-04 - dense_2_8_loss: 0.0239 - dense_2_9_loss: 0.0205 - dense_2_accuracy: 0.9913 - dense_2_1_accuracy: 0.9983 - dense_2_2_accuracy: 0.9985 - dense_2_3_accuracy: 0.9975 - dense_2_4_accuracy: 1.0000 - dense_2_5_accuracy: 0.9950 - dense_2_6_accuracy: 0.9755 - dense_2_7_accuracy: 1.0000 - dense_2_8_accuracy: 0.9964 - dense_2_9_accuracy: 0.9982\n",
      "Epoch 100/100\n",
      "100/100 [==============================] - 4s 44ms/step - loss: 0.2148 - dense_2_loss: 0.0178 - dense_2_1_loss: 0.0070 - dense_2_2_loss: 0.0140 - dense_2_3_loss: 0.0342 - dense_2_4_loss: 3.5093e-04 - dense_2_5_loss: 0.0172 - dense_2_6_loss: 0.0816 - dense_2_7_loss: 2.4361e-04 - dense_2_8_loss: 0.0231 - dense_2_9_loss: 0.0193 - dense_2_accuracy: 0.9910 - dense_2_1_accuracy: 0.9979 - dense_2_2_accuracy: 0.9989 - dense_2_3_accuracy: 0.9981 - dense_2_4_accuracy: 1.0000 - dense_2_5_accuracy: 0.9939 - dense_2_6_accuracy: 0.9767 - dense_2_7_accuracy: 1.0000 - dense_2_8_accuracy: 0.9971 - dense_2_9_accuracy: 0.9981\n"
     ]
    },
    {
     "data": {
      "text/plain": [
       "<tensorflow.python.keras.callbacks.History at 0x1e5967cc760>"
      ]
     },
     "execution_count": 16,
     "metadata": {},
     "output_type": "execute_result"
    }
   ],
   "source": [
    "model.fit([Xoh, s0, c0], outputs, epochs=100, batch_size=100)"
   ]
  },
  {
   "cell_type": "markdown",
   "metadata": {},
   "source": [
    "While training you can see the loss as well as the accuracy on each of the 10 positions of the output. The table below gives you an example of what the accuracies could be if the batch had 2 examples: \n",
    "\n",
    "<img src=\"images/table.png\" style=\"width:700;height:200px;\"> <br>\n",
    "<caption><center>Thus, `dense_2_acc_8: 0.89` means that you are predicting the 7th character of the output correctly 89% of the time in the current batch of data. </center></caption>\n",
    "\n",
    "\n",
    "We have run this model for longer, and saved the weights. Run the next cell to load our weights. (By training a model for several minutes, you should be able to obtain a model of similar accuracy, but loading our model will save you time.) "
   ]
  },
  {
   "cell_type": "code",
   "execution_count": 26,
   "metadata": {},
   "outputs": [],
   "source": [
    "# model.save_weights('models/model_FT.h5', overwrite=False)\n",
    "model.load_weights('models/model_FT.h5')"
   ]
  },
  {
   "cell_type": "markdown",
   "metadata": {},
   "source": [
    "You can now see the results on new examples."
   ]
  },
  {
   "cell_type": "code",
   "execution_count": 34,
   "metadata": {},
   "outputs": [
    {
     "name": "stdout",
     "output_type": "stream",
     "text": [
      "source: 3 May 1979\n",
      "output: 1979-05-03 \n",
      "\n",
      "source: 5 April 09\n",
      "output: 2009-04-05 \n",
      "\n",
      "source: 21th of August 2016\n",
      "output: 2016-08-21 \n",
      "\n",
      "source: Tue 10 Jul 2007\n",
      "output: 2007-07-10 \n",
      "\n",
      "source: Saturday May 9 2018\n",
      "output: 2018-05-09 \n",
      "\n",
      "source: December 3 2001\n",
      "output: 2001-12-03 \n",
      "\n",
      "source: March 3rd 2001\n",
      "output: 2001-03-03 \n",
      "\n",
      "source: 1 March 2001\n",
      "output: 2001-03-01 \n",
      "\n"
     ]
    }
   ],
   "source": [
    "s_0 = np.zeros((1,n_s))\n",
    "c_0 = np.zeros((1,n_s))\n",
    "\n",
    "EXAMPLES = ['3 May 1979', '5 April 09', '21th of August 2016', 'Tue 10 Jul 2007', 'Saturday May 9 2018', 'December 3 2001', 'March 3rd 2001', '1 March 2001']\n",
    "for example in EXAMPLES:\n",
    "   \n",
    "    source = string_to_int(example, Tx, human_vocab)\n",
    "#     source = np.array(list(map(lambda x: to_categorical(x, num_classes=len(human_vocab)), source))).swapaxes(0,1) # ??\n",
    "    source = np.array(list(map(lambda x: to_categorical(x, num_classes=len(human_vocab)), source)))\n",
    "    source = source.reshape(1, *source.shape)\n",
    "    prediction = model.predict([source, s_0, c_0])\n",
    "    prediction = np.argmax(prediction, axis = -1)\n",
    "    output = [inv_machine_vocab[int(i)] for i in prediction]\n",
    "    \n",
    "    print(\"source:\", example)\n",
    "    print(\"output:\", ''.join(output),\"\\n\")"
   ]
  },
  {
   "cell_type": "markdown",
   "metadata": {},
   "source": [
    "You can also change these examples to test with your own examples. The next part will give you a better sense of what the attention mechanism is doing--i.e., what part of the input the network is paying attention to when generating a particular output character. "
   ]
  },
  {
   "cell_type": "markdown",
   "metadata": {},
   "source": [
    "## 3 - Visualizing Attention (Optional / Ungraded)\n",
    "\n",
    "Since the problem has a fixed output length of 10, it is also possible to carry out this task using 10 different softmax units to generate the 10 characters of the output. But one advantage of the attention model is that each part of the output (such as the month) knows it needs to depend only on a small part of the input (the characters in the input giving the month). We can  visualize what each part of the output is looking at which part of the input.\n",
    "\n",
    "Consider the task of translating \"Saturday 9 May 2018\" to \"2018-05-09\". If we visualize the computed $\\alpha^{\\langle t, t' \\rangle}$ we get this: \n",
    "\n",
    "<img src=\"images/date_attention.png\" style=\"width:600;height:300px;\"> <br>\n",
    "<caption><center> **Figure 8**: Full Attention Map</center></caption>\n",
    "\n",
    "Notice how the output ignores the \"Saturday\" portion of the input. None of the output timesteps are paying much attention to that portion of the input. We also see that 9 has been translated as 09 and May has been correctly translated into 05, with the output paying attention to the parts of the input it needs to to make the translation. The year mostly requires it to pay attention to the input's \"18\" in order to generate \"2018.\" "
   ]
  },
  {
   "cell_type": "markdown",
   "metadata": {},
   "source": [
    "### 3.1 - Getting the attention weights from the network\n",
    "\n",
    "Lets now visualize the attention values in your network. We'll propagate an example through the network, then visualize the values of $\\alpha^{\\langle t, t' \\rangle}$. \n",
    "\n",
    "To figure out where the attention values are located, let's start by printing a summary of the model ."
   ]
  },
  {
   "cell_type": "code",
   "execution_count": 28,
   "metadata": {},
   "outputs": [
    {
     "name": "stdout",
     "output_type": "stream",
     "text": [
      "Model: \"model\"\n",
      "__________________________________________________________________________________________________\n",
      "Layer (type)                    Output Shape         Param #     Connected to                     \n",
      "==================================================================================================\n",
      "input_1 (InputLayer)            [(None, 30, 37)]     0                                            \n",
      "__________________________________________________________________________________________________\n",
      "s0 (InputLayer)                 [(None, 64)]         0                                            \n",
      "__________________________________________________________________________________________________\n",
      "bidirectional (Bidirectional)   (None, 30, 64)       17920       input_1[0][0]                    \n",
      "__________________________________________________________________________________________________\n",
      "repeat_vector (RepeatVector)    (None, 30, 64)       0           s0[0][0]                         \n",
      "                                                                 lstm[0][0]                       \n",
      "                                                                 lstm[1][0]                       \n",
      "                                                                 lstm[2][0]                       \n",
      "                                                                 lstm[3][0]                       \n",
      "                                                                 lstm[4][0]                       \n",
      "                                                                 lstm[5][0]                       \n",
      "                                                                 lstm[6][0]                       \n",
      "                                                                 lstm[7][0]                       \n",
      "                                                                 lstm[8][0]                       \n",
      "__________________________________________________________________________________________________\n",
      "concatenate (Concatenate)       (None, 30, 128)      0           bidirectional[0][0]              \n",
      "                                                                 repeat_vector[0][0]              \n",
      "                                                                 bidirectional[0][0]              \n",
      "                                                                 repeat_vector[1][0]              \n",
      "                                                                 bidirectional[0][0]              \n",
      "                                                                 repeat_vector[2][0]              \n",
      "                                                                 bidirectional[0][0]              \n",
      "                                                                 repeat_vector[3][0]              \n",
      "                                                                 bidirectional[0][0]              \n",
      "                                                                 repeat_vector[4][0]              \n",
      "                                                                 bidirectional[0][0]              \n",
      "                                                                 repeat_vector[5][0]              \n",
      "                                                                 bidirectional[0][0]              \n",
      "                                                                 repeat_vector[6][0]              \n",
      "                                                                 bidirectional[0][0]              \n",
      "                                                                 repeat_vector[7][0]              \n",
      "                                                                 bidirectional[0][0]              \n",
      "                                                                 repeat_vector[8][0]              \n",
      "                                                                 bidirectional[0][0]              \n",
      "                                                                 repeat_vector[9][0]              \n",
      "__________________________________________________________________________________________________\n",
      "dense (Dense)                   (None, 30, 10)       1290        concatenate[0][0]                \n",
      "                                                                 concatenate[1][0]                \n",
      "                                                                 concatenate[2][0]                \n",
      "                                                                 concatenate[3][0]                \n",
      "                                                                 concatenate[4][0]                \n",
      "                                                                 concatenate[5][0]                \n",
      "                                                                 concatenate[6][0]                \n",
      "                                                                 concatenate[7][0]                \n",
      "                                                                 concatenate[8][0]                \n",
      "                                                                 concatenate[9][0]                \n",
      "__________________________________________________________________________________________________\n",
      "dense_1 (Dense)                 (None, 30, 1)        11          dense[0][0]                      \n",
      "                                                                 dense[1][0]                      \n",
      "                                                                 dense[2][0]                      \n",
      "                                                                 dense[3][0]                      \n",
      "                                                                 dense[4][0]                      \n",
      "                                                                 dense[5][0]                      \n",
      "                                                                 dense[6][0]                      \n",
      "                                                                 dense[7][0]                      \n",
      "                                                                 dense[8][0]                      \n",
      "                                                                 dense[9][0]                      \n",
      "__________________________________________________________________________________________________\n",
      "attention_weights (Activation)  (None, 30, 1)        0           dense_1[0][0]                    \n",
      "                                                                 dense_1[1][0]                    \n",
      "                                                                 dense_1[2][0]                    \n",
      "                                                                 dense_1[3][0]                    \n",
      "                                                                 dense_1[4][0]                    \n",
      "                                                                 dense_1[5][0]                    \n",
      "                                                                 dense_1[6][0]                    \n",
      "                                                                 dense_1[7][0]                    \n",
      "                                                                 dense_1[8][0]                    \n",
      "                                                                 dense_1[9][0]                    \n",
      "__________________________________________________________________________________________________\n",
      "dot (Dot)                       (None, 1, 64)        0           attention_weights[0][0]          \n",
      "                                                                 bidirectional[0][0]              \n",
      "                                                                 attention_weights[1][0]          \n",
      "                                                                 bidirectional[0][0]              \n",
      "                                                                 attention_weights[2][0]          \n",
      "                                                                 bidirectional[0][0]              \n",
      "                                                                 attention_weights[3][0]          \n",
      "                                                                 bidirectional[0][0]              \n",
      "                                                                 attention_weights[4][0]          \n",
      "                                                                 bidirectional[0][0]              \n",
      "                                                                 attention_weights[5][0]          \n",
      "                                                                 bidirectional[0][0]              \n",
      "                                                                 attention_weights[6][0]          \n",
      "                                                                 bidirectional[0][0]              \n",
      "                                                                 attention_weights[7][0]          \n",
      "                                                                 bidirectional[0][0]              \n",
      "                                                                 attention_weights[8][0]          \n",
      "                                                                 bidirectional[0][0]              \n",
      "                                                                 attention_weights[9][0]          \n",
      "                                                                 bidirectional[0][0]              \n",
      "__________________________________________________________________________________________________\n",
      "c0 (InputLayer)                 [(None, 64)]         0                                            \n",
      "__________________________________________________________________________________________________\n",
      "lstm (LSTM)                     [(None, 64), (None,  33024       dot[0][0]                        \n",
      "                                                                 s0[0][0]                         \n",
      "                                                                 c0[0][0]                         \n",
      "                                                                 dot[1][0]                        \n",
      "                                                                 lstm[0][0]                       \n",
      "                                                                 lstm[0][2]                       \n",
      "                                                                 dot[2][0]                        \n",
      "                                                                 lstm[1][0]                       \n",
      "                                                                 lstm[1][2]                       \n",
      "                                                                 dot[3][0]                        \n",
      "                                                                 lstm[2][0]                       \n",
      "                                                                 lstm[2][2]                       \n",
      "                                                                 dot[4][0]                        \n",
      "                                                                 lstm[3][0]                       \n",
      "                                                                 lstm[3][2]                       \n",
      "                                                                 dot[5][0]                        \n",
      "                                                                 lstm[4][0]                       \n",
      "                                                                 lstm[4][2]                       \n",
      "                                                                 dot[6][0]                        \n",
      "                                                                 lstm[5][0]                       \n",
      "                                                                 lstm[5][2]                       \n",
      "                                                                 dot[7][0]                        \n",
      "                                                                 lstm[6][0]                       \n",
      "                                                                 lstm[6][2]                       \n",
      "                                                                 dot[8][0]                        \n",
      "                                                                 lstm[7][0]                       \n",
      "                                                                 lstm[7][2]                       \n",
      "                                                                 dot[9][0]                        \n",
      "                                                                 lstm[8][0]                       \n",
      "                                                                 lstm[8][2]                       \n",
      "__________________________________________________________________________________________________\n",
      "dense_2 (Dense)                 (None, 11)           715         lstm[0][0]                       \n",
      "                                                                 lstm[1][0]                       \n",
      "                                                                 lstm[2][0]                       \n",
      "                                                                 lstm[3][0]                       \n",
      "                                                                 lstm[4][0]                       \n",
      "                                                                 lstm[5][0]                       \n",
      "                                                                 lstm[6][0]                       \n",
      "                                                                 lstm[7][0]                       \n",
      "                                                                 lstm[8][0]                       \n",
      "                                                                 lstm[9][0]                       \n",
      "==================================================================================================\n",
      "Total params: 52,960\n",
      "Trainable params: 52,960\n",
      "Non-trainable params: 0\n",
      "__________________________________________________________________________________________________\n"
     ]
    }
   ],
   "source": [
    "model.summary()"
   ]
  },
  {
   "cell_type": "markdown",
   "metadata": {},
   "source": [
    "Navigate through the output of `model.summary()` above. You can see that the layer named `attention_weights` outputs the `alphas` of shape (m, 30, 1) before `dot_2` computes the context vector for every time step $t = 0, \\ldots, T_y-1$. Let's get the attention weights from this layer.\n",
    "\n",
    "The function `attention_map()` pulls out the attention values from your model and plots them."
   ]
  },
  {
   "cell_type": "code",
   "execution_count": 31,
   "metadata": {},
   "outputs": [
    {
     "data": {
      "text/plain": [
       "<Figure size 432x288 with 0 Axes>"
      ]
     },
     "metadata": {},
     "output_type": "display_data"
    },
    {
     "data": {
      "image/png": "[encoded data removed]",
      "text/plain": [
       "<Figure size 576x612 with 2 Axes>"
      ]
     },
     "metadata": {
      "needs_background": "light"
     },
     "output_type": "display_data"
    }
   ],
   "source": [
    "attention_map = plot_attention_map(model, human_vocab, inv_machine_vocab, \"Tuesday 09 Sep 1993\", num = 7, n_s = 64);\n"
   ]
  },
  {
   "cell_type": "code",
   "execution_count": 35,
   "metadata": {},
   "outputs": [
    {
     "data": {
      "text/plain": [
       "<Figure size 432x288 with 0 Axes>"
      ]
     },
     "metadata": {},
     "output_type": "display_data"
    },
    {
     "data": {
      "image/png": "[encoded data removed]",
      "text/plain": [
       "<Figure size 576x612 with 2 Axes>"
      ]
     },
     "metadata": {
      "needs_background": "light"
     },
     "output_type": "display_data"
    },
    {
     "data": {
      "text/plain": [
       "<Figure size 432x288 with 0 Axes>"
      ]
     },
     "metadata": {},
     "output_type": "display_data"
    },
    {
     "data": {
      "image/png": "[encoded data removed]",
      "text/plain": [
       "<Figure size 576x612 with 2 Axes>"
      ]
     },
     "metadata": {
      "needs_background": "light"
     },
     "output_type": "display_data"
    },
    {
     "data": {
      "text/plain": [
       "<Figure size 432x288 with 0 Axes>"
      ]
     },
     "metadata": {},
     "output_type": "display_data"
    },
    {
     "data": {
      "image/png": "[encoded data removed]",
      "text/plain": [
       "<Figure size 576x612 with 2 Axes>"
      ]
     },
     "metadata": {
      "needs_background": "light"
     },
     "output_type": "display_data"
    },
    {
     "data": {
      "text/plain": [
       "<Figure size 432x288 with 0 Axes>"
      ]
     },
     "metadata": {},
     "output_type": "display_data"
    },
    {
     "data": {
      "image/png": "[encoded data removed]",
      "text/plain": [
       "<Figure size 576x612 with 2 Axes>"
      ]
     },
     "metadata": {
      "needs_background": "light"
     },
     "output_type": "display_data"
    },
    {
     "data": {
      "text/plain": [
       "<Figure size 432x288 with 0 Axes>"
      ]
     },
     "metadata": {},
     "output_type": "display_data"
    },
    {
     "data": {
      "image/png": "[encoded data removed]",
      "text/plain": [
       "<Figure size 576x612 with 2 Axes>"
      ]
     },
     "metadata": {
      "needs_background": "light"
     },
     "output_type": "display_data"
    },
    {
     "data": {
      "text/plain": [
       "<Figure size 432x288 with 0 Axes>"
      ]
     },
     "metadata": {},
     "output_type": "display_data"
    },
    {
     "data": {
      "image/png": "[encoded data removed]",
      "text/plain": [
       "<Figure size 576x612 with 2 Axes>"
      ]
     },
     "metadata": {
      "needs_background": "light"
     },
     "output_type": "display_data"
    },
    {
     "data": {
      "text/plain": [
       "<Figure size 432x288 with 0 Axes>"
      ]
     },
     "metadata": {},
     "output_type": "display_data"
    },
    {
     "data": {
      "image/png": "[encoded data removed]",
      "text/plain": [
       "<Figure size 576x612 with 2 Axes>"
      ]
     },
     "metadata": {
      "needs_background": "light"
     },
     "output_type": "display_data"
    },
    {
     "data": {
      "text/plain": [
       "<Figure size 432x288 with 0 Axes>"
      ]
     },
     "metadata": {},
     "output_type": "display_data"
    },
    {
     "data": {
      "image/png": "[encoded data removed]",
      "text/plain": [
       "<Figure size 576x612 with 2 Axes>"
      ]
     },
     "metadata": {
      "needs_background": "light"
     },
     "output_type": "display_data"
    },
    {
     "data": {
      "text/plain": [
       "<Figure size 432x288 with 0 Axes>"
      ]
     },
     "metadata": {},
     "output_type": "display_data"
    }
   ],
   "source": [
    "for example in EXAMPLES:\n",
    "    plot_attention_map(model, human_vocab, inv_machine_vocab, example, num = 7, n_s = 64);\n",
    "    plt.figure()"
   ]
  },
  {
   "cell_type": "markdown",
   "metadata": {},
   "source": [
    "On the generated plot you can observe the values of the attention weights for each character of the predicted output. Examine this plot and check that the places where the network is paying attention makes sense to you.\n",
    "\n",
    "In the date translation application, you will observe that most of the time attention helps predict the year, and doesn't have much impact on predicting the day or month."
   ]
  },
  {
   "cell_type": "markdown",
   "metadata": {},
   "source": [
    "### Congratulations!\n",
    "\n",
    "\n",
    "You have come to the end of this assignment \n",
    "\n",
    "## Here's what you should remember\n",
    "\n",
    "- Machine translation models can be used to map from one sequence to another. They are useful not just for translating human languages (like French->English) but also for tasks like date format translation. \n",
    "- An attention mechanism allows a network to focus on the most relevant parts of the input when producing a specific part of the output. \n",
    "- A network using an attention mechanism can translate from inputs of length $T_x$ to outputs of length $T_y$, where $T_x$ and $T_y$ can be different. \n",
    "- You can visualize attention weights $\\alpha^{\\langle t,t' \\rangle}$ to see what the network is paying attention to while generating each output."
   ]
  },
  {
   "cell_type": "markdown",
   "metadata": {},
   "source": [
    "Congratulations on finishing this assignment! You are now able to implement an attention model and use it to learn complex mappings from one sequence to another. "
   ]
  }
 ],
 "metadata": {
  "coursera": {
   "course_slug": "nlp-sequence-models",
   "graded_item_id": "n16CQ",
   "launcher_item_id": "npjGi"
  },
  "kernelspec": {
   "display_name": "Python 3",
   "language": "python",
   "name": "python3"
  },
  "language_info": {
   "codemirror_mode": {
    "name": "ipython",
    "version": 3
   },
   "file_extension": ".py",
   "mimetype": "text/x-python",
   "name": "python",
   "nbconvert_exporter": "python",
   "pygments_lexer": "ipython3",
   "version": "3.8.5"
  }
 },
 "nbformat": 4,
 "nbformat_minor": 4
}
