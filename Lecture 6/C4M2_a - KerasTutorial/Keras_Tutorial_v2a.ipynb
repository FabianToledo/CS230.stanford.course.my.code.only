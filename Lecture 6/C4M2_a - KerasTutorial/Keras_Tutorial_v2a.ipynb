{
 "cells": [
  {
   "cell_type": "markdown",
   "metadata": {},
   "source": [
    "# Keras tutorial - Emotion Detection in Images of Faces\n",
    "\n",
    "Welcome to the first assignment of week 2. In this assignment, you will:\n",
    "1. Learn to use Keras, a high-level neural networks API (programming framework), written in Python and capable of running on top of several lower-level frameworks including TensorFlow and CNTK. \n",
    "2. See how you can in a couple of hours build a deep learning algorithm.\n",
    "\n",
    "#### Why are we using Keras? \n",
    "\n",
    "* Keras was developed to enable deep learning engineers to build and experiment with different models very quickly. \n",
    "* Just as TensorFlow is a higher-level framework than Python, Keras is an even higher-level framework and provides additional abstractions. \n",
    "* Being able to go from idea to result with the least possible delay is key to finding good models. \n",
    "* However, Keras is more restrictive than the lower-level frameworks, so there are some very complex models that you would still implement in TensorFlow rather than in Keras. \n",
    "* That being said, Keras will work fine for many common models. "
   ]
  },
  {
   "cell_type": "markdown",
   "metadata": {},
   "source": [
    "## <font color='darkblue'>Updates</font>\n",
    "\n",
    "#### If you were working on the notebook before this update...\n",
    "* The current notebook is version \"v2a\".\n",
    "* You can find your original work saved in the notebook with the previous version name (\"v2\").\n",
    "* To view the file directory, go to the menu \"File->Open\", and this will open a new tab that shows the file directory.\n",
    "\n",
    "#### List of updates\n",
    "* Changed back-story of model to \"emotion detection\" from \"happy house.\"\n",
    "* Cleaned/organized wording of instructions and commentary.\n",
    "* Added instructions on how to set `input_shape`\n",
    "* Added explanation of \"objects as functions\" syntax.\n",
    "* Clarified explanation of variable naming convention.\n",
    "* Added hints for steps 1,2,3,4"
   ]
  },
  {
   "cell_type": "markdown",
   "metadata": {},
   "source": [
    "## Load packages\n",
    "* In this exercise, you'll work on the \"Emotion detection\" model, which we'll explain below. \n",
    "* Let's load the required packages."
   ]
  },
  {
   "cell_type": "code",
   "execution_count": 1,
   "metadata": {
    "tags": []
   },
   "outputs": [],
   "source": [
    "import numpy as np\n",
    "from keras import layers\n",
    "from keras.layers import Input, Dense, Activation, ZeroPadding2D, BatchNormalization, Flatten, Conv2D\n",
    "from keras.layers import AveragePooling2D, MaxPooling2D, Dropout, GlobalMaxPooling2D, GlobalAveragePooling2D\n",
    "from keras.models import Model\n",
    "from keras.preprocessing import image\n",
    "from keras.utils import layer_utils\n",
    "from keras.utils.data_utils import get_file\n",
    "from keras.applications.imagenet_utils import preprocess_input\n",
    "import pydot\n",
    "from IPython.display import SVG\n",
    "from keras.utils.vis_utils import model_to_dot\n",
    "from keras.utils import plot_model\n",
    "from kt_utils import *\n",
    "\n",
    "import keras.backend as K\n",
    "K.set_image_data_format('channels_last')\n",
    "import matplotlib.pyplot as plt\n",
    "from matplotlib.pyplot import imshow\n",
    "\n",
    "%matplotlib inline"
   ]
  },
  {
   "cell_type": "markdown",
   "metadata": {},
   "source": [
    "**Note**: As you can see, we've imported a lot of functions from Keras. You can use them by calling them directly in your code. Ex: `X = Input(...)` or `X = ZeroPadding2D(...)`. \n",
    "\n",
    "In other words, unlike TensorFlow, you don't have to create the graph and then make a separate `sess.run()` call to evaluate those variables."
   ]
  },
  {
   "cell_type": "markdown",
   "metadata": {},
   "source": [
    "## 1 - Emotion Tracking\n",
    "\n",
    "* A nearby community health clinic is helping the local residents monitor their mental health.  \n",
    "* As part of their study, they are asking volunteers to record their emotions throughout the day.\n",
    "* To help the participants more easily track their emotions, you are asked to create an app that will classify their emotions based on some pictures that the volunteers will take of their facial expressions.\n",
    "* As a proof-of-concept, you first train your model to detect if someone's emotion is classified as \"happy\" or \"not happy.\"\n",
    "\n",
    "To build and train this model, you have gathered pictures of some volunteers in a nearby neighborhood. The dataset is labeled.\n",
    "<img src=\"images/face_images.png\" style=\"width:550px;height:250px;\">\n",
    "\n",
    "Run the following code to normalize the dataset and learn about its shapes."
   ]
  },
  {
   "cell_type": "code",
   "execution_count": 2,
   "metadata": {
    "tags": []
   },
   "outputs": [
    {
     "name": "stdout",
     "output_type": "stream",
     "text": [
      "number of training examples = 600\n",
      "number of test examples = 150\n",
      "X_train shape: (600, 64, 64, 3)\n",
      "Y_train shape: (600, 1)\n",
      "X_test shape: (150, 64, 64, 3)\n",
      "Y_test shape: (150, 1)\n"
     ]
    }
   ],
   "source": [
    "X_train_orig, Y_train_orig, X_test_orig, Y_test_orig, classes = load_dataset()\n",
    "\n",
    "# Normalize image vectors\n",
    "X_train = X_train_orig/255.\n",
    "X_test = X_test_orig/255.\n",
    "\n",
    "# Reshape\n",
    "Y_train = Y_train_orig.T\n",
    "Y_test = Y_test_orig.T\n",
    "\n",
    "print (\"number of training examples = \" + str(X_train.shape[0]))\n",
    "print (\"number of test examples = \" + str(X_test.shape[0]))\n",
    "print (\"X_train shape: \" + str(X_train.shape))\n",
    "print (\"Y_train shape: \" + str(Y_train.shape))\n",
    "print (\"X_test shape: \" + str(X_test.shape))\n",
    "print (\"Y_test shape: \" + str(Y_test.shape))"
   ]
  },
  {
   "cell_type": "markdown",
   "metadata": {},
   "source": [
    "**Details of the \"Face\" dataset**:\n",
    "- Images are of shape (64,64,3)\n",
    "- Training: 600 pictures\n",
    "- Test: 150 pictures"
   ]
  },
  {
   "cell_type": "markdown",
   "metadata": {},
   "source": [
    "## 2 - Building a model in Keras\n",
    "\n",
    "Keras is very good for rapid prototyping. In just a short time you will be able to build a model that achieves outstanding results.\n",
    "\n",
    "Here is an example of a model in Keras:\n",
    "\n",
    "```python\n",
    "def model(input_shape):\n",
    "    \"\"\"\n",
    "    input_shape: The height, width and channels as a tuple.  \n",
    "        Note that this does not include the 'batch' as a dimension.\n",
    "        If you have a batch like 'X_train', \n",
    "        then you can provide the input_shape using\n",
    "        X_train.shape[1:]\n",
    "    \"\"\"\n",
    "    \n",
    "    # Define the input placeholder as a tensor with shape input_shape. Think of this as your input image!\n",
    "    X_input = Input(input_shape)\n",
    "\n",
    "    # Zero-Padding: pads the border of X_input with zeroes\n",
    "    X = ZeroPadding2D((3, 3))(X_input)\n",
    "\n",
    "    # CONV -> BN -> RELU Block applied to X\n",
    "    X = Conv2D(32, (7, 7), strides = (1, 1), name = 'conv0')(X)\n",
    "    X = BatchNormalization(axis = 3, name = 'bn0')(X)\n",
    "    X = Activation('relu')(X)\n",
    "\n",
    "    # MAXPOOL\n",
    "    X = MaxPooling2D((2, 2), name='max_pool')(X)\n",
    "\n",
    "    # FLATTEN X (means convert it to a vector) + FULLYCONNECTED\n",
    "    X = Flatten()(X)\n",
    "    X = Dense(1, activation='sigmoid', name='fc')(X)\n",
    "\n",
    "    # Create model. This creates your Keras model instance, you'll use this instance to train/test the model.\n",
    "    model = Model(inputs = X_input, outputs = X, name='HappyModel')\n",
    "    \n",
    "    return model\n",
    "```"
   ]
  },
  {
   "cell_type": "markdown",
   "metadata": {},
   "source": [
    "#### Variable naming convention\n",
    "\n",
    "* Note that Keras uses a different convention with variable names than we've previously used with numpy and TensorFlow. \n",
    "* Instead of creating unique variable names for each step and each layer, such as \n",
    "```\n",
    "X = ...\n",
    "Z1 = ...\n",
    "A1 = ...\n",
    "```\n",
    "* Keras re-uses and overwrites the same variable at each step:\n",
    "```\n",
    "X = ...\n",
    "X = ...\n",
    "X = ...\n",
    "```\n",
    "* The exception is `X_input`, which we kept separate since it's needed later."
   ]
  },
  {
   "cell_type": "markdown",
   "metadata": {},
   "source": [
    "#### Objects as functions\n",
    "* Notice how there are two pairs of parentheses in each statement.  For example:\n",
    "```\n",
    "X = ZeroPadding2D((3, 3))(X_input)\n",
    "```\n",
    "* The first is a constructor call which creates an object (ZeroPadding2D).\n",
    "* In Python, objects can be called as functions. Search for 'python object as function and you can read this blog post [Python Pandemonium](https://medium.com/python-pandemonium/function-as-objects-in-python-d5215e6d1b0d).  See the section titled \"Objects as functions.\"\n",
    "* The single line is equivalent to this:\n",
    "```\n",
    "ZP = ZeroPadding2D((3, 3)) # ZP is an object that can be called as a function\n",
    "X = ZP(X_input) \n",
    "```"
   ]
  },
  {
   "cell_type": "markdown",
   "metadata": {},
   "source": [
    "**Exercise**: Implement a `HappyModel()`.  \n",
    "* This assignment is more open-ended than most. \n",
    "* Start by implementing a model using the architecture we suggest, and run through the rest of this assignment using that as your initial model. * Later, come back and try out other model architectures. \n",
    "* For example, you might take inspiration from the model above, but then vary the network architecture and hyperparameters however you wish. \n",
    "* You can also use other functions such as `AveragePooling2D()`, `GlobalMaxPooling2D()`, `Dropout()`. \n",
    "\n",
    "**Note**: Be careful with your data's shapes. Use what you've learned in the videos to make sure your convolutional, pooling and fully-connected layers are adapted to the volumes you're applying it to."
   ]
  },
  {
   "cell_type": "code",
   "execution_count": 25,
   "metadata": {
    "tags": []
   },
   "outputs": [],
   "source": [
    "# GRADED FUNCTION: HappyModel\n",
    "\n",
    "def HappyModel(input_shape):\n",
    "    \"\"\"\n",
    "    Implementation of the HappyModel.\n",
    "    \n",
    "    Arguments:\n",
    "    input_shape -- shape of the images of the dataset\n",
    "        (height, width, channels) as a tuple.  \n",
    "        Note that this does not include the 'batch' as a dimension.\n",
    "        If you have a batch like 'X_train', \n",
    "        then you can provide the input_shape using\n",
    "        X_train.shape[1:]\n",
    "\n",
    "    Returns:\n",
    "    model -- a Model() instance in Keras\n",
    "    \"\"\"\n",
    "    \n",
    "    ### START CODE HERE ###\n",
    "    # Feel free to use the suggested outline in the text above to get started, and run through the whole\n",
    "    # exercise (including the later portions of this notebook) once. The come back also try out other\n",
    "    # network architectures as well. \n",
    "    X_input = Input(input_shape)\n",
    "    \n",
    "    X = Conv2D(filters=32, kernel_size=(3,3), strides=(1,1), padding='same', name='conv1')(X_input)\n",
    "    X = BatchNormalization(axis=3, name='bn1')(X)\n",
    "    X = Activation('relu')(X)\n",
    "    \n",
    "    X = MaxPooling2D(pool_size=2, strides=2, name='maxpool1')(X)\n",
    " \n",
    "    X = Conv2D(filters=32, kernel_size=(3,3), strides=(1,1), padding='same', name='conv2')(X)\n",
    "    X = BatchNormalization(axis=3, name='bn2')(X)\n",
    "    X = Activation('relu')(X)\n",
    "    \n",
    "    X = MaxPooling2D(pool_size=2, strides=2, name='maxpool2')(X)\n",
    "    \n",
    "    X = Flatten()(X)\n",
    "    \n",
    "#     X = Dense(units=64, activation='relu', name='fc3')(X)\n",
    "    \n",
    "    X = Dense(units=1, activation='sigmoid', name='fc4')(X)\n",
    "    \n",
    "    model = Model(inputs=X_input, outputs=X, name='happy_house')\n",
    "    \n",
    "    ### END CODE HERE ###\n",
    "    \n",
    "    return model"
   ]
  },
  {
   "cell_type": "markdown",
   "metadata": {},
   "source": [
    "You have now built a function to describe your model. To train and test this model, there are four steps in Keras:\n",
    "1. Create the model by calling the function above  \n",
    "\n",
    "2. Compile the model by calling `model.compile(optimizer = \"...\", loss = \"...\", metrics = [\"accuracy\"])`  \n",
    "\n",
    "3. Train the model on train data by calling `model.fit(x = ..., y = ..., epochs = ..., batch_size = ...)`  \n",
    "\n",
    "4. Test the model on test data by calling `model.evaluate(x = ..., y = ...)`  \n",
    "\n",
    "If you want to know more about `model.compile()`, `model.fit()`, `model.evaluate()` and their arguments, refer to the official [Keras documentation](https://keras.io/models/model/)."
   ]
  },
  {
   "cell_type": "markdown",
   "metadata": {},
   "source": [
    "#### Step 1: create the model.  \n",
    "**Hint**:  \n",
    "The `input_shape` parameter is a tuple (height, width, channels).  It excludes the batch number.  \n",
    "Try `X_train.shape[1:]` as the `input_shape`."
   ]
  },
  {
   "cell_type": "code",
   "execution_count": 26,
   "metadata": {
    "tags": []
   },
   "outputs": [
    {
     "name": "stdout",
     "output_type": "stream",
     "text": [
      "Model: \"happy_house\"\n",
      "_________________________________________________________________\n",
      "Layer (type)                 Output Shape              Param #   \n",
      "=================================================================\n",
      "input_5 (InputLayer)         [(None, 64, 64, 3)]       0         \n",
      "_________________________________________________________________\n",
      "conv1 (Conv2D)               (None, 64, 64, 32)        896       \n",
      "_________________________________________________________________\n",
      "bn1 (BatchNormalization)     (None, 64, 64, 32)        128       \n",
      "_________________________________________________________________\n",
      "activation_7 (Activation)    (None, 64, 64, 32)        0         \n",
      "_________________________________________________________________\n",
      "maxpool1 (MaxPooling2D)      (None, 32, 32, 32)        0         \n",
      "_________________________________________________________________\n",
      "conv2 (Conv2D)               (None, 32, 32, 32)        9248      \n",
      "_________________________________________________________________\n",
      "bn2 (BatchNormalization)     (None, 32, 32, 32)        128       \n",
      "_________________________________________________________________\n",
      "activation_8 (Activation)    (None, 32, 32, 32)        0         \n",
      "_________________________________________________________________\n",
      "maxpool2 (MaxPooling2D)      (None, 16, 16, 32)        0         \n",
      "_________________________________________________________________\n",
      "flatten_4 (Flatten)          (None, 8192)              0         \n",
      "_________________________________________________________________\n",
      "fc4 (Dense)                  (None, 1)                 8193      \n",
      "=================================================================\n",
      "Total params: 18,593\n",
      "Trainable params: 18,465\n",
      "Non-trainable params: 128\n",
      "_________________________________________________________________\n"
     ]
    }
   ],
   "source": [
    "### START CODE HERE ### (1 line)\n",
    "happyModel = HappyModel(X_train.shape[1:])\n",
    "### END CODE HERE ###\n",
    "happyModel.summary()"
   ]
  },
  {
   "cell_type": "markdown",
   "metadata": {},
   "source": [
    "#### Step 2: compile the model\n",
    "\n",
    "**Hint**:  \n",
    "Optimizers you can try include `'adam'`, `'sgd'` or others.  See the documentation for [optimizers](https://keras.io/optimizers/)  \n",
    "The \"happiness detection\" is a binary classification problem.  The loss function that you can use is `'binary_cross_entropy'`.  Note that `'categorical_cross_entropy'` won't work with your data set as its formatted, because the data is an array of 0 or 1 rather than two arrays (one for each category).  Documentation for [losses](https://keras.io/losses/)"
   ]
  },
  {
   "cell_type": "code",
   "execution_count": 27,
   "metadata": {
    "tags": []
   },
   "outputs": [],
   "source": [
    "### START CODE HERE ### (1 line)\n",
    "happyModel.compile(optimizer='adam', loss='binary_crossentropy', metrics=['accuracy'])\n",
    "### END CODE HERE ###"
   ]
  },
  {
   "cell_type": "markdown",
   "metadata": {},
   "source": [
    "#### Step 3: train the model\n",
    "\n",
    "**Hint**:  \n",
    "Use the `'X_train'`, `'Y_train'` variables.  Use integers for the epochs and batch_size\n",
    "\n",
    "**Note**: If you run `fit()` again, the `model` will continue to train with the parameters it has already learned instead of reinitializing them."
   ]
  },
  {
   "cell_type": "code",
   "execution_count": 29,
   "metadata": {
    "tags": []
   },
   "outputs": [
    {
     "name": "stdout",
     "output_type": "stream",
     "text": [
      "Epoch 1/40\n",
      "19/19 [==============================] - 2s 102ms/step - loss: 0.1512 - accuracy: 0.9500\n",
      "Epoch 2/40\n",
      "19/19 [==============================] - 2s 104ms/step - loss: 0.0968 - accuracy: 0.9700\n",
      "Epoch 3/40\n",
      "19/19 [==============================] - 2s 105ms/step - loss: 0.0765 - accuracy: 0.9817\n",
      "Epoch 4/40\n",
      "19/19 [==============================] - 2s 104ms/step - loss: 0.0567 - accuracy: 0.9850\n",
      "Epoch 5/40\n",
      "19/19 [==============================] - 2s 105ms/step - loss: 0.0572 - accuracy: 0.9883\n",
      "Epoch 6/40\n",
      "19/19 [==============================] - 2s 102ms/step - loss: 0.0551 - accuracy: 0.9867\n",
      "Epoch 7/40\n",
      "19/19 [==============================] - 2s 103ms/step - loss: 0.0516 - accuracy: 0.9817\n",
      "Epoch 8/40\n",
      "19/19 [==============================] - 2s 104ms/step - loss: 0.0507 - accuracy: 0.9867\n",
      "Epoch 9/40\n",
      "19/19 [==============================] - 2s 102ms/step - loss: 0.0265 - accuracy: 0.9967\n",
      "Epoch 10/40\n",
      "19/19 [==============================] - 2s 116ms/step - loss: 0.0248 - accuracy: 0.9933\n",
      "Epoch 11/40\n",
      "19/19 [==============================] - 2s 112ms/step - loss: 0.0198 - accuracy: 0.9967\n",
      "Epoch 12/40\n",
      "19/19 [==============================] - 2s 109ms/step - loss: 0.0177 - accuracy: 0.9983\n",
      "Epoch 13/40\n",
      "19/19 [==============================] - 2s 109ms/step - loss: 0.0175 - accuracy: 0.9950\n",
      "Epoch 14/40\n",
      "19/19 [==============================] - 2s 109ms/step - loss: 0.0231 - accuracy: 0.9917\n",
      "Epoch 15/40\n",
      "19/19 [==============================] - 2s 111ms/step - loss: 0.0211 - accuracy: 0.9933\n",
      "Epoch 16/40\n",
      "19/19 [==============================] - 2s 111ms/step - loss: 0.0159 - accuracy: 0.9967\n",
      "Epoch 17/40\n",
      "19/19 [==============================] - 2s 109ms/step - loss: 0.0173 - accuracy: 0.9967\n",
      "Epoch 18/40\n",
      "19/19 [==============================] - 2s 110ms/step - loss: 0.0110 - accuracy: 0.9983\n",
      "Epoch 19/40\n",
      "19/19 [==============================] - 2s 114ms/step - loss: 0.0108 - accuracy: 0.9983\n",
      "Epoch 20/40\n",
      "19/19 [==============================] - 2s 113ms/step - loss: 0.0071 - accuracy: 0.9983\n",
      "Epoch 21/40\n",
      "19/19 [==============================] - 2s 110ms/step - loss: 0.0076 - accuracy: 0.9983\n",
      "Epoch 22/40\n",
      "19/19 [==============================] - 2s 111ms/step - loss: 0.0145 - accuracy: 0.9967\n",
      "Epoch 23/40\n",
      "19/19 [==============================] - 2s 112ms/step - loss: 0.0215 - accuracy: 0.9933\n",
      "Epoch 24/40\n",
      "19/19 [==============================] - 2s 116ms/step - loss: 0.0098 - accuracy: 1.0000\n",
      "Epoch 25/40\n",
      "19/19 [==============================] - 2s 113ms/step - loss: 0.0063 - accuracy: 1.0000\n",
      "Epoch 26/40\n",
      "19/19 [==============================] - 2s 112ms/step - loss: 0.0039 - accuracy: 1.0000\n",
      "Epoch 27/40\n",
      "19/19 [==============================] - 2s 115ms/step - loss: 0.0036 - accuracy: 1.0000\n",
      "Epoch 28/40\n",
      "19/19 [==============================] - 2s 111ms/step - loss: 0.0034 - accuracy: 1.0000\n",
      "Epoch 29/40\n",
      "19/19 [==============================] - 2s 114ms/step - loss: 0.0049 - accuracy: 0.9983\n",
      "Epoch 30/40\n",
      "19/19 [==============================] - 2s 113ms/step - loss: 0.0040 - accuracy: 1.0000\n",
      "Epoch 31/40\n",
      "19/19 [==============================] - 2s 112ms/step - loss: 0.0024 - accuracy: 1.0000\n",
      "Epoch 32/40\n",
      "19/19 [==============================] - 2s 113ms/step - loss: 0.0021 - accuracy: 1.0000\n",
      "Epoch 33/40\n",
      "19/19 [==============================] - 2s 111ms/step - loss: 0.0028 - accuracy: 1.0000\n",
      "Epoch 34/40\n",
      "19/19 [==============================] - 2s 116ms/step - loss: 0.0021 - accuracy: 1.0000\n",
      "Epoch 35/40\n",
      "19/19 [==============================] - 2s 121ms/step - loss: 0.0018 - accuracy: 1.0000\n",
      "Epoch 36/40\n",
      "19/19 [==============================] - 2s 120ms/step - loss: 0.0017 - accuracy: 1.0000\n",
      "Epoch 37/40\n",
      "19/19 [==============================] - 2s 116ms/step - loss: 0.0016 - accuracy: 1.0000\n",
      "Epoch 38/40\n",
      "19/19 [==============================] - 2s 112ms/step - loss: 0.0017 - accuracy: 1.0000\n",
      "Epoch 39/40\n",
      "19/19 [==============================] - 2s 118ms/step - loss: 0.0015 - accuracy: 1.0000\n",
      "Epoch 40/40\n",
      "19/19 [==============================] - 2s 114ms/step - loss: 0.0012 - accuracy: 1.0000\n"
     ]
    },
    {
     "data": {
      "text/plain": [
       "<tensorflow.python.keras.callbacks.History at 0x13ec3970b50>"
      ]
     },
     "execution_count": 29,
     "metadata": {},
     "output_type": "execute_result"
    }
   ],
   "source": [
    "### START CODE HERE ### (1 line)\n",
    "happyModel.fit(X_train, Y_train, batch_size=32, epochs=40, verbose=1)\n",
    "### END CODE HERE ###"
   ]
  },
  {
   "cell_type": "markdown",
   "metadata": {},
   "source": [
    "#### Step 4: evaluate model  \n",
    "**Hint**:  \n",
    "Use the `'X_test'` and `'Y_test'` variables to evaluate the model's performance."
   ]
  },
  {
   "cell_type": "code",
   "execution_count": 30,
   "metadata": {
    "scrolled": true,
    "tags": []
   },
   "outputs": [
    {
     "name": "stdout",
     "output_type": "stream",
     "text": [
      "\n",
      "Loss = [0.9998652]\n",
      "Test Accuracy = [0.99988264]\n"
     ]
    }
   ],
   "source": [
    "### START CODE HERE ### (1 line)\n",
    "preds = happyModel.predict(X_test)\n",
    "### END CODE HERE ###\n",
    "print()\n",
    "print (\"Loss = \" + str(preds[0]))\n",
    "print (\"Test Accuracy = \" + str(preds[1]))"
   ]
  },
  {
   "cell_type": "markdown",
   "metadata": {},
   "source": [
    "#### Expected performance   \n",
    "If your `happyModel()` function worked, its accuracy should be better than random guessing (50% accuracy).\n",
    "\n",
    "To give you a point of comparison, our model gets around **95% test accuracy in 40 epochs** (and 99% train accuracy) with a mini batch size of 16 and \"adam\" optimizer."
   ]
  },
  {
   "cell_type": "markdown",
   "metadata": {},
   "source": [
    "#### Tips for improving your model\n",
    "\n",
    "If you have not yet achieved a very good accuracy (>= 80%), here are some things tips:\n",
    "\n",
    "- Use blocks of CONV->BATCHNORM->RELU such as:\n",
    "```python\n",
    "X = Conv2D(32, (3, 3), strides = (1, 1), name = 'conv0')(X)\n",
    "X = BatchNormalization(axis = 3, name = 'bn0')(X)\n",
    "X = Activation('relu')(X)\n",
    "```\n",
    "until your height and width dimensions are quite low and your number of channels quite large (≈32 for example).  \n",
    "You can then flatten the volume and use a fully-connected layer.\n",
    "- Use MAXPOOL after such blocks.  It will help you lower the dimension in height and width.\n",
    "- Change your optimizer. We find 'adam' works well. \n",
    "- If you get memory issues, lower your batch_size (e.g. 12 )\n",
    "- Run more epochs until you see the train accuracy no longer improves. \n",
    "\n",
    "**Note**: If you perform hyperparameter tuning on your model, the test set actually becomes a dev set, and your model might end up overfitting to the test (dev) set. Normally, you'll want separate dev and test sets.  The dev set is used for parameter tuning, and the test set is used once to estimate the model's performance in production."
   ]
  },
  {
   "cell_type": "markdown",
   "metadata": {},
   "source": [
    "## 3 - Conclusion\n",
    "\n",
    "Congratulations, you have created a proof of concept for \"happiness detection\"!"
   ]
  },
  {
   "cell_type": "markdown",
   "metadata": {},
   "source": [
    "## Key Points to remember\n",
    "- Keras is a tool we recommend for rapid prototyping. It allows you to quickly try out different model architectures.\n",
    "- Remember The four steps in Keras: \n",
    "\n",
    "\n",
    "1. Create  \n",
    "2. Compile  \n",
    "3. Fit/Train  \n",
    "4. Evaluate/Test  "
   ]
  },
  {
   "cell_type": "markdown",
   "metadata": {},
   "source": [
    "## 4 - Test with your own image (Optional)\n",
    "\n",
    "Congratulations on finishing this assignment. You can now take a picture of your face and see if it can classify whether your expression is \"happy\" or \"not happy\". To do that:\n",
    "\n",
    "\n",
    "1. Click on \"File\" in the upper bar of this notebook, then click \"Open\" to go on your Coursera Hub.\n",
    "2. Add your image to this Jupyter Notebook's directory, in the \"images\" folder\n",
    "3. Write your image's name in the following code\n",
    "4. Run the code and check if the algorithm is right (0 is not happy, 1 is happy)!\n",
    "    \n",
    "The training/test sets were quite similar; for example, all the pictures were taken against the same background (since a front door camera is always mounted in the same position). This makes the problem easier, but a model trained on this data may or may not work on your own data. But feel free to give it a try! "
   ]
  },
  {
   "cell_type": "code",
   "execution_count": 31,
   "metadata": {
    "tags": []
   },
   "outputs": [
    {
     "name": "stdout",
     "output_type": "stream",
     "text": [
      "[[1.]]\n"
     ]
    },
    {
     "data": {
      "image/png": "[encoded data removed]",
      "text/plain": [
       "<Figure size 432x288 with 1 Axes>"
      ]
     },
     "metadata": {
      "needs_background": "light"
     },
     "output_type": "display_data"
    }
   ],
   "source": [
    "### START CODE HERE ###\n",
    "img_path = 'images/my_image.jpg'\n",
    "### END CODE HERE ###\n",
    "img = image.load_img(img_path, target_size=(64, 64))\n",
    "imshow(img)\n",
    "\n",
    "x = image.img_to_array(img)\n",
    "x = np.expand_dims(x, axis=0)\n",
    "x = preprocess_input(x)\n",
    "\n",
    "print(happyModel.predict(x))"
   ]
  },
  {
   "cell_type": "markdown",
   "metadata": {},
   "source": [
    "## 5 - Other useful functions in Keras (Optional)\n",
    "\n",
    "Two other basic features of Keras that you'll find useful are:\n",
    "- `model.summary()`: prints the details of your layers in a table with the sizes of its inputs/outputs\n",
    "- `plot_model()`: plots your graph in a nice layout. You can even save it as \".png\" using SVG() if you'd like to share it on social media ;). It is saved in \"File\" then \"Open...\" in the upper bar of the notebook.\n",
    "\n",
    "Run the following code."
   ]
  },
  {
   "cell_type": "code",
   "execution_count": 32,
   "metadata": {
    "tags": []
   },
   "outputs": [
    {
     "name": "stdout",
     "output_type": "stream",
     "text": [
      "Model: \"happy_house\"\n",
      "_________________________________________________________________\n",
      "Layer (type)                 Output Shape              Param #   \n",
      "=================================================================\n",
      "input_5 (InputLayer)         [(None, 64, 64, 3)]       0         \n",
      "_________________________________________________________________\n",
      "conv1 (Conv2D)               (None, 64, 64, 32)        896       \n",
      "_________________________________________________________________\n",
      "bn1 (BatchNormalization)     (None, 64, 64, 32)        128       \n",
      "_________________________________________________________________\n",
      "activation_7 (Activation)    (None, 64, 64, 32)        0         \n",
      "_________________________________________________________________\n",
      "maxpool1 (MaxPooling2D)      (None, 32, 32, 32)        0         \n",
      "_________________________________________________________________\n",
      "conv2 (Conv2D)               (None, 32, 32, 32)        9248      \n",
      "_________________________________________________________________\n",
      "bn2 (BatchNormalization)     (None, 32, 32, 32)        128       \n",
      "_________________________________________________________________\n",
      "activation_8 (Activation)    (None, 32, 32, 32)        0         \n",
      "_________________________________________________________________\n",
      "maxpool2 (MaxPooling2D)      (None, 16, 16, 32)        0         \n",
      "_________________________________________________________________\n",
      "flatten_4 (Flatten)          (None, 8192)              0         \n",
      "_________________________________________________________________\n",
      "fc4 (Dense)                  (None, 1)                 8193      \n",
      "=================================================================\n",
      "Total params: 18,593\n",
      "Trainable params: 18,465\n",
      "Non-trainable params: 128\n",
      "_________________________________________________________________\n"
     ]
    }
   ],
   "source": [
    "happyModel.summary()"
   ]
  },
  {
   "cell_type": "code",
   "execution_count": 34,
   "metadata": {
    "tags": []
   },
   "outputs": [
    {
     "data": {
      "image/svg+xml": [
       "<svg xmlns=\"http://www.w3.org/2000/svg\" xmlns:xlink=\"http://www.w3.org/1999/xlink\" width=\"228pt\" height=\"1033pt\" viewBox=\"0.00 0.00 171.00 775.00\">\n",
       "<g id=\"graph0\" class=\"graph\" transform=\"scale(1.33 1.33) rotate(0) translate(4 771)\">\n",
       "<title>G</title>\n",
       "<polygon fill=\"white\" stroke=\"transparent\" points=\"-4,4 -4,-771 167,-771 167,4 -4,4\"/>\n",
       "<!-- 1369081591120 -->\n",
       "<g id=\"node1\" class=\"node\">\n",
       "<title>1369081591120</title>\n",
       "<polygon fill=\"none\" stroke=\"black\" points=\"18.5,-730.5 18.5,-766.5 144.5,-766.5 144.5,-730.5 18.5,-730.5\"/>\n",
       "<text text-anchor=\"middle\" x=\"81.5\" y=\"-744.8\" font-family=\"Times New Roman,serif\" font-size=\"14.00\">input_5: InputLayer</text>\n",
       "</g>\n",
       "<!-- 1369257397504 -->\n",
       "<g id=\"node2\" class=\"node\">\n",
       "<title>1369257397504</title>\n",
       "<polygon fill=\"none\" stroke=\"black\" points=\"29,-657.5 29,-693.5 134,-693.5 134,-657.5 29,-657.5\"/>\n",
       "<text text-anchor=\"middle\" x=\"81.5\" y=\"-671.8\" font-family=\"Times New Roman,serif\" font-size=\"14.00\">conv1: Conv2D</text>\n",
       "</g>\n",
       "<!-- 1369081591120&#45;&gt;1369257397504 -->\n",
       "<g id=\"edge1\" class=\"edge\">\n",
       "<title>1369081591120-&gt;1369257397504</title>\n",
       "<path fill=\"none\" stroke=\"black\" d=\"M81.5,-730.31C81.5,-722.29 81.5,-712.55 81.5,-703.57\"/>\n",
       "<polygon fill=\"black\" stroke=\"black\" points=\"85,-703.53 81.5,-693.53 78,-703.53 85,-703.53\"/>\n",
       "</g>\n",
       "<!-- 1369073850736 -->\n",
       "<g id=\"node3\" class=\"node\">\n",
       "<title>1369073850736</title>\n",
       "<polygon fill=\"none\" stroke=\"black\" points=\"4.5,-584.5 4.5,-620.5 158.5,-620.5 158.5,-584.5 4.5,-584.5\"/>\n",
       "<text text-anchor=\"middle\" x=\"81.5\" y=\"-598.8\" font-family=\"Times New Roman,serif\" font-size=\"14.00\">bn1: BatchNormalization</text>\n",
       "</g>\n",
       "<!-- 1369257397504&#45;&gt;1369073850736 -->\n",
       "<g id=\"edge2\" class=\"edge\">\n",
       "<title>1369257397504-&gt;1369073850736</title>\n",
       "<path fill=\"none\" stroke=\"black\" d=\"M81.5,-657.31C81.5,-649.29 81.5,-639.55 81.5,-630.57\"/>\n",
       "<polygon fill=\"black\" stroke=\"black\" points=\"85,-630.53 81.5,-620.53 78,-630.53 85,-630.53\"/>\n",
       "</g>\n",
       "<!-- 1369252568176 -->\n",
       "<g id=\"node4\" class=\"node\">\n",
       "<title>1369252568176</title>\n",
       "<polygon fill=\"none\" stroke=\"black\" points=\"7.5,-511.5 7.5,-547.5 155.5,-547.5 155.5,-511.5 7.5,-511.5\"/>\n",
       "<text text-anchor=\"middle\" x=\"81.5\" y=\"-525.8\" font-family=\"Times New Roman,serif\" font-size=\"14.00\">activation_7: Activation</text>\n",
       "</g>\n",
       "<!-- 1369073850736&#45;&gt;1369252568176 -->\n",
       "<g id=\"edge3\" class=\"edge\">\n",
       "<title>1369073850736-&gt;1369252568176</title>\n",
       "<path fill=\"none\" stroke=\"black\" d=\"M81.5,-584.31C81.5,-576.29 81.5,-566.55 81.5,-557.57\"/>\n",
       "<polygon fill=\"black\" stroke=\"black\" points=\"85,-557.53 81.5,-547.53 78,-557.53 85,-557.53\"/>\n",
       "</g>\n",
       "<!-- 1369081527936 -->\n",
       "<g id=\"node5\" class=\"node\">\n",
       "<title>1369081527936</title>\n",
       "<polygon fill=\"none\" stroke=\"black\" points=\"0,-438.5 0,-474.5 163,-474.5 163,-438.5 0,-438.5\"/>\n",
       "<text text-anchor=\"middle\" x=\"81.5\" y=\"-452.8\" font-family=\"Times New Roman,serif\" font-size=\"14.00\">maxpool1: MaxPooling2D</text>\n",
       "</g>\n",
       "<!-- 1369252568176&#45;&gt;1369081527936 -->\n",
       "<g id=\"edge4\" class=\"edge\">\n",
       "<title>1369252568176-&gt;1369081527936</title>\n",
       "<path fill=\"none\" stroke=\"black\" d=\"M81.5,-511.31C81.5,-503.29 81.5,-493.55 81.5,-484.57\"/>\n",
       "<polygon fill=\"black\" stroke=\"black\" points=\"85,-484.53 81.5,-474.53 78,-484.53 85,-484.53\"/>\n",
       "</g>\n",
       "<!-- 1369081998496 -->\n",
       "<g id=\"node6\" class=\"node\">\n",
       "<title>1369081998496</title>\n",
       "<polygon fill=\"none\" stroke=\"black\" points=\"29,-365.5 29,-401.5 134,-401.5 134,-365.5 29,-365.5\"/>\n",
       "<text text-anchor=\"middle\" x=\"81.5\" y=\"-379.8\" font-family=\"Times New Roman,serif\" font-size=\"14.00\">conv2: Conv2D</text>\n",
       "</g>\n",
       "<!-- 1369081527936&#45;&gt;1369081998496 -->\n",
       "<g id=\"edge5\" class=\"edge\">\n",
       "<title>1369081527936-&gt;1369081998496</title>\n",
       "<path fill=\"none\" stroke=\"black\" d=\"M81.5,-438.31C81.5,-430.29 81.5,-420.55 81.5,-411.57\"/>\n",
       "<polygon fill=\"black\" stroke=\"black\" points=\"85,-411.53 81.5,-401.53 78,-411.53 85,-411.53\"/>\n",
       "</g>\n",
       "<!-- 1368970779424 -->\n",
       "<g id=\"node7\" class=\"node\">\n",
       "<title>1368970779424</title>\n",
       "<polygon fill=\"none\" stroke=\"black\" points=\"4.5,-292.5 4.5,-328.5 158.5,-328.5 158.5,-292.5 4.5,-292.5\"/>\n",
       "<text text-anchor=\"middle\" x=\"81.5\" y=\"-306.8\" font-family=\"Times New Roman,serif\" font-size=\"14.00\">bn2: BatchNormalization</text>\n",
       "</g>\n",
       "<!-- 1369081998496&#45;&gt;1368970779424 -->\n",
       "<g id=\"edge6\" class=\"edge\">\n",
       "<title>1369081998496-&gt;1368970779424</title>\n",
       "<path fill=\"none\" stroke=\"black\" d=\"M81.5,-365.31C81.5,-357.29 81.5,-347.55 81.5,-338.57\"/>\n",
       "<polygon fill=\"black\" stroke=\"black\" points=\"85,-338.53 81.5,-328.53 78,-338.53 85,-338.53\"/>\n",
       "</g>\n",
       "<!-- 1369082116032 -->\n",
       "<g id=\"node8\" class=\"node\">\n",
       "<title>1369082116032</title>\n",
       "<polygon fill=\"none\" stroke=\"black\" points=\"7.5,-219.5 7.5,-255.5 155.5,-255.5 155.5,-219.5 7.5,-219.5\"/>\n",
       "<text text-anchor=\"middle\" x=\"81.5\" y=\"-233.8\" font-family=\"Times New Roman,serif\" font-size=\"14.00\">activation_8: Activation</text>\n",
       "</g>\n",
       "<!-- 1368970779424&#45;&gt;1369082116032 -->\n",
       "<g id=\"edge7\" class=\"edge\">\n",
       "<title>1368970779424-&gt;1369082116032</title>\n",
       "<path fill=\"none\" stroke=\"black\" d=\"M81.5,-292.31C81.5,-284.29 81.5,-274.55 81.5,-265.57\"/>\n",
       "<polygon fill=\"black\" stroke=\"black\" points=\"85,-265.53 81.5,-255.53 78,-265.53 85,-265.53\"/>\n",
       "</g>\n",
       "<!-- 1369082040272 -->\n",
       "<g id=\"node9\" class=\"node\">\n",
       "<title>1369082040272</title>\n",
       "<polygon fill=\"none\" stroke=\"black\" points=\"0,-146.5 0,-182.5 163,-182.5 163,-146.5 0,-146.5\"/>\n",
       "<text text-anchor=\"middle\" x=\"81.5\" y=\"-160.8\" font-family=\"Times New Roman,serif\" font-size=\"14.00\">maxpool2: MaxPooling2D</text>\n",
       "</g>\n",
       "<!-- 1369082116032&#45;&gt;1369082040272 -->\n",
       "<g id=\"edge8\" class=\"edge\">\n",
       "<title>1369082116032-&gt;1369082040272</title>\n",
       "<path fill=\"none\" stroke=\"black\" d=\"M81.5,-219.31C81.5,-211.29 81.5,-201.55 81.5,-192.57\"/>\n",
       "<polygon fill=\"black\" stroke=\"black\" points=\"85,-192.53 81.5,-182.53 78,-192.53 85,-192.53\"/>\n",
       "</g>\n",
       "<!-- 1369081955520 -->\n",
       "<g id=\"node10\" class=\"node\">\n",
       "<title>1369081955520</title>\n",
       "<polygon fill=\"none\" stroke=\"black\" points=\"27,-73.5 27,-109.5 136,-109.5 136,-73.5 27,-73.5\"/>\n",
       "<text text-anchor=\"middle\" x=\"81.5\" y=\"-87.8\" font-family=\"Times New Roman,serif\" font-size=\"14.00\">flatten_4: Flatten</text>\n",
       "</g>\n",
       "<!-- 1369082040272&#45;&gt;1369081955520 -->\n",
       "<g id=\"edge9\" class=\"edge\">\n",
       "<title>1369082040272-&gt;1369081955520</title>\n",
       "<path fill=\"none\" stroke=\"black\" d=\"M81.5,-146.31C81.5,-138.29 81.5,-128.55 81.5,-119.57\"/>\n",
       "<polygon fill=\"black\" stroke=\"black\" points=\"85,-119.53 81.5,-109.53 78,-119.53 85,-119.53\"/>\n",
       "</g>\n",
       "<!-- 1369081955712 -->\n",
       "<g id=\"node11\" class=\"node\">\n",
       "<title>1369081955712</title>\n",
       "<polygon fill=\"none\" stroke=\"black\" points=\"43.5,-0.5 43.5,-36.5 119.5,-36.5 119.5,-0.5 43.5,-0.5\"/>\n",
       "<text text-anchor=\"middle\" x=\"81.5\" y=\"-14.8\" font-family=\"Times New Roman,serif\" font-size=\"14.00\">fc4: Dense</text>\n",
       "</g>\n",
       "<!-- 1369081955520&#45;&gt;1369081955712 -->\n",
       "<g id=\"edge10\" class=\"edge\">\n",
       "<title>1369081955520-&gt;1369081955712</title>\n",
       "<path fill=\"none\" stroke=\"black\" d=\"M81.5,-73.31C81.5,-65.29 81.5,-55.55 81.5,-46.57\"/>\n",
       "<polygon fill=\"black\" stroke=\"black\" points=\"85,-46.53 81.5,-36.53 78,-46.53 85,-46.53\"/>\n",
       "</g>\n",
       "</g>\n",
       "</svg>"
      ],
      "text/plain": [
       "<IPython.core.display.SVG object>"
      ]
     },
     "execution_count": 34,
     "metadata": {},
     "output_type": "execute_result"
    }
   ],
   "source": [
    "plot_model(happyModel, to_file='HappyModel2.png')\n",
    "SVG(model_to_dot(happyModel).create(prog='dot', format='svg'))"
   ]
  },
  {
   "cell_type": "code",
   "execution_count": null,
   "metadata": {},
   "outputs": [],
   "source": []
  }
 ],
 "metadata": {
  "kernelspec": {
   "display_name": "Python 3",
   "language": "python",
   "name": "python3"
  },
  "language_info": {
   "codemirror_mode": {
    "name": "ipython",
    "version": 3
   },
   "file_extension": ".py",
   "mimetype": "text/x-python",
   "name": "python",
   "nbconvert_exporter": "python",
   "pygments_lexer": "ipython3",
   "version": "3.8.5"
  }
 },
 "nbformat": 4,
 "nbformat_minor": 4
}
